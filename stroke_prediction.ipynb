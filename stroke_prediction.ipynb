{
  "cells": [
    {
      "cell_type": "markdown",
      "metadata": {
        "id": "view-in-github",
        "colab_type": "text"
      },
      "source": [
        "<a href=\"https://colab.research.google.com/github/FrittatinaDiBucatini09/Stroke_Prediction_ML_Project/blob/main/stroke_prediction.ipynb\" target=\"_parent\"><img src=\"https://colab.research.google.com/assets/colab-badge.svg\" alt=\"Open In Colab\"/></a>"
      ]
    },
    {
      "cell_type": "markdown",
      "metadata": {
        "id": "yPdd3eogL79h"
      },
      "source": [
        "**Programmazione di Applicazioni Data Intensive**\n",
        "\n",
        "Ingegneria e Scienze Informatiche\n",
        "\n",
        "**DISI** - Università di Bologna, campus di Cesena\n",
        "\n",
        "Balzani Riccardo"
      ]
    },
    {
      "cell_type": "markdown",
      "metadata": {
        "id": "D-8xFFy_MGBT"
      },
      "source": [
        "# Descrizione del problema\n",
        "\n",
        "I dataset in esame contengono informazioni cliniche di pazienti raccolte per la **previsione del rischio di ictus.** Le variabili includono dati demografici, condizioni mediche preesistenti, stili di vita e misurazioni cliniche rilevanti. I dataset presi in considerazione sono due:\n",
        "\n",
        "\n",
        "1.   [***Stroke Prediction Dataset:***](https://www.kaggle.com/datasets/fedesoriano/stroke-prediction-dataset) include variabili come stato civile e tipo di residenza (urbana/rurale), che potrebbero non essere strettamente cliniche ma utili per analisi socio-demografiche.\n",
        "\n",
        "\n",
        "2.  [ ***Stroke Risk Prediction Dataset based on Literature:***](https://www.kaggle.com/datasets/mahatiratusher/stroke-risk-prediction-dataset-v2) progettato per applicazioni di intelligenza artificiale medica, potrebbe includere feature selezionate in base a studi recenti o linee guida cliniche.\n",
        "\n",
        "L’obiettivo del progetto è sviluppare due modelli di classificazione binaria (uno per ogni dataset) che, a partire da queste informazioni, siano in grado di prevedere la probabilità di insorgenza di un ictus, al fine di supportare interventi preventivi efficaci e migliorare la gestione sanitaria dei pazienti."
      ]
    },
    {
      "cell_type": "markdown",
      "metadata": {
        "id": "tKo80DWaMIqg"
      },
      "source": [
        "# Preparazione dell'ambiente di lavoro"
      ]
    },
    {
      "cell_type": "code",
      "execution_count": 1,
      "metadata": {
        "colab": {
          "base_uri": "https://localhost:8080/"
        },
        "id": "E5-ew2hiMbL6",
        "outputId": "f1c07f92-de7c-476e-ca97-f249834ef933"
      },
      "outputs": [
        {
          "output_type": "stream",
          "name": "stdout",
          "text": [
            "Collecting colorama\n",
            "  Downloading colorama-0.4.6-py2.py3-none-any.whl.metadata (17 kB)\n",
            "Downloading colorama-0.4.6-py2.py3-none-any.whl (25 kB)\n",
            "Installing collected packages: colorama\n",
            "Successfully installed colorama-0.4.6\n"
          ]
        }
      ],
      "source": [
        "# Eseguire solo se non installata\n",
        "!pip install colorama"
      ]
    },
    {
      "cell_type": "code",
      "execution_count": 2,
      "metadata": {
        "id": "tSIg24nbMgw1"
      },
      "outputs": [],
      "source": [
        "import kagglehub\n",
        "import os\n",
        "from colorama import Fore\n",
        "import pandas as pd\n",
        "import numpy as np\n",
        "import seaborn as sns\n",
        "from mpl_toolkits.mplot3d import Axes3D\n",
        "import matplotlib.pyplot as plt\n",
        "import seaborn as sns"
      ]
    },
    {
      "cell_type": "markdown",
      "metadata": {
        "id": "SPpCNSD0Mos2"
      },
      "source": [
        "###Caricamento delle directory contenenti i dataset\n",
        "\n",
        "Le directory scaricate da *Kaggle* attraverso la funzione `kagglehub.dataset_download` conterranno i files associati al dataset in oggetto.\n",
        "**Nota bene:** nel resto del notebook il dataset *Stroke Risk Prediction Dataset based on Literature* verrà indicato come ***Stroke Prediction v2***."
      ]
    },
    {
      "cell_type": "code",
      "execution_count": 3,
      "metadata": {
        "colab": {
          "base_uri": "https://localhost:8080/"
        },
        "id": "J29ecr4oMw9c",
        "outputId": "7971b0da-c315-4700-8f34-244c402c67af"
      },
      "outputs": [
        {
          "output_type": "stream",
          "name": "stdout",
          "text": [
            "Path to dataset files: /kaggle/input/stroke-prediction-dataset\n",
            "Downloading from https://www.kaggle.com/api/v1/datasets/download/mahatiratusher/stroke-risk-prediction-dataset-v2?dataset_version_number=1...\n"
          ]
        },
        {
          "output_type": "stream",
          "name": "stderr",
          "text": [
            "100%|██████████| 240k/240k [00:00<00:00, 67.6MB/s]"
          ]
        },
        {
          "output_type": "stream",
          "name": "stdout",
          "text": [
            "Extracting files...\n",
            "Path to dataset files: /root/.cache/kagglehub/datasets/mahatiratusher/stroke-risk-prediction-dataset-v2/versions/1\n"
          ]
        },
        {
          "output_type": "stream",
          "name": "stderr",
          "text": [
            "\n"
          ]
        }
      ],
      "source": [
        "# Download Stroke Prediction Dataset\n",
        "stroke_path = kagglehub.dataset_download(\"fedesoriano/stroke-prediction-dataset\")\n",
        "print(\"Path to dataset files:\", stroke_path)\n",
        "\n",
        "# Download Stroke Risk Prediction Dataset v2\n",
        "stroke_v2_path = kagglehub.dataset_download(\"mahatiratusher/stroke-risk-prediction-dataset-v2\")\n",
        "print(\"Path to dataset files:\", stroke_v2_path)"
      ]
    },
    {
      "cell_type": "markdown",
      "metadata": {
        "id": "HEbEr7edM3uN"
      },
      "source": [
        "### Ricerca dei file csv nelle directory scaricate"
      ]
    },
    {
      "cell_type": "code",
      "execution_count": 4,
      "metadata": {
        "colab": {
          "base_uri": "https://localhost:8080/"
        },
        "id": "WzHOtGFWM4zr",
        "outputId": "816668a8-92f4-4fcc-e5ce-6890a9d62781"
      },
      "outputs": [
        {
          "output_type": "stream",
          "name": "stdout",
          "text": [
            "Loaded Stroke Prediction Dataset\n",
            "Loaded Stroke Risk Prediction Dataset v2\n"
          ]
        }
      ],
      "source": [
        "# Looking for Stroke Prediction\n",
        "for file in os.listdir(stroke_path):\n",
        "    if file.endswith(\".csv\"):\n",
        "        stroke_csv_path = os.path.join(stroke_path, file)\n",
        "        df_stroke_stock = pd.read_csv(stroke_csv_path)\n",
        "        print(\"Loaded Stroke Prediction Dataset\")\n",
        "        break\n",
        "\n",
        "# Looking for Stroke Prediction v2\n",
        "for file in os.listdir(stroke_v2_path):\n",
        "    if file.endswith(\".csv\"):\n",
        "        stroke_v2_csv_path = os.path.join(stroke_v2_path, file)\n",
        "        df_stroke_v2_stock = pd.read_csv(stroke_v2_csv_path)\n",
        "        print(\"Loaded Stroke Risk Prediction Dataset v2\")\n",
        "        break"
      ]
    },
    {
      "cell_type": "markdown",
      "metadata": {
        "id": "JwAyDzKvND9q"
      },
      "source": [
        "Shuffle dei dataset."
      ]
    },
    {
      "cell_type": "code",
      "execution_count": 5,
      "metadata": {
        "id": "HiD48QcONHTy"
      },
      "outputs": [],
      "source": [
        "df_stroke = df_stroke_stock.sample(frac=1, random_state=42).reset_index(drop=True)\n",
        "df_stroke_v2 = df_stroke_v2_stock.sample(frac=1, random_state=42).reset_index(drop=True)"
      ]
    },
    {
      "cell_type": "markdown",
      "metadata": {
        "id": "yiikm-AUNM51"
      },
      "source": [
        "# Analisi delle differenze dei due dataset"
      ]
    },
    {
      "cell_type": "code",
      "execution_count": 6,
      "metadata": {
        "colab": {
          "base_uri": "https://localhost:8080/"
        },
        "id": "4_YGKgCpNT-f",
        "outputId": "77fe679a-fba0-4da1-94a2-9275fca9e3f4"
      },
      "outputs": [
        {
          "output_type": "stream",
          "name": "stdout",
          "text": [
            "\u001b[32m\n",
            "Colonne comuni: ['gender', 'age']\n",
            "\u001b[31mColonne uniche a df_stroke: ['Residence_type', 'avg_glucose_level', 'bmi', 'ever_married', 'heart_disease', 'hypertension', 'id', 'smoking_status', 'stroke', 'work_type']\n",
            "\u001b[35mColonne uniche a df_stroke_v2: ['anxiety_doom', 'at_risk', 'chest_discomfort', 'chest_pain', 'cold_hands_feet', 'dizziness', 'excessive_sweating', 'fatigue_weakness', 'high_blood_pressure', 'irregular_heartbeat', 'nausea_vomiting', 'neck_jaw_pain', 'persistent_cough', 'shortness_of_breath', 'snoring_sleep_apnea', 'stroke_risk_percentage', 'swelling_edema']\n"
          ]
        }
      ],
      "source": [
        "common_columns = df_stroke.columns.intersection(df_stroke_v2.columns).tolist()\n",
        "unique_to_stroke = df_stroke.columns.difference(df_stroke_v2.columns).tolist()\n",
        "unique_to_stroke_v2 = df_stroke_v2.columns.difference(df_stroke.columns).tolist()\n",
        "\n",
        "print(Fore.GREEN + \"\\nColonne comuni:\", common_columns)\n",
        "print(Fore.RED + \"Colonne uniche a df_stroke:\", unique_to_stroke)\n",
        "print(Fore.MAGENTA + \"Colonne uniche a df_stroke_v2:\", unique_to_stroke_v2)"
      ]
    },
    {
      "cell_type": "markdown",
      "metadata": {
        "id": "lIwc-E_aNfE4"
      },
      "source": [
        "Da questa analisi possiamo notare come:\n",
        "\n",
        "\n",
        "1.   ***Stroke Prediction Dataset:*** ha molte colonne cliniche tradizionali come `hypertension, heart_disease, avg_glucose_level, smoking_status,` e la variabile `target stroke`, che sarà la **variabile target** per il modello di classificazione binaria. Altre colonne come `Residence_type, ever_married, work_type` sono socio-demografiche e possono essere utili per il modello pur non essendo presenti in *df_stroke_v2.*\n",
        "\n",
        "\n",
        "\n",
        "2.   ***Stroke Prediction Dataset v2:*** risulta essere più orientato ai sintomi clinici (es. `chest_pain, dizziness, shortness_breath`) e non incorpora colonne cliniche come `hypertension` e `heart_disease,` che invece sono presenti in *df_stroke.* La colonna `at_risk` è identificabile come la **variabile target** per il modello di classificazione binaria.\n",
        "\n",
        "E' possibile quindi che i due dataset possano evidenziare/ignorare parametri importanti per determinare il rischio di ictus di un paziente.\n",
        "Risulta quindi ragionevole valutare il modello di classificazione sia su *Stroke Prediction Dataset* che su *Stroke Prediction Dataset v2*.\n"
      ]
    },
    {
      "cell_type": "markdown",
      "metadata": {
        "id": "tPd4_BtXNlZ1"
      },
      "source": [
        "# Analisi di Stroke Prediction Dataset"
      ]
    },
    {
      "cell_type": "markdown",
      "metadata": {
        "id": "6QTfwxMyNpbn"
      },
      "source": [
        "In questa sezione si analizza il primo dataset ovvero ***Stroke Prediction Dataset.***\n",
        "\n",
        "<font color=\"lightgreen\">Il dataset è reperibile qui </font> [Kaggle](https://www.kaggle.com/datasets/fedesoriano/stroke-prediction-dataset)."
      ]
    },
    {
      "cell_type": "markdown",
      "metadata": {
        "id": "jlZNoZihNu_Y"
      },
      "source": [
        "### Data Exploration"
      ]
    },
    {
      "cell_type": "code",
      "execution_count": 7,
      "metadata": {
        "colab": {
          "base_uri": "https://localhost:8080/",
          "height": 206
        },
        "id": "yPNqH4OqQSJB",
        "outputId": "a4c216ae-7e46-4046-da01-e98820e4ecf7"
      },
      "outputs": [
        {
          "output_type": "execute_result",
          "data": {
            "text/plain": [
              "      id  gender   age  hypertension  heart_disease ever_married  \\\n",
              "0  40041    Male  31.0             0              0           No   \n",
              "1  55244    Male  40.0             0              0          Yes   \n",
              "2  70992  Female   8.0             0              0           No   \n",
              "3  38207  Female  79.0             1              0          Yes   \n",
              "4   8541  Female  75.0             0              0          Yes   \n",
              "\n",
              "       work_type Residence_type  avg_glucose_level   bmi smoking_status  \\\n",
              "0  Self-employed          Rural              64.85  23.0        Unknown   \n",
              "1  Self-employed          Rural              65.29  28.3   never smoked   \n",
              "2       children          Urban              74.42  22.5        Unknown   \n",
              "3  Self-employed          Rural              76.64  19.5   never smoked   \n",
              "4       Govt_job          Rural              94.77  27.2   never smoked   \n",
              "\n",
              "   stroke  \n",
              "0       0  \n",
              "1       0  \n",
              "2       0  \n",
              "3       0  \n",
              "4       0  "
            ],
            "text/html": [
              "\n",
              "  <div id=\"df-b7b57b26-4bb0-4904-b057-e386d5cc2769\" class=\"colab-df-container\">\n",
              "    <div>\n",
              "<style scoped>\n",
              "    .dataframe tbody tr th:only-of-type {\n",
              "        vertical-align: middle;\n",
              "    }\n",
              "\n",
              "    .dataframe tbody tr th {\n",
              "        vertical-align: top;\n",
              "    }\n",
              "\n",
              "    .dataframe thead th {\n",
              "        text-align: right;\n",
              "    }\n",
              "</style>\n",
              "<table border=\"1\" class=\"dataframe\">\n",
              "  <thead>\n",
              "    <tr style=\"text-align: right;\">\n",
              "      <th></th>\n",
              "      <th>id</th>\n",
              "      <th>gender</th>\n",
              "      <th>age</th>\n",
              "      <th>hypertension</th>\n",
              "      <th>heart_disease</th>\n",
              "      <th>ever_married</th>\n",
              "      <th>work_type</th>\n",
              "      <th>Residence_type</th>\n",
              "      <th>avg_glucose_level</th>\n",
              "      <th>bmi</th>\n",
              "      <th>smoking_status</th>\n",
              "      <th>stroke</th>\n",
              "    </tr>\n",
              "  </thead>\n",
              "  <tbody>\n",
              "    <tr>\n",
              "      <th>0</th>\n",
              "      <td>40041</td>\n",
              "      <td>Male</td>\n",
              "      <td>31.0</td>\n",
              "      <td>0</td>\n",
              "      <td>0</td>\n",
              "      <td>No</td>\n",
              "      <td>Self-employed</td>\n",
              "      <td>Rural</td>\n",
              "      <td>64.85</td>\n",
              "      <td>23.0</td>\n",
              "      <td>Unknown</td>\n",
              "      <td>0</td>\n",
              "    </tr>\n",
              "    <tr>\n",
              "      <th>1</th>\n",
              "      <td>55244</td>\n",
              "      <td>Male</td>\n",
              "      <td>40.0</td>\n",
              "      <td>0</td>\n",
              "      <td>0</td>\n",
              "      <td>Yes</td>\n",
              "      <td>Self-employed</td>\n",
              "      <td>Rural</td>\n",
              "      <td>65.29</td>\n",
              "      <td>28.3</td>\n",
              "      <td>never smoked</td>\n",
              "      <td>0</td>\n",
              "    </tr>\n",
              "    <tr>\n",
              "      <th>2</th>\n",
              "      <td>70992</td>\n",
              "      <td>Female</td>\n",
              "      <td>8.0</td>\n",
              "      <td>0</td>\n",
              "      <td>0</td>\n",
              "      <td>No</td>\n",
              "      <td>children</td>\n",
              "      <td>Urban</td>\n",
              "      <td>74.42</td>\n",
              "      <td>22.5</td>\n",
              "      <td>Unknown</td>\n",
              "      <td>0</td>\n",
              "    </tr>\n",
              "    <tr>\n",
              "      <th>3</th>\n",
              "      <td>38207</td>\n",
              "      <td>Female</td>\n",
              "      <td>79.0</td>\n",
              "      <td>1</td>\n",
              "      <td>0</td>\n",
              "      <td>Yes</td>\n",
              "      <td>Self-employed</td>\n",
              "      <td>Rural</td>\n",
              "      <td>76.64</td>\n",
              "      <td>19.5</td>\n",
              "      <td>never smoked</td>\n",
              "      <td>0</td>\n",
              "    </tr>\n",
              "    <tr>\n",
              "      <th>4</th>\n",
              "      <td>8541</td>\n",
              "      <td>Female</td>\n",
              "      <td>75.0</td>\n",
              "      <td>0</td>\n",
              "      <td>0</td>\n",
              "      <td>Yes</td>\n",
              "      <td>Govt_job</td>\n",
              "      <td>Rural</td>\n",
              "      <td>94.77</td>\n",
              "      <td>27.2</td>\n",
              "      <td>never smoked</td>\n",
              "      <td>0</td>\n",
              "    </tr>\n",
              "  </tbody>\n",
              "</table>\n",
              "</div>\n",
              "    <div class=\"colab-df-buttons\">\n",
              "\n",
              "  <div class=\"colab-df-container\">\n",
              "    <button class=\"colab-df-convert\" onclick=\"convertToInteractive('df-b7b57b26-4bb0-4904-b057-e386d5cc2769')\"\n",
              "            title=\"Convert this dataframe to an interactive table.\"\n",
              "            style=\"display:none;\">\n",
              "\n",
              "  <svg xmlns=\"http://www.w3.org/2000/svg\" height=\"24px\" viewBox=\"0 -960 960 960\">\n",
              "    <path d=\"M120-120v-720h720v720H120Zm60-500h600v-160H180v160Zm220 220h160v-160H400v160Zm0 220h160v-160H400v160ZM180-400h160v-160H180v160Zm440 0h160v-160H620v160ZM180-180h160v-160H180v160Zm440 0h160v-160H620v160Z\"/>\n",
              "  </svg>\n",
              "    </button>\n",
              "\n",
              "  <style>\n",
              "    .colab-df-container {\n",
              "      display:flex;\n",
              "      gap: 12px;\n",
              "    }\n",
              "\n",
              "    .colab-df-convert {\n",
              "      background-color: #E8F0FE;\n",
              "      border: none;\n",
              "      border-radius: 50%;\n",
              "      cursor: pointer;\n",
              "      display: none;\n",
              "      fill: #1967D2;\n",
              "      height: 32px;\n",
              "      padding: 0 0 0 0;\n",
              "      width: 32px;\n",
              "    }\n",
              "\n",
              "    .colab-df-convert:hover {\n",
              "      background-color: #E2EBFA;\n",
              "      box-shadow: 0px 1px 2px rgba(60, 64, 67, 0.3), 0px 1px 3px 1px rgba(60, 64, 67, 0.15);\n",
              "      fill: #174EA6;\n",
              "    }\n",
              "\n",
              "    .colab-df-buttons div {\n",
              "      margin-bottom: 4px;\n",
              "    }\n",
              "\n",
              "    [theme=dark] .colab-df-convert {\n",
              "      background-color: #3B4455;\n",
              "      fill: #D2E3FC;\n",
              "    }\n",
              "\n",
              "    [theme=dark] .colab-df-convert:hover {\n",
              "      background-color: #434B5C;\n",
              "      box-shadow: 0px 1px 3px 1px rgba(0, 0, 0, 0.15);\n",
              "      filter: drop-shadow(0px 1px 2px rgba(0, 0, 0, 0.3));\n",
              "      fill: #FFFFFF;\n",
              "    }\n",
              "  </style>\n",
              "\n",
              "    <script>\n",
              "      const buttonEl =\n",
              "        document.querySelector('#df-b7b57b26-4bb0-4904-b057-e386d5cc2769 button.colab-df-convert');\n",
              "      buttonEl.style.display =\n",
              "        google.colab.kernel.accessAllowed ? 'block' : 'none';\n",
              "\n",
              "      async function convertToInteractive(key) {\n",
              "        const element = document.querySelector('#df-b7b57b26-4bb0-4904-b057-e386d5cc2769');\n",
              "        const dataTable =\n",
              "          await google.colab.kernel.invokeFunction('convertToInteractive',\n",
              "                                                    [key], {});\n",
              "        if (!dataTable) return;\n",
              "\n",
              "        const docLinkHtml = 'Like what you see? Visit the ' +\n",
              "          '<a target=\"_blank\" href=https://colab.research.google.com/notebooks/data_table.ipynb>data table notebook</a>'\n",
              "          + ' to learn more about interactive tables.';\n",
              "        element.innerHTML = '';\n",
              "        dataTable['output_type'] = 'display_data';\n",
              "        await google.colab.output.renderOutput(dataTable, element);\n",
              "        const docLink = document.createElement('div');\n",
              "        docLink.innerHTML = docLinkHtml;\n",
              "        element.appendChild(docLink);\n",
              "      }\n",
              "    </script>\n",
              "  </div>\n",
              "\n",
              "\n",
              "    <div id=\"df-7e714c39-888e-406c-aa02-798fd4574bd8\">\n",
              "      <button class=\"colab-df-quickchart\" onclick=\"quickchart('df-7e714c39-888e-406c-aa02-798fd4574bd8')\"\n",
              "                title=\"Suggest charts\"\n",
              "                style=\"display:none;\">\n",
              "\n",
              "<svg xmlns=\"http://www.w3.org/2000/svg\" height=\"24px\"viewBox=\"0 0 24 24\"\n",
              "     width=\"24px\">\n",
              "    <g>\n",
              "        <path d=\"M19 3H5c-1.1 0-2 .9-2 2v14c0 1.1.9 2 2 2h14c1.1 0 2-.9 2-2V5c0-1.1-.9-2-2-2zM9 17H7v-7h2v7zm4 0h-2V7h2v10zm4 0h-2v-4h2v4z\"/>\n",
              "    </g>\n",
              "</svg>\n",
              "      </button>\n",
              "\n",
              "<style>\n",
              "  .colab-df-quickchart {\n",
              "      --bg-color: #E8F0FE;\n",
              "      --fill-color: #1967D2;\n",
              "      --hover-bg-color: #E2EBFA;\n",
              "      --hover-fill-color: #174EA6;\n",
              "      --disabled-fill-color: #AAA;\n",
              "      --disabled-bg-color: #DDD;\n",
              "  }\n",
              "\n",
              "  [theme=dark] .colab-df-quickchart {\n",
              "      --bg-color: #3B4455;\n",
              "      --fill-color: #D2E3FC;\n",
              "      --hover-bg-color: #434B5C;\n",
              "      --hover-fill-color: #FFFFFF;\n",
              "      --disabled-bg-color: #3B4455;\n",
              "      --disabled-fill-color: #666;\n",
              "  }\n",
              "\n",
              "  .colab-df-quickchart {\n",
              "    background-color: var(--bg-color);\n",
              "    border: none;\n",
              "    border-radius: 50%;\n",
              "    cursor: pointer;\n",
              "    display: none;\n",
              "    fill: var(--fill-color);\n",
              "    height: 32px;\n",
              "    padding: 0;\n",
              "    width: 32px;\n",
              "  }\n",
              "\n",
              "  .colab-df-quickchart:hover {\n",
              "    background-color: var(--hover-bg-color);\n",
              "    box-shadow: 0 1px 2px rgba(60, 64, 67, 0.3), 0 1px 3px 1px rgba(60, 64, 67, 0.15);\n",
              "    fill: var(--button-hover-fill-color);\n",
              "  }\n",
              "\n",
              "  .colab-df-quickchart-complete:disabled,\n",
              "  .colab-df-quickchart-complete:disabled:hover {\n",
              "    background-color: var(--disabled-bg-color);\n",
              "    fill: var(--disabled-fill-color);\n",
              "    box-shadow: none;\n",
              "  }\n",
              "\n",
              "  .colab-df-spinner {\n",
              "    border: 2px solid var(--fill-color);\n",
              "    border-color: transparent;\n",
              "    border-bottom-color: var(--fill-color);\n",
              "    animation:\n",
              "      spin 1s steps(1) infinite;\n",
              "  }\n",
              "\n",
              "  @keyframes spin {\n",
              "    0% {\n",
              "      border-color: transparent;\n",
              "      border-bottom-color: var(--fill-color);\n",
              "      border-left-color: var(--fill-color);\n",
              "    }\n",
              "    20% {\n",
              "      border-color: transparent;\n",
              "      border-left-color: var(--fill-color);\n",
              "      border-top-color: var(--fill-color);\n",
              "    }\n",
              "    30% {\n",
              "      border-color: transparent;\n",
              "      border-left-color: var(--fill-color);\n",
              "      border-top-color: var(--fill-color);\n",
              "      border-right-color: var(--fill-color);\n",
              "    }\n",
              "    40% {\n",
              "      border-color: transparent;\n",
              "      border-right-color: var(--fill-color);\n",
              "      border-top-color: var(--fill-color);\n",
              "    }\n",
              "    60% {\n",
              "      border-color: transparent;\n",
              "      border-right-color: var(--fill-color);\n",
              "    }\n",
              "    80% {\n",
              "      border-color: transparent;\n",
              "      border-right-color: var(--fill-color);\n",
              "      border-bottom-color: var(--fill-color);\n",
              "    }\n",
              "    90% {\n",
              "      border-color: transparent;\n",
              "      border-bottom-color: var(--fill-color);\n",
              "    }\n",
              "  }\n",
              "</style>\n",
              "\n",
              "      <script>\n",
              "        async function quickchart(key) {\n",
              "          const quickchartButtonEl =\n",
              "            document.querySelector('#' + key + ' button');\n",
              "          quickchartButtonEl.disabled = true;  // To prevent multiple clicks.\n",
              "          quickchartButtonEl.classList.add('colab-df-spinner');\n",
              "          try {\n",
              "            const charts = await google.colab.kernel.invokeFunction(\n",
              "                'suggestCharts', [key], {});\n",
              "          } catch (error) {\n",
              "            console.error('Error during call to suggestCharts:', error);\n",
              "          }\n",
              "          quickchartButtonEl.classList.remove('colab-df-spinner');\n",
              "          quickchartButtonEl.classList.add('colab-df-quickchart-complete');\n",
              "        }\n",
              "        (() => {\n",
              "          let quickchartButtonEl =\n",
              "            document.querySelector('#df-7e714c39-888e-406c-aa02-798fd4574bd8 button');\n",
              "          quickchartButtonEl.style.display =\n",
              "            google.colab.kernel.accessAllowed ? 'block' : 'none';\n",
              "        })();\n",
              "      </script>\n",
              "    </div>\n",
              "\n",
              "    </div>\n",
              "  </div>\n"
            ],
            "application/vnd.google.colaboratory.intrinsic+json": {
              "type": "dataframe",
              "variable_name": "df_stroke",
              "summary": "{\n  \"name\": \"df_stroke\",\n  \"rows\": 5110,\n  \"fields\": [\n    {\n      \"column\": \"id\",\n      \"properties\": {\n        \"dtype\": \"number\",\n        \"std\": 21161,\n        \"min\": 67,\n        \"max\": 72940,\n        \"num_unique_values\": 5110,\n        \"samples\": [\n          354,\n          15220,\n          7057\n        ],\n        \"semantic_type\": \"\",\n        \"description\": \"\"\n      }\n    },\n    {\n      \"column\": \"gender\",\n      \"properties\": {\n        \"dtype\": \"category\",\n        \"num_unique_values\": 3,\n        \"samples\": [\n          \"Male\",\n          \"Female\",\n          \"Other\"\n        ],\n        \"semantic_type\": \"\",\n        \"description\": \"\"\n      }\n    },\n    {\n      \"column\": \"age\",\n      \"properties\": {\n        \"dtype\": \"number\",\n        \"std\": 22.61264672311351,\n        \"min\": 0.08,\n        \"max\": 82.0,\n        \"num_unique_values\": 104,\n        \"samples\": [\n          1.16,\n          33.0,\n          59.0\n        ],\n        \"semantic_type\": \"\",\n        \"description\": \"\"\n      }\n    },\n    {\n      \"column\": \"hypertension\",\n      \"properties\": {\n        \"dtype\": \"number\",\n        \"std\": 0,\n        \"min\": 0,\n        \"max\": 1,\n        \"num_unique_values\": 2,\n        \"samples\": [\n          1,\n          0\n        ],\n        \"semantic_type\": \"\",\n        \"description\": \"\"\n      }\n    },\n    {\n      \"column\": \"heart_disease\",\n      \"properties\": {\n        \"dtype\": \"number\",\n        \"std\": 0,\n        \"min\": 0,\n        \"max\": 1,\n        \"num_unique_values\": 2,\n        \"samples\": [\n          1,\n          0\n        ],\n        \"semantic_type\": \"\",\n        \"description\": \"\"\n      }\n    },\n    {\n      \"column\": \"ever_married\",\n      \"properties\": {\n        \"dtype\": \"category\",\n        \"num_unique_values\": 2,\n        \"samples\": [\n          \"Yes\",\n          \"No\"\n        ],\n        \"semantic_type\": \"\",\n        \"description\": \"\"\n      }\n    },\n    {\n      \"column\": \"work_type\",\n      \"properties\": {\n        \"dtype\": \"category\",\n        \"num_unique_values\": 5,\n        \"samples\": [\n          \"children\",\n          \"Never_worked\"\n        ],\n        \"semantic_type\": \"\",\n        \"description\": \"\"\n      }\n    },\n    {\n      \"column\": \"Residence_type\",\n      \"properties\": {\n        \"dtype\": \"category\",\n        \"num_unique_values\": 2,\n        \"samples\": [\n          \"Urban\",\n          \"Rural\"\n        ],\n        \"semantic_type\": \"\",\n        \"description\": \"\"\n      }\n    },\n    {\n      \"column\": \"avg_glucose_level\",\n      \"properties\": {\n        \"dtype\": \"number\",\n        \"std\": 45.283560150582026,\n        \"min\": 55.12,\n        \"max\": 271.74,\n        \"num_unique_values\": 3979,\n        \"samples\": [\n          80.94,\n          141.23\n        ],\n        \"semantic_type\": \"\",\n        \"description\": \"\"\n      }\n    },\n    {\n      \"column\": \"bmi\",\n      \"properties\": {\n        \"dtype\": \"number\",\n        \"std\": 7.854066729680142,\n        \"min\": 10.3,\n        \"max\": 97.6,\n        \"num_unique_values\": 418,\n        \"samples\": [\n          44.5,\n          22.6\n        ],\n        \"semantic_type\": \"\",\n        \"description\": \"\"\n      }\n    },\n    {\n      \"column\": \"smoking_status\",\n      \"properties\": {\n        \"dtype\": \"category\",\n        \"num_unique_values\": 4,\n        \"samples\": [\n          \"never smoked\",\n          \"formerly smoked\"\n        ],\n        \"semantic_type\": \"\",\n        \"description\": \"\"\n      }\n    },\n    {\n      \"column\": \"stroke\",\n      \"properties\": {\n        \"dtype\": \"number\",\n        \"std\": 0,\n        \"min\": 0,\n        \"max\": 1,\n        \"num_unique_values\": 2,\n        \"samples\": [\n          1,\n          0\n        ],\n        \"semantic_type\": \"\",\n        \"description\": \"\"\n      }\n    }\n  ]\n}"
            }
          },
          "metadata": {},
          "execution_count": 7
        }
      ],
      "source": [
        "df_stroke.head()"
      ]
    },
    {
      "cell_type": "markdown",
      "metadata": {
        "id": "K-NNvW8yQutO"
      },
      "source": [
        "Il dataset *Stroke Prediction Dataset* contiene le seguenti feature, come evidenziato dalla prima visualizzazione:\n",
        "\n",
        "* `id:` identificativo univoco di ciascun paziente (feature da rimuovere in fase di preprocessing).\n",
        "* `gender:` genere del paziente (Maschio/Femmina/Other).\n",
        "* `age:` età espressa in anni.\n",
        "* `hypertension:` presenza o assenza di ipertensione (binaria, 0/1).\n",
        "* `heart_disease:` presenza o assenza di malattie cardiache (binaria, 0/1).\n",
        "* `ever_married:` stato civile (Sì/No).\n",
        "* `work_type:` tipologia di lavoro (categorie come Private, Self-employed, ecc.).\n",
        "* `Residence_type:` tipo di residenza (Urban/Rural).\n",
        "* `avg_glucose_level:` livello medio di glucosio nel sangue.\n",
        "* `bmi:` indice di massa corporea (con alcuni valori mancanti da imputare).\n",
        "* `smoking_status:` stato del fumo (es. never smoked, formerly smoked, smokes).\n",
        "* `stroke:` variabile target, indica se il paziente ha avuto un ictus (1) o no (0).\n"
      ]
    },
    {
      "cell_type": "code",
      "execution_count": 8,
      "metadata": {
        "colab": {
          "base_uri": "https://localhost:8080/",
          "height": 300
        },
        "id": "tz45JKVeRRQb",
        "outputId": "d96a436d-9e5d-4a7f-a9f2-40cc8ff59673"
      },
      "outputs": [
        {
          "output_type": "execute_result",
          "data": {
            "text/plain": [
              "                 id          age  hypertension  heart_disease  \\\n",
              "count   5110.000000  5110.000000   5110.000000    5110.000000   \n",
              "mean   36517.829354    43.226614      0.097456       0.054012   \n",
              "std    21161.721625    22.612647      0.296607       0.226063   \n",
              "min       67.000000     0.080000      0.000000       0.000000   \n",
              "25%    17741.250000    25.000000      0.000000       0.000000   \n",
              "50%    36932.000000    45.000000      0.000000       0.000000   \n",
              "75%    54682.000000    61.000000      0.000000       0.000000   \n",
              "max    72940.000000    82.000000      1.000000       1.000000   \n",
              "\n",
              "       avg_glucose_level          bmi       stroke  \n",
              "count        5110.000000  4909.000000  5110.000000  \n",
              "mean          106.147677    28.893237     0.048728  \n",
              "std            45.283560     7.854067     0.215320  \n",
              "min            55.120000    10.300000     0.000000  \n",
              "25%            77.245000    23.500000     0.000000  \n",
              "50%            91.885000    28.100000     0.000000  \n",
              "75%           114.090000    33.100000     0.000000  \n",
              "max           271.740000    97.600000     1.000000  "
            ],
            "text/html": [
              "\n",
              "  <div id=\"df-bce8f96e-2e65-4968-840a-79df7f602cff\" class=\"colab-df-container\">\n",
              "    <div>\n",
              "<style scoped>\n",
              "    .dataframe tbody tr th:only-of-type {\n",
              "        vertical-align: middle;\n",
              "    }\n",
              "\n",
              "    .dataframe tbody tr th {\n",
              "        vertical-align: top;\n",
              "    }\n",
              "\n",
              "    .dataframe thead th {\n",
              "        text-align: right;\n",
              "    }\n",
              "</style>\n",
              "<table border=\"1\" class=\"dataframe\">\n",
              "  <thead>\n",
              "    <tr style=\"text-align: right;\">\n",
              "      <th></th>\n",
              "      <th>id</th>\n",
              "      <th>age</th>\n",
              "      <th>hypertension</th>\n",
              "      <th>heart_disease</th>\n",
              "      <th>avg_glucose_level</th>\n",
              "      <th>bmi</th>\n",
              "      <th>stroke</th>\n",
              "    </tr>\n",
              "  </thead>\n",
              "  <tbody>\n",
              "    <tr>\n",
              "      <th>count</th>\n",
              "      <td>5110.000000</td>\n",
              "      <td>5110.000000</td>\n",
              "      <td>5110.000000</td>\n",
              "      <td>5110.000000</td>\n",
              "      <td>5110.000000</td>\n",
              "      <td>4909.000000</td>\n",
              "      <td>5110.000000</td>\n",
              "    </tr>\n",
              "    <tr>\n",
              "      <th>mean</th>\n",
              "      <td>36517.829354</td>\n",
              "      <td>43.226614</td>\n",
              "      <td>0.097456</td>\n",
              "      <td>0.054012</td>\n",
              "      <td>106.147677</td>\n",
              "      <td>28.893237</td>\n",
              "      <td>0.048728</td>\n",
              "    </tr>\n",
              "    <tr>\n",
              "      <th>std</th>\n",
              "      <td>21161.721625</td>\n",
              "      <td>22.612647</td>\n",
              "      <td>0.296607</td>\n",
              "      <td>0.226063</td>\n",
              "      <td>45.283560</td>\n",
              "      <td>7.854067</td>\n",
              "      <td>0.215320</td>\n",
              "    </tr>\n",
              "    <tr>\n",
              "      <th>min</th>\n",
              "      <td>67.000000</td>\n",
              "      <td>0.080000</td>\n",
              "      <td>0.000000</td>\n",
              "      <td>0.000000</td>\n",
              "      <td>55.120000</td>\n",
              "      <td>10.300000</td>\n",
              "      <td>0.000000</td>\n",
              "    </tr>\n",
              "    <tr>\n",
              "      <th>25%</th>\n",
              "      <td>17741.250000</td>\n",
              "      <td>25.000000</td>\n",
              "      <td>0.000000</td>\n",
              "      <td>0.000000</td>\n",
              "      <td>77.245000</td>\n",
              "      <td>23.500000</td>\n",
              "      <td>0.000000</td>\n",
              "    </tr>\n",
              "    <tr>\n",
              "      <th>50%</th>\n",
              "      <td>36932.000000</td>\n",
              "      <td>45.000000</td>\n",
              "      <td>0.000000</td>\n",
              "      <td>0.000000</td>\n",
              "      <td>91.885000</td>\n",
              "      <td>28.100000</td>\n",
              "      <td>0.000000</td>\n",
              "    </tr>\n",
              "    <tr>\n",
              "      <th>75%</th>\n",
              "      <td>54682.000000</td>\n",
              "      <td>61.000000</td>\n",
              "      <td>0.000000</td>\n",
              "      <td>0.000000</td>\n",
              "      <td>114.090000</td>\n",
              "      <td>33.100000</td>\n",
              "      <td>0.000000</td>\n",
              "    </tr>\n",
              "    <tr>\n",
              "      <th>max</th>\n",
              "      <td>72940.000000</td>\n",
              "      <td>82.000000</td>\n",
              "      <td>1.000000</td>\n",
              "      <td>1.000000</td>\n",
              "      <td>271.740000</td>\n",
              "      <td>97.600000</td>\n",
              "      <td>1.000000</td>\n",
              "    </tr>\n",
              "  </tbody>\n",
              "</table>\n",
              "</div>\n",
              "    <div class=\"colab-df-buttons\">\n",
              "\n",
              "  <div class=\"colab-df-container\">\n",
              "    <button class=\"colab-df-convert\" onclick=\"convertToInteractive('df-bce8f96e-2e65-4968-840a-79df7f602cff')\"\n",
              "            title=\"Convert this dataframe to an interactive table.\"\n",
              "            style=\"display:none;\">\n",
              "\n",
              "  <svg xmlns=\"http://www.w3.org/2000/svg\" height=\"24px\" viewBox=\"0 -960 960 960\">\n",
              "    <path d=\"M120-120v-720h720v720H120Zm60-500h600v-160H180v160Zm220 220h160v-160H400v160Zm0 220h160v-160H400v160ZM180-400h160v-160H180v160Zm440 0h160v-160H620v160ZM180-180h160v-160H180v160Zm440 0h160v-160H620v160Z\"/>\n",
              "  </svg>\n",
              "    </button>\n",
              "\n",
              "  <style>\n",
              "    .colab-df-container {\n",
              "      display:flex;\n",
              "      gap: 12px;\n",
              "    }\n",
              "\n",
              "    .colab-df-convert {\n",
              "      background-color: #E8F0FE;\n",
              "      border: none;\n",
              "      border-radius: 50%;\n",
              "      cursor: pointer;\n",
              "      display: none;\n",
              "      fill: #1967D2;\n",
              "      height: 32px;\n",
              "      padding: 0 0 0 0;\n",
              "      width: 32px;\n",
              "    }\n",
              "\n",
              "    .colab-df-convert:hover {\n",
              "      background-color: #E2EBFA;\n",
              "      box-shadow: 0px 1px 2px rgba(60, 64, 67, 0.3), 0px 1px 3px 1px rgba(60, 64, 67, 0.15);\n",
              "      fill: #174EA6;\n",
              "    }\n",
              "\n",
              "    .colab-df-buttons div {\n",
              "      margin-bottom: 4px;\n",
              "    }\n",
              "\n",
              "    [theme=dark] .colab-df-convert {\n",
              "      background-color: #3B4455;\n",
              "      fill: #D2E3FC;\n",
              "    }\n",
              "\n",
              "    [theme=dark] .colab-df-convert:hover {\n",
              "      background-color: #434B5C;\n",
              "      box-shadow: 0px 1px 3px 1px rgba(0, 0, 0, 0.15);\n",
              "      filter: drop-shadow(0px 1px 2px rgba(0, 0, 0, 0.3));\n",
              "      fill: #FFFFFF;\n",
              "    }\n",
              "  </style>\n",
              "\n",
              "    <script>\n",
              "      const buttonEl =\n",
              "        document.querySelector('#df-bce8f96e-2e65-4968-840a-79df7f602cff button.colab-df-convert');\n",
              "      buttonEl.style.display =\n",
              "        google.colab.kernel.accessAllowed ? 'block' : 'none';\n",
              "\n",
              "      async function convertToInteractive(key) {\n",
              "        const element = document.querySelector('#df-bce8f96e-2e65-4968-840a-79df7f602cff');\n",
              "        const dataTable =\n",
              "          await google.colab.kernel.invokeFunction('convertToInteractive',\n",
              "                                                    [key], {});\n",
              "        if (!dataTable) return;\n",
              "\n",
              "        const docLinkHtml = 'Like what you see? Visit the ' +\n",
              "          '<a target=\"_blank\" href=https://colab.research.google.com/notebooks/data_table.ipynb>data table notebook</a>'\n",
              "          + ' to learn more about interactive tables.';\n",
              "        element.innerHTML = '';\n",
              "        dataTable['output_type'] = 'display_data';\n",
              "        await google.colab.output.renderOutput(dataTable, element);\n",
              "        const docLink = document.createElement('div');\n",
              "        docLink.innerHTML = docLinkHtml;\n",
              "        element.appendChild(docLink);\n",
              "      }\n",
              "    </script>\n",
              "  </div>\n",
              "\n",
              "\n",
              "    <div id=\"df-f5c182ee-ba26-4b64-b123-45103125e74a\">\n",
              "      <button class=\"colab-df-quickchart\" onclick=\"quickchart('df-f5c182ee-ba26-4b64-b123-45103125e74a')\"\n",
              "                title=\"Suggest charts\"\n",
              "                style=\"display:none;\">\n",
              "\n",
              "<svg xmlns=\"http://www.w3.org/2000/svg\" height=\"24px\"viewBox=\"0 0 24 24\"\n",
              "     width=\"24px\">\n",
              "    <g>\n",
              "        <path d=\"M19 3H5c-1.1 0-2 .9-2 2v14c0 1.1.9 2 2 2h14c1.1 0 2-.9 2-2V5c0-1.1-.9-2-2-2zM9 17H7v-7h2v7zm4 0h-2V7h2v10zm4 0h-2v-4h2v4z\"/>\n",
              "    </g>\n",
              "</svg>\n",
              "      </button>\n",
              "\n",
              "<style>\n",
              "  .colab-df-quickchart {\n",
              "      --bg-color: #E8F0FE;\n",
              "      --fill-color: #1967D2;\n",
              "      --hover-bg-color: #E2EBFA;\n",
              "      --hover-fill-color: #174EA6;\n",
              "      --disabled-fill-color: #AAA;\n",
              "      --disabled-bg-color: #DDD;\n",
              "  }\n",
              "\n",
              "  [theme=dark] .colab-df-quickchart {\n",
              "      --bg-color: #3B4455;\n",
              "      --fill-color: #D2E3FC;\n",
              "      --hover-bg-color: #434B5C;\n",
              "      --hover-fill-color: #FFFFFF;\n",
              "      --disabled-bg-color: #3B4455;\n",
              "      --disabled-fill-color: #666;\n",
              "  }\n",
              "\n",
              "  .colab-df-quickchart {\n",
              "    background-color: var(--bg-color);\n",
              "    border: none;\n",
              "    border-radius: 50%;\n",
              "    cursor: pointer;\n",
              "    display: none;\n",
              "    fill: var(--fill-color);\n",
              "    height: 32px;\n",
              "    padding: 0;\n",
              "    width: 32px;\n",
              "  }\n",
              "\n",
              "  .colab-df-quickchart:hover {\n",
              "    background-color: var(--hover-bg-color);\n",
              "    box-shadow: 0 1px 2px rgba(60, 64, 67, 0.3), 0 1px 3px 1px rgba(60, 64, 67, 0.15);\n",
              "    fill: var(--button-hover-fill-color);\n",
              "  }\n",
              "\n",
              "  .colab-df-quickchart-complete:disabled,\n",
              "  .colab-df-quickchart-complete:disabled:hover {\n",
              "    background-color: var(--disabled-bg-color);\n",
              "    fill: var(--disabled-fill-color);\n",
              "    box-shadow: none;\n",
              "  }\n",
              "\n",
              "  .colab-df-spinner {\n",
              "    border: 2px solid var(--fill-color);\n",
              "    border-color: transparent;\n",
              "    border-bottom-color: var(--fill-color);\n",
              "    animation:\n",
              "      spin 1s steps(1) infinite;\n",
              "  }\n",
              "\n",
              "  @keyframes spin {\n",
              "    0% {\n",
              "      border-color: transparent;\n",
              "      border-bottom-color: var(--fill-color);\n",
              "      border-left-color: var(--fill-color);\n",
              "    }\n",
              "    20% {\n",
              "      border-color: transparent;\n",
              "      border-left-color: var(--fill-color);\n",
              "      border-top-color: var(--fill-color);\n",
              "    }\n",
              "    30% {\n",
              "      border-color: transparent;\n",
              "      border-left-color: var(--fill-color);\n",
              "      border-top-color: var(--fill-color);\n",
              "      border-right-color: var(--fill-color);\n",
              "    }\n",
              "    40% {\n",
              "      border-color: transparent;\n",
              "      border-right-color: var(--fill-color);\n",
              "      border-top-color: var(--fill-color);\n",
              "    }\n",
              "    60% {\n",
              "      border-color: transparent;\n",
              "      border-right-color: var(--fill-color);\n",
              "    }\n",
              "    80% {\n",
              "      border-color: transparent;\n",
              "      border-right-color: var(--fill-color);\n",
              "      border-bottom-color: var(--fill-color);\n",
              "    }\n",
              "    90% {\n",
              "      border-color: transparent;\n",
              "      border-bottom-color: var(--fill-color);\n",
              "    }\n",
              "  }\n",
              "</style>\n",
              "\n",
              "      <script>\n",
              "        async function quickchart(key) {\n",
              "          const quickchartButtonEl =\n",
              "            document.querySelector('#' + key + ' button');\n",
              "          quickchartButtonEl.disabled = true;  // To prevent multiple clicks.\n",
              "          quickchartButtonEl.classList.add('colab-df-spinner');\n",
              "          try {\n",
              "            const charts = await google.colab.kernel.invokeFunction(\n",
              "                'suggestCharts', [key], {});\n",
              "          } catch (error) {\n",
              "            console.error('Error during call to suggestCharts:', error);\n",
              "          }\n",
              "          quickchartButtonEl.classList.remove('colab-df-spinner');\n",
              "          quickchartButtonEl.classList.add('colab-df-quickchart-complete');\n",
              "        }\n",
              "        (() => {\n",
              "          let quickchartButtonEl =\n",
              "            document.querySelector('#df-f5c182ee-ba26-4b64-b123-45103125e74a button');\n",
              "          quickchartButtonEl.style.display =\n",
              "            google.colab.kernel.accessAllowed ? 'block' : 'none';\n",
              "        })();\n",
              "      </script>\n",
              "    </div>\n",
              "\n",
              "    </div>\n",
              "  </div>\n"
            ],
            "application/vnd.google.colaboratory.intrinsic+json": {
              "type": "dataframe",
              "summary": "{\n  \"name\": \"df_stroke\",\n  \"rows\": 8,\n  \"fields\": [\n    {\n      \"column\": \"id\",\n      \"properties\": {\n        \"dtype\": \"number\",\n        \"std\": 24739.068353587056,\n        \"min\": 67.0,\n        \"max\": 72940.0,\n        \"num_unique_values\": 8,\n        \"samples\": [\n          36517.82935420744,\n          36932.0,\n          5110.0\n        ],\n        \"semantic_type\": \"\",\n        \"description\": \"\"\n      }\n    },\n    {\n      \"column\": \"age\",\n      \"properties\": {\n        \"dtype\": \"number\",\n        \"std\": 1792.744047061404,\n        \"min\": 0.08,\n        \"max\": 5110.0,\n        \"num_unique_values\": 8,\n        \"samples\": [\n          43.226614481409,\n          45.0,\n          5110.0\n        ],\n        \"semantic_type\": \"\",\n        \"description\": \"\"\n      }\n    },\n    {\n      \"column\": \"hypertension\",\n      \"properties\": {\n        \"dtype\": \"number\",\n        \"std\": 1806.5874475501562,\n        \"min\": 0.0,\n        \"max\": 5110.0,\n        \"num_unique_values\": 5,\n        \"samples\": [\n          0.0974559686888454,\n          1.0,\n          0.2966066742337869\n        ],\n        \"semantic_type\": \"\",\n        \"description\": \"\"\n      }\n    },\n    {\n      \"column\": \"heart_disease\",\n      \"properties\": {\n        \"dtype\": \"number\",\n        \"std\": 1806.593204812832,\n        \"min\": 0.0,\n        \"max\": 5110.0,\n        \"num_unique_values\": 5,\n        \"samples\": [\n          0.05401174168297456,\n          1.0,\n          0.22606298750336482\n        ],\n        \"semantic_type\": \"\",\n        \"description\": \"\"\n      }\n    },\n    {\n      \"column\": \"avg_glucose_level\",\n      \"properties\": {\n        \"dtype\": \"number\",\n        \"std\": 1769.6002138244987,\n        \"min\": 45.283560150582026,\n        \"max\": 5110.0,\n        \"num_unique_values\": 8,\n        \"samples\": [\n          106.1476771037182,\n          91.88499999999999,\n          5110.0\n        ],\n        \"semantic_type\": \"\",\n        \"description\": \"\"\n      }\n    },\n    {\n      \"column\": \"bmi\",\n      \"properties\": {\n        \"dtype\": \"number\",\n        \"std\": 1724.2356567020179,\n        \"min\": 7.854066729680142,\n        \"max\": 4909.0,\n        \"num_unique_values\": 8,\n        \"samples\": [\n          28.893236911794663,\n          28.1,\n          4909.0\n        ],\n        \"semantic_type\": \"\",\n        \"description\": \"\"\n      }\n    },\n    {\n      \"column\": \"stroke\",\n      \"properties\": {\n        \"dtype\": \"number\",\n        \"std\": 1806.5940143142543,\n        \"min\": 0.0,\n        \"max\": 5110.0,\n        \"num_unique_values\": 5,\n        \"samples\": [\n          0.0487279843444227,\n          1.0,\n          0.2153198569802473\n        ],\n        \"semantic_type\": \"\",\n        \"description\": \"\"\n      }\n    }\n  ]\n}"
            }
          },
          "metadata": {},
          "execution_count": 8
        }
      ],
      "source": [
        "df_stroke.describe()"
      ]
    },
    {
      "cell_type": "markdown",
      "metadata": {
        "id": "TzinyNklRTZx"
      },
      "source": [
        "Si pone l'attenzione su una serie di dati:\n",
        "\n",
        "\n",
        "1.   <u>**Valori mancanti:**</u>\n",
        "*  ` bmi`: mostra 201 valori assenti, circa il 3.9% del totale.\n",
        "\n",
        "2. <u>**Possibili outlier:**</u>\n",
        "*   `age`: minimo 0.08 anni, circa un mese d'età, probabilmente si tratta di un errore.\n",
        "* `bmi` massimo 97.6 kg/m² e `avg_glucose_level` massimo 271.7 mg/dL. Si tratta di valori estremi che potrebbero distorcere le statistiche.\n",
        "\n",
        "3. <u>**Distribuzione delle comorbidità:**</u>\n",
        "* Ipertensione, circa 10 %, e malattie cardiache, circa 5 %, sono relativamente rare ma potenzialmente molto informative per la predizione.\n",
        "\n",
        "4. <u>**Età e fattori metabolici:**</u>\n",
        "* Età mediana 45 anni e media glicemica 106 mg/dL suggeriscono una popolazione eterogenea, con parte dei soggetti a rischio metabolico."
      ]
    },
    {
      "cell_type": "code",
      "execution_count": 9,
      "metadata": {
        "colab": {
          "base_uri": "https://localhost:8080/"
        },
        "id": "HF7ZHex7OXDR",
        "outputId": "098fa497-116c-4caa-a8da-6f2b2105c846"
      },
      "outputs": [
        {
          "output_type": "stream",
          "name": "stdout",
          "text": [
            "Valori unici di 'stroke': [0 1]\n",
            "\n",
            "Distribuzione assoluta di 'stroke':\n",
            "stroke\n",
            "0    4861\n",
            "1     249\n",
            "Name: count, dtype: int64\n",
            "\u001b[34m\n",
            "Distribuzione relativa di stroke (in %):\n",
            "stroke\n",
            "0    95.127202\n",
            "1     4.872798\n",
            "Name: proportion, dtype: float64\n",
            "\u001b[31m\n",
            "Il dataset è sbilanciato.\n"
          ]
        }
      ],
      "source": [
        "# Calculating the balance of the target stroke variable\n",
        "def target_balance (target, dataset):\n",
        "  print(\"Valori unici di '\" + target + \"':\", dataset[target].unique())\n",
        "\n",
        "  absolute_distribution = dataset[target].value_counts()\n",
        "  print(\"\\nDistribuzione assoluta di '\" + target + \"':\")\n",
        "  print(absolute_distribution)\n",
        "\n",
        "  relative_distribution = dataset[target].value_counts(normalize=True) * 100\n",
        "  print(Fore.BLUE + \"\\nDistribuzione relativa di \" + target + \" (in %):\")\n",
        "  print(relative_distribution)\n",
        "\n",
        "  if relative_distribution.min() < 40:\n",
        "    print(Fore.RED + \"\\nIl dataset è sbilanciato.\")\n",
        "  else:\n",
        "    print(Fore.GREEN + \"\\nIl dataset è bilanciato.\")\n",
        "\n",
        "target_balance('stroke', df_stroke)"
      ]
    },
    {
      "cell_type": "code",
      "execution_count": 10,
      "metadata": {
        "colab": {
          "base_uri": "https://localhost:8080/",
          "height": 472
        },
        "id": "qLQHTVOOS4Tn",
        "outputId": "84e52fe9-b4f2-42b7-e7c1-f6a6e46e8e42"
      },
      "outputs": [
        {
          "output_type": "display_data",
          "data": {
            "text/plain": [
              "<Figure size 640x480 with 1 Axes>"
            ],
            "image/png": "[encoded data removed]"
          },
          "metadata": {}
        }
      ],
      "source": [
        "sns.countplot(x='stroke', data=df_stroke)\n",
        "plt.title(\"Distribuzione Target Stroke\")\n",
        "plt.show()"
      ]
    },
    {
      "cell_type": "markdown",
      "metadata": {
        "id": "Dyf0BHqIS82z"
      },
      "source": [
        "Solamente il 4.872798% dei pazienti presenti nel dataset presenta la variabile `stroke=1`."
      ]
    },
    {
      "cell_type": "code",
      "execution_count": 11,
      "metadata": {
        "colab": {
          "base_uri": "https://localhost:8080/"
        },
        "id": "ksuwzE7gQ3Sn",
        "outputId": "9dde9ce5-c188-44d8-e6b5-2ee0b37230aa"
      },
      "outputs": [
        {
          "output_type": "stream",
          "name": "stdout",
          "text": [
            "Valori mancanti per colonna:\n",
            "id                     0\n",
            "gender                 0\n",
            "age                    0\n",
            "hypertension           0\n",
            "heart_disease          0\n",
            "ever_married           0\n",
            "work_type              0\n",
            "Residence_type         0\n",
            "avg_glucose_level      0\n",
            "bmi                  201\n",
            "smoking_status         0\n",
            "stroke                 0\n",
            "dtype: int64\n",
            "\n",
            "Percentuale di valori mancanti per colonna:\n",
            "id                   0.000000\n",
            "gender               0.000000\n",
            "age                  0.000000\n",
            "hypertension         0.000000\n",
            "heart_disease        0.000000\n",
            "ever_married         0.000000\n",
            "work_type            0.000000\n",
            "Residence_type       0.000000\n",
            "avg_glucose_level    0.000000\n",
            "bmi                  3.933464\n",
            "smoking_status       0.000000\n",
            "stroke               0.000000\n",
            "dtype: float64\n"
          ]
        }
      ],
      "source": [
        "# Count missing values ​​for each column\n",
        "missing_values = df_stroke.isna().sum()\n",
        "print(\"Valori mancanti per colonna:\")\n",
        "print(missing_values)\n",
        "\n",
        "# Calculate the percentage of missing values ​​per column\n",
        "missing_percentage = (df_stroke.isna().sum() / len(df_stroke)) * 100\n",
        "print(\"\\nPercentuale di valori mancanti per colonna:\")\n",
        "print(missing_percentage)"
      ]
    },
    {
      "cell_type": "code",
      "execution_count": 12,
      "metadata": {
        "colab": {
          "base_uri": "https://localhost:8080/",
          "height": 657
        },
        "id": "5j54e35EQ8A8",
        "outputId": "4911e5ec-dd54-4ece-a67b-b42fd3d63a7e"
      },
      "outputs": [
        {
          "output_type": "display_data",
          "data": {
            "text/plain": [
              "<Figure size 1000x600 with 1 Axes>"
            ],
            "image/png": "[encoded data removed]"
          },
          "metadata": {}
        }
      ],
      "source": [
        "def heat_map_NaN(dataset):\n",
        "  plt.figure(figsize=(10, 6))\n",
        "  sns.heatmap(dataset.isna(), cbar=False, cmap='viridis', yticklabels=False)\n",
        "  plt.title(\"Heatmap dei valori mancanti nel dataset\")\n",
        "  plt.show()\n",
        "\n",
        "heat_map_NaN(df_stroke)"
      ]
    },
    {
      "cell_type": "code",
      "execution_count": 13,
      "metadata": {
        "colab": {
          "base_uri": "https://localhost:8080/"
        },
        "id": "-1Nhlw7FQ_ww",
        "outputId": "3997fd49-d947-41c7-d1d7-e66f1ed1ee57"
      },
      "outputs": [
        {
          "output_type": "stream",
          "name": "stdout",
          "text": [
            "Numero di 'Other' in 'gender': 1\n",
            "\u001b[31mPercentuale di 'Other' in 'gender': 0.01957%\n"
          ]
        }
      ],
      "source": [
        "# Count occurrences of values ​​in column 'gender'\n",
        "gender_counts = df_stroke['gender'].value_counts()\n",
        "\n",
        "# Calculate the total number of rows\n",
        "total_rows = len(df_stroke)\n",
        "\n",
        "# Calculate the percentage of 'Other'\n",
        "other_count = gender_counts.get('Other', 0)\n",
        "other_percentage = (other_count / total_rows) * 100\n",
        "\n",
        "# Print the result\n",
        "print(f\"Numero di 'Other' in 'gender': {other_count}\")\n",
        "print(Fore.RED + f\"Percentuale di 'Other' in 'gender': {other_percentage:.5f}%\")"
      ]
    },
    {
      "cell_type": "markdown",
      "metadata": {
        "id": "oHl_Vu3DRE4z"
      },
      "source": [
        "In fase di preprocessing, sarà necessario:\n",
        "\n",
        "1. Rimuovere la colonna `id` in quanto non informativa per la modellazione.\n",
        "2. Gestire i valori mancanti nella colonna `bmi`, ad esempio con imputazione tramite mediana.\n",
        "3. Rimuovere l'unica occorrenza di *Other* nella colonna `gender`.\n",
        "\n",
        "4. Codificare le variabili categoriche tramite tecniche come *One-Hot Encoding.*\n",
        "5. Bilanciare il dataset in considerazione dello sbilanciamento naturale della variabile target stroke (circa 5% positivi).\n",
        "\n",
        "La variabile target `stroke` è binaria e indica la presenza di un ictus. Si osserva uno sbilanciamento significativo, che rende necessario l’impiego di tecniche di bilanciamento come SMOTE."
      ]
    },
    {
      "cell_type": "code",
      "execution_count": 14,
      "metadata": {
        "colab": {
          "base_uri": "https://localhost:8080/",
          "height": 564
        },
        "id": "hHvFigVeSj63",
        "outputId": "d288087f-2be9-4867-aff3-ea1e965df5c2"
      },
      "outputs": [
        {
          "output_type": "display_data",
          "data": {
            "text/plain": [
              "<Figure size 800x600 with 1 Axes>"
            ],
            "image/png": "[encoded data removed]"
          },
          "metadata": {}
        }
      ],
      "source": [
        "plt.figure(figsize=(8,6))\n",
        "sns.boxplot(x='stroke', y='age', data=df_stroke)\n",
        "plt.yticks(np.arange(0, 101, 5))\n",
        "\n",
        "plt.title(\"Distribuzione Età in base a Stroke\")\n",
        "plt.xlabel(\"Stroke\")\n",
        "plt.ylabel(\"Età\")\n",
        "plt.show()"
      ]
    },
    {
      "cell_type": "markdown",
      "metadata": {
        "id": "13LqfEyPaxmd"
      },
      "source": [
        "Come si nota dal box plot:\n",
        "- Per i pazienti **senza ictus (`stroke = 0`)**:\n",
        "  - La mediana dell’età è circa intorno ai 40-45 anni.\n",
        "  - Il 50% centrale dei dati (intervallo interquartile) va da circa 25 a 60 anni.\n",
        "  - L’età minima si avvicina a 0 anni, mentre quella massima supera gli 80 anni.\n",
        "  - La distribuzione è abbastanza ampia e copre una vasta fascia d’età.\n",
        "\n",
        "- Per i pazienti **con ictus (`stroke = 1`)**:\n",
        "  - La mediana dell’età è molto più alta, attorno ai 70-75 anni.\n",
        "  - Il 50% centrale dei dati si trova tra circa 60 e 80 anni.\n",
        "  - Gli estremi variano da circa 30 a oltre 80 anni.\n",
        "  - Sono presenti alcuni outlier con età molto basse (vicino a 0 o poco più), che potrebbero rappresentare casi particolari o errori nei dati.\n",
        "\n",
        "Possiamo osservare che:\n",
        "\n",
        "- L’età media dei pazienti che hanno avuto un ictus è significativamente più alta rispetto a quelli che non lo hanno avuto.\n",
        "- L’ictus tende a colpire principalmente persone anziane (oltre i 60 anni).\n",
        "- La distribuzione degli anziani senza ictus è più ampia e comprende anche pazienti giovani.\n",
        "- Gli outlier nei pazienti con ictus meritano attenzione per verificare la correttezza dei dati o per studiare casi atipici.\n"
      ]
    },
    {
      "cell_type": "code",
      "execution_count": 15,
      "metadata": {
        "colab": {
          "base_uri": "https://localhost:8080/",
          "height": 575
        },
        "id": "XOBvNaTETmp-",
        "outputId": "91647e21-b929-4d8a-9dae-c5bbcef042bf"
      },
      "outputs": [
        {
          "output_type": "display_data",
          "data": {
            "text/plain": [
              "<Figure size 640x480 with 1 Axes>"
            ],
            "image/png": "[encoded data removed]"
          },
          "metadata": {}
        }
      ],
      "source": [
        "pd.crosstab(df_stroke['smoking_status'], df_stroke['stroke'], normalize='index').plot(kind='bar', stacked=True)\n",
        "plt.title(\"Distribuzione Stroke per Smoking Status\")\n",
        "plt.ylabel(\"Proporzione\")\n",
        "plt.show()"
      ]
    },
    {
      "cell_type": "markdown",
      "metadata": {
        "id": "bJOFxSccdL0_"
      },
      "source": [
        "Il grafico mostra la distribuzione proporzionale dei casi di ictus (`stroke`) in base allo stato di fumo (`smoking_status`).  \n",
        "Si nota che la maggior parte delle persone in ogni categoria non ha avuto un ictus (barra blu), mentre la proporzione di persone con ictus (barra arancione) è relativamente bassa e simile tra le diverse categorie di fumo.  \n",
        "Non emergono differenze evidenti nel rischio di ictus in relazione allo stato di fumatore, anche se la categoria \"formerly smoked\" mostra una leggera maggioranza relativa di casi con ictus rispetto agli altri gruppi.\n",
        "\n",
        "Queste osservazioni sono però sicuramente condizionate dall'alto sbilanciamento del dataset e, considerando soprattuto come l'essere (o esser stato) fumatore costituisca uno dei maggiori fattori di rischio di ictus [[source](https://pmc.ncbi.nlm.nih.gov/articles/PMC2928253/)], risultano fuorvianti.\n",
        "\n",
        "Dobbiamo quindi sottolineare nuovamente come, il trattare lo sbilanciamento di *Stroke Prediction Dataset,* costituisca una priorità per ottenere un modello di classificazione accettabile."
      ]
    },
    {
      "cell_type": "markdown",
      "metadata": {
        "id": "UrCruq9ZU71G"
      },
      "source": [
        "# Preprocessing di Stroke Risk Dataset"
      ]
    },
    {
      "cell_type": "code",
      "execution_count": 16,
      "metadata": {
        "id": "vXT_r3NtYEpH"
      },
      "outputs": [],
      "source": [
        "from sklearn.impute import KNNImputer"
      ]
    },
    {
      "cell_type": "markdown",
      "metadata": {
        "id": "grzD_A7MCpO2"
      },
      "source": [
        "Creiamo una seconda istanza di df_stroke con lo scopo di poter applicare le trasformazioni necessarie manetenendo una copia del dataset originale."
      ]
    },
    {
      "cell_type": "code",
      "execution_count": 17,
      "metadata": {
        "id": "8yNtkeipColR"
      },
      "outputs": [],
      "source": [
        "df_stroke_processed = df_stroke.copy()"
      ]
    },
    {
      "cell_type": "markdown",
      "metadata": {
        "id": "8jGisWs7VarQ"
      },
      "source": [
        "Rimozione della colonna `id`."
      ]
    },
    {
      "cell_type": "code",
      "execution_count": 18,
      "metadata": {
        "colab": {
          "base_uri": "https://localhost:8080/"
        },
        "id": "KF5NmudoVlWy",
        "outputId": "31430b72-5e10-4d24-d25a-3cf9da8c6b67"
      },
      "outputs": [
        {
          "output_type": "stream",
          "name": "stdout",
          "text": [
            "Index(['gender', 'age', 'hypertension', 'heart_disease', 'ever_married',\n",
            "       'work_type', 'Residence_type', 'avg_glucose_level', 'bmi',\n",
            "       'smoking_status', 'stroke'],\n",
            "      dtype='object')\n"
          ]
        }
      ],
      "source": [
        "df_stroke_processed.drop(columns=['id'], inplace=True)\n",
        "print(df_stroke_processed.columns)"
      ]
    },
    {
      "cell_type": "markdown",
      "metadata": {
        "id": "MWwNx-ETZ7v_"
      },
      "source": [
        "Le righe con `gender=\"Other\"` sono state rimosse poiché rappresentano una categoria rara (solo 1 riga su 5.110) e possono introdurre rumore nel modello di classificazione."
      ]
    },
    {
      "cell_type": "code",
      "execution_count": 19,
      "metadata": {
        "colab": {
          "base_uri": "https://localhost:8080/"
        },
        "id": "jqr0UhfXXamq",
        "outputId": "6376008e-9c56-4283-ca22-68c27c08e027"
      },
      "outputs": [
        {
          "output_type": "stream",
          "name": "stdout",
          "text": [
            "Valori unici in 'gender' prima della rimozione: ['Male' 'Female' 'Other']\n",
            "Valori unici in 'gender' dopo la rimozione: ['Male' 'Female']\n",
            "Numero di righe dopo la rimozione: 5109\n"
          ]
        }
      ],
      "source": [
        "print(\"Valori unici in 'gender' prima della rimozione:\", df_stroke_processed['gender'].unique())\n",
        "df_stroke_processed = df_stroke_processed[df_stroke_processed['gender'] != 'Other']\n",
        "print(\"Valori unici in 'gender' dopo la rimozione:\", df_stroke_processed['gender'].unique())\n",
        "print(\"Numero di righe dopo la rimozione:\", len(df_stroke_processed))"
      ]
    },
    {
      "cell_type": "markdown",
      "metadata": {
        "id": "6W9Z4_g4cGIL"
      },
      "source": [
        "# Definizione della variabile target"
      ]
    },
    {
      "cell_type": "code",
      "execution_count": 20,
      "metadata": {
        "id": "iBFQR333cjQV"
      },
      "outputs": [],
      "source": [
        "from sklearn.model_selection import train_test_split\n",
        "from sklearn.preprocessing import StandardScaler"
      ]
    },
    {
      "cell_type": "markdown",
      "metadata": {
        "id": "duMU_kK0EnFc"
      },
      "source": [
        "Definiamo le variabili:\n",
        "\n",
        "*   X → Insieme delle variabili indipendenti.\n",
        "*   y → Variabile target.\n",
        "\n"
      ]
    },
    {
      "cell_type": "code",
      "execution_count": 21,
      "metadata": {
        "id": "K_xyBeILfPRt"
      },
      "outputs": [],
      "source": [
        "X = df_stroke_processed.drop(columns=['stroke'])\n",
        "y = df_stroke_processed['stroke']"
      ]
    },
    {
      "cell_type": "markdown",
      "metadata": {
        "id": "LafgUX-G6BQI"
      },
      "source": [
        "# XGBoost"
      ]
    },
    {
      "cell_type": "markdown",
      "metadata": {
        "id": "qzOtdSVP6SH9"
      },
      "source": [
        "Partiamo con il convertire le feeture categoriche in feture numeriche attraverso il One-Hot Encoding."
      ]
    },
    {
      "cell_type": "code",
      "execution_count": 22,
      "metadata": {
        "id": "G2lLLGXm7RJR"
      },
      "outputs": [],
      "source": [
        "!pip install --quiet xgboost imbalanced-learn scikit-learn pandas"
      ]
    },
    {
      "cell_type": "code",
      "execution_count": 23,
      "metadata": {
        "id": "qpuRSa0_6Qw4"
      },
      "outputs": [],
      "source": [
        "import pandas as pd\n",
        "import numpy as np\n",
        "import seaborn as sns\n",
        "import matplotlib.pyplot as plt\n",
        "\n",
        "from sklearn.model_selection import train_test_split, StratifiedKFold, cross_val_score\n",
        "from sklearn.preprocessing import OneHotEncoder, StandardScaler\n",
        "from sklearn.impute import SimpleImputer, KNNImputer\n",
        "from sklearn.compose import ColumnTransformer\n",
        "from sklearn.pipeline import Pipeline\n",
        "from sklearn.metrics import (\n",
        "    classification_report,\n",
        "    roc_auc_score,\n",
        "    f1_score,\n",
        "    confusion_matrix,\n",
        "    roc_curve,\n",
        "    auc,\n",
        "    precision_recall_fscore_support,\n",
        "    accuracy_score,\n",
        "    precision_score,\n",
        "    recall_score\n",
        ")\n",
        "\n",
        "from imblearn.combine import SMOTEENN\n",
        "from imblearn.pipeline import Pipeline as ImbPipeline\n",
        "\n",
        "from xgboost import XGBClassifier"
      ]
    },
    {
      "cell_type": "markdown",
      "metadata": {
        "id": "2VG9asp5TSH3"
      },
      "source": [
        "### Separazione delle features"
      ]
    },
    {
      "cell_type": "markdown",
      "metadata": {
        "id": "A2K5XEKc_xD7"
      },
      "source": [
        "Suddivisione delle features in base al tipo di dato:\n",
        "- **Categoriche**: Variabili con più categorie (es. tipo di lavoro)\n",
        "- **Numeriche**: Variabili continue da normalizzare/standardizzare\n",
        "- **Binarie**: Variabili già in formato 0/1 (non richiedono codifica)  \n",
        "\n",
        "La separazione facilita trasformazioni differenziate come OneHotEncoder, per features categoriche e StandardScaler, per features numeriche.  "
      ]
    },
    {
      "cell_type": "code",
      "execution_count": 24,
      "metadata": {
        "colab": {
          "base_uri": "https://localhost:8080/"
        },
        "id": "Q55thdTw8oxQ",
        "outputId": "111edf9c-605f-44c8-c948-b26971f61608"
      },
      "outputs": [
        {
          "output_type": "stream",
          "name": "stdout",
          "text": [
            "\u001b[33mFeatures categoriche: ['gender', 'ever_married', 'work_type', 'Residence_type', 'smoking_status']\n",
            "\u001b[36mFeatures numeriche: ['age', 'avg_glucose_level', 'bmi']\n",
            "\u001b[94mFeatures binarie: ['hypertension', 'heart_disease']\n"
          ]
        }
      ],
      "source": [
        "categorical_features = [\n",
        "    \"gender\", \"ever_married\", \"work_type\",\n",
        "    \"Residence_type\", \"smoking_status\"\n",
        "]\n",
        "numeric_features = [\"age\", \"avg_glucose_level\", \"bmi\"]\n",
        "binary_features  = [\"hypertension\", \"heart_disease\"]\n",
        "\n",
        "print(Fore.YELLOW + f\"Features categoriche: {categorical_features}\")\n",
        "print(Fore.CYAN + f\"Features numeriche: {numeric_features}\")\n",
        "print(Fore.LIGHTBLUE_EX + f\"Features binarie: {binary_features}\")"
      ]
    },
    {
      "cell_type": "markdown",
      "metadata": {
        "id": "WPtrWM-RARTa"
      },
      "source": [
        "Pipeline composita per gestire in modo differenziato le feature:\n",
        "- **Numeriche**: Imputazione valori mancanti con KNN (preserva relazioni tra dati) + standardizzazione.\n",
        "- **Categoriche**: Imputazione con moda + one-hot encoding (crea colonne binarie per ogni categoria).  \n",
        "- **Binarie**: Mantenute intatte tramite `remainder=\"passthrough\"`.\n",
        "\n",
        "Il dataset è quindi trasformato con feature omogenee pronte per il modello."
      ]
    },
    {
      "cell_type": "code",
      "execution_count": 25,
      "metadata": {
        "id": "t-ciikq5AUfe"
      },
      "outputs": [],
      "source": [
        "numeric_transformer = Pipeline([\n",
        "    (\"imputer\", KNNImputer(n_neighbors=5)),\n",
        "    (\"scaler\",  StandardScaler())\n",
        "])\n",
        "\n",
        "categorical_transformer = Pipeline([\n",
        "    (\"imputer\", SimpleImputer(strategy=\"most_frequent\")),\n",
        "    (\"ohe\",     OneHotEncoder(handle_unknown=\"ignore\", drop=None))\n",
        "])\n",
        "\n",
        "preprocessor = ColumnTransformer([\n",
        "    (\"num\",  numeric_transformer, numeric_features),\n",
        "    (\"cat\",  categorical_transformer, categorical_features),\n",
        "], remainder=\"passthrough\", force_int_remainder_cols=False)"
      ]
    },
    {
      "cell_type": "markdown",
      "metadata": {
        "id": "XjTyDLTXTjZI"
      },
      "source": [
        "### Oversampling e Undersampling"
      ]
    },
    {
      "cell_type": "markdown",
      "metadata": {
        "id": "D5GFBp4WLVR-"
      },
      "source": [
        "Combinazione di resampling (SMOTEENN) e XGBoost ottimizzato per dati sbilanciati:\n",
        "- **SMOTEENN**: Tecnica ibrida (oversampling SMOTE + undersampling ENN) per bilanciare le classi\n",
        "- **XGBoost**: Parametri calibrati per dati medici (alto n_estimators, basso learning_rate)\n",
        "- **scale_pos_weight**: Bilancia automaticamente il peso della classe positiva (calcolato in base allo sbilanciamento)\n",
        "\n",
        "Abbiamo utilizzato ImbPipeline invece di Pipeline standard per integrare correttamente il resampling nel flusso.\n",
        "\n",
        "L'output atteso è un modello addestrato su dati bilanciati, con valutazione su metriche sensibili agli sbilanciamenti (es. AUC-ROC, F1-score).\n",
        "\n",
        "\\begin{align}\n",
        "  ImbPipeline  (preprocess → SMOTEENN → XGB)\n",
        "\\end{align}"
      ]
    },
    {
      "cell_type": "code",
      "execution_count": 26,
      "metadata": {
        "id": "Pe8tWmkcAakC"
      },
      "outputs": [],
      "source": [
        "smoteenn = SMOTEENN(random_state=42)\n",
        "\n",
        "xgb_model = XGBClassifier(\n",
        "    n_estimators=800,\n",
        "    learning_rate=0.03,\n",
        "    max_depth=6,\n",
        "    subsample=0.8,\n",
        "    colsample_bytree=0.8,\n",
        "    objective=\"binary:logistic\",\n",
        "    eval_metric=\"auc\",\n",
        "    random_state=42,\n",
        "    scale_pos_weight= (y.value_counts()[1] / y.value_counts()[0]) # < 0.001 UNDER SAMPLING inverti lightGBM, gnn\n",
        ")\n",
        "\n",
        "pipe = ImbPipeline(steps=[\n",
        "    (\"preprocessor\", preprocessor),\n",
        "    (\"smoteenn\",     smoteenn),\n",
        "    (\"model\",        xgb_model)\n",
        "])"
      ]
    },
    {
      "cell_type": "markdown",
      "metadata": {
        "id": "DZWt8nplTyNQ"
      },
      "source": [
        "### Addestramento del modello"
      ]
    },
    {
      "cell_type": "markdown",
      "metadata": {
        "id": "2U1fDubuAwd-"
      },
      "source": [
        "Split del dataset in training (80%) e test set (20%) preservando la proporzione originale delle classi:  \n",
        "- **stratify=y**: Garantisce la stessa distribuzione di casi di ictus (classe rara) in entrambi i set  \n",
        "- **random_state=42**: Riproducibilità dello split  \n",
        "\n",
        "**Output**: 4 subset (X_train, X_test, y_train, y_test) pronti per l'addestramento e la validazione del modello."
      ]
    },
    {
      "cell_type": "code",
      "execution_count": 27,
      "metadata": {
        "id": "HQEJ6o8MAw6v"
      },
      "outputs": [],
      "source": [
        "X_train, X_test, y_train, y_test = train_test_split(\n",
        "    X, y, test_size=0.20, stratify=y, random_state=42\n",
        ")"
      ]
    },
    {
      "cell_type": "markdown",
      "metadata": {
        "id": "M9jUsGTxA1WQ"
      },
      "source": [
        "Addestramento del modello pronto per generare predizioni. Con lo scopo di evitare contaminazioni le trasformazioni vengono apprese solo sul train set."
      ]
    },
    {
      "cell_type": "code",
      "execution_count": 28,
      "metadata": {
        "colab": {
          "base_uri": "https://localhost:8080/",
          "height": 329
        },
        "id": "i-lxxZPjA5c0",
        "outputId": "55b0278a-55d4-4a6a-efef-41add51e94a3"
      },
      "outputs": [
        {
          "output_type": "execute_result",
          "data": {
            "text/plain": [
              "Pipeline(steps=[('preprocessor',\n",
              "                 ColumnTransformer(force_int_remainder_cols=False,\n",
              "                                   remainder='passthrough',\n",
              "                                   transformers=[('num',\n",
              "                                                  Pipeline(steps=[('imputer',\n",
              "                                                                   KNNImputer()),\n",
              "                                                                  ('scaler',\n",
              "                                                                   StandardScaler())]),\n",
              "                                                  ['age', 'avg_glucose_level',\n",
              "                                                   'bmi']),\n",
              "                                                 ('cat',\n",
              "                                                  Pipeline(steps=[('imputer',\n",
              "                                                                   SimpleImputer(strategy='most_frequent')),\n",
              "                                                                  ('ohe',\n",
              "                                                                   OneHotEncoder(handle_unknown='ignore...\n",
              "                               feature_types=None, gamma=None, grow_policy=None,\n",
              "                               importance_type=None,\n",
              "                               interaction_constraints=None, learning_rate=0.03,\n",
              "                               max_bin=None, max_cat_threshold=None,\n",
              "                               max_cat_to_onehot=None, max_delta_step=None,\n",
              "                               max_depth=6, max_leaves=None,\n",
              "                               min_child_weight=None, missing=nan,\n",
              "                               monotone_constraints=None, multi_strategy=None,\n",
              "                               n_estimators=800, n_jobs=None,\n",
              "                               num_parallel_tree=None, random_state=42, ...))])"
            ],
            "text/html": [
              "<style>#sk-container-id-1 {\n",
              "  /* Definition of color scheme common for light and dark mode */\n",
              "  --sklearn-color-text: #000;\n",
              "  --sklearn-color-text-muted: #666;\n",
              "  --sklearn-color-line: gray;\n",
              "  /* Definition of color scheme for unfitted estimators */\n",
              "  --sklearn-color-unfitted-level-0: #fff5e6;\n",
              "  --sklearn-color-unfitted-level-1: #f6e4d2;\n",
              "  --sklearn-color-unfitted-level-2: #ffe0b3;\n",
              "  --sklearn-color-unfitted-level-3: chocolate;\n",
              "  /* Definition of color scheme for fitted estimators */\n",
              "  --sklearn-color-fitted-level-0: #f0f8ff;\n",
              "  --sklearn-color-fitted-level-1: #d4ebff;\n",
              "  --sklearn-color-fitted-level-2: #b3dbfd;\n",
              "  --sklearn-color-fitted-level-3: cornflowerblue;\n",
              "\n",
              "  /* Specific color for light theme */\n",
              "  --sklearn-color-text-on-default-background: var(--sg-text-color, var(--theme-code-foreground, var(--jp-content-font-color1, black)));\n",
              "  --sklearn-color-background: var(--sg-background-color, var(--theme-background, var(--jp-layout-color0, white)));\n",
              "  --sklearn-color-border-box: var(--sg-text-color, var(--theme-code-foreground, var(--jp-content-font-color1, black)));\n",
              "  --sklearn-color-icon: #696969;\n",
              "\n",
              "  @media (prefers-color-scheme: dark) {\n",
              "    /* Redefinition of color scheme for dark theme */\n",
              "    --sklearn-color-text-on-default-background: var(--sg-text-color, var(--theme-code-foreground, var(--jp-content-font-color1, white)));\n",
              "    --sklearn-color-background: var(--sg-background-color, var(--theme-background, var(--jp-layout-color0, #111)));\n",
              "    --sklearn-color-border-box: var(--sg-text-color, var(--theme-code-foreground, var(--jp-content-font-color1, white)));\n",
              "    --sklearn-color-icon: #878787;\n",
              "  }\n",
              "}\n",
              "\n",
              "#sk-container-id-1 {\n",
              "  color: var(--sklearn-color-text);\n",
              "}\n",
              "\n",
              "#sk-container-id-1 pre {\n",
              "  padding: 0;\n",
              "}\n",
              "\n",
              "#sk-container-id-1 input.sk-hidden--visually {\n",
              "  border: 0;\n",
              "  clip: rect(1px 1px 1px 1px);\n",
              "  clip: rect(1px, 1px, 1px, 1px);\n",
              "  height: 1px;\n",
              "  margin: -1px;\n",
              "  overflow: hidden;\n",
              "  padding: 0;\n",
              "  position: absolute;\n",
              "  width: 1px;\n",
              "}\n",
              "\n",
              "#sk-container-id-1 div.sk-dashed-wrapped {\n",
              "  border: 1px dashed var(--sklearn-color-line);\n",
              "  margin: 0 0.4em 0.5em 0.4em;\n",
              "  box-sizing: border-box;\n",
              "  padding-bottom: 0.4em;\n",
              "  background-color: var(--sklearn-color-background);\n",
              "}\n",
              "\n",
              "#sk-container-id-1 div.sk-container {\n",
              "  /* jupyter's `normalize.less` sets `[hidden] { display: none; }`\n",
              "     but bootstrap.min.css set `[hidden] { display: none !important; }`\n",
              "     so we also need the `!important` here to be able to override the\n",
              "     default hidden behavior on the sphinx rendered scikit-learn.org.\n",
              "     See: https://github.com/scikit-learn/scikit-learn/issues/21755 */\n",
              "  display: inline-block !important;\n",
              "  position: relative;\n",
              "}\n",
              "\n",
              "#sk-container-id-1 div.sk-text-repr-fallback {\n",
              "  display: none;\n",
              "}\n",
              "\n",
              "div.sk-parallel-item,\n",
              "div.sk-serial,\n",
              "div.sk-item {\n",
              "  /* draw centered vertical line to link estimators */\n",
              "  background-image: linear-gradient(var(--sklearn-color-text-on-default-background), var(--sklearn-color-text-on-default-background));\n",
              "  background-size: 2px 100%;\n",
              "  background-repeat: no-repeat;\n",
              "  background-position: center center;\n",
              "}\n",
              "\n",
              "/* Parallel-specific style estimator block */\n",
              "\n",
              "#sk-container-id-1 div.sk-parallel-item::after {\n",
              "  content: \"\";\n",
              "  width: 100%;\n",
              "  border-bottom: 2px solid var(--sklearn-color-text-on-default-background);\n",
              "  flex-grow: 1;\n",
              "}\n",
              "\n",
              "#sk-container-id-1 div.sk-parallel {\n",
              "  display: flex;\n",
              "  align-items: stretch;\n",
              "  justify-content: center;\n",
              "  background-color: var(--sklearn-color-background);\n",
              "  position: relative;\n",
              "}\n",
              "\n",
              "#sk-container-id-1 div.sk-parallel-item {\n",
              "  display: flex;\n",
              "  flex-direction: column;\n",
              "}\n",
              "\n",
              "#sk-container-id-1 div.sk-parallel-item:first-child::after {\n",
              "  align-self: flex-end;\n",
              "  width: 50%;\n",
              "}\n",
              "\n",
              "#sk-container-id-1 div.sk-parallel-item:last-child::after {\n",
              "  align-self: flex-start;\n",
              "  width: 50%;\n",
              "}\n",
              "\n",
              "#sk-container-id-1 div.sk-parallel-item:only-child::after {\n",
              "  width: 0;\n",
              "}\n",
              "\n",
              "/* Serial-specific style estimator block */\n",
              "\n",
              "#sk-container-id-1 div.sk-serial {\n",
              "  display: flex;\n",
              "  flex-direction: column;\n",
              "  align-items: center;\n",
              "  background-color: var(--sklearn-color-background);\n",
              "  padding-right: 1em;\n",
              "  padding-left: 1em;\n",
              "}\n",
              "\n",
              "\n",
              "/* Toggleable style: style used for estimator/Pipeline/ColumnTransformer box that is\n",
              "clickable and can be expanded/collapsed.\n",
              "- Pipeline and ColumnTransformer use this feature and define the default style\n",
              "- Estimators will overwrite some part of the style using the `sk-estimator` class\n",
              "*/\n",
              "\n",
              "/* Pipeline and ColumnTransformer style (default) */\n",
              "\n",
              "#sk-container-id-1 div.sk-toggleable {\n",
              "  /* Default theme specific background. It is overwritten whether we have a\n",
              "  specific estimator or a Pipeline/ColumnTransformer */\n",
              "  background-color: var(--sklearn-color-background);\n",
              "}\n",
              "\n",
              "/* Toggleable label */\n",
              "#sk-container-id-1 label.sk-toggleable__label {\n",
              "  cursor: pointer;\n",
              "  display: flex;\n",
              "  width: 100%;\n",
              "  margin-bottom: 0;\n",
              "  padding: 0.5em;\n",
              "  box-sizing: border-box;\n",
              "  text-align: center;\n",
              "  align-items: start;\n",
              "  justify-content: space-between;\n",
              "  gap: 0.5em;\n",
              "}\n",
              "\n",
              "#sk-container-id-1 label.sk-toggleable__label .caption {\n",
              "  font-size: 0.6rem;\n",
              "  font-weight: lighter;\n",
              "  color: var(--sklearn-color-text-muted);\n",
              "}\n",
              "\n",
              "#sk-container-id-1 label.sk-toggleable__label-arrow:before {\n",
              "  /* Arrow on the left of the label */\n",
              "  content: \"▸\";\n",
              "  float: left;\n",
              "  margin-right: 0.25em;\n",
              "  color: var(--sklearn-color-icon);\n",
              "}\n",
              "\n",
              "#sk-container-id-1 label.sk-toggleable__label-arrow:hover:before {\n",
              "  color: var(--sklearn-color-text);\n",
              "}\n",
              "\n",
              "/* Toggleable content - dropdown */\n",
              "\n",
              "#sk-container-id-1 div.sk-toggleable__content {\n",
              "  max-height: 0;\n",
              "  max-width: 0;\n",
              "  overflow: hidden;\n",
              "  text-align: left;\n",
              "  /* unfitted */\n",
              "  background-color: var(--sklearn-color-unfitted-level-0);\n",
              "}\n",
              "\n",
              "#sk-container-id-1 div.sk-toggleable__content.fitted {\n",
              "  /* fitted */\n",
              "  background-color: var(--sklearn-color-fitted-level-0);\n",
              "}\n",
              "\n",
              "#sk-container-id-1 div.sk-toggleable__content pre {\n",
              "  margin: 0.2em;\n",
              "  border-radius: 0.25em;\n",
              "  color: var(--sklearn-color-text);\n",
              "  /* unfitted */\n",
              "  background-color: var(--sklearn-color-unfitted-level-0);\n",
              "}\n",
              "\n",
              "#sk-container-id-1 div.sk-toggleable__content.fitted pre {\n",
              "  /* unfitted */\n",
              "  background-color: var(--sklearn-color-fitted-level-0);\n",
              "}\n",
              "\n",
              "#sk-container-id-1 input.sk-toggleable__control:checked~div.sk-toggleable__content {\n",
              "  /* Expand drop-down */\n",
              "  max-height: 200px;\n",
              "  max-width: 100%;\n",
              "  overflow: auto;\n",
              "}\n",
              "\n",
              "#sk-container-id-1 input.sk-toggleable__control:checked~label.sk-toggleable__label-arrow:before {\n",
              "  content: \"▾\";\n",
              "}\n",
              "\n",
              "/* Pipeline/ColumnTransformer-specific style */\n",
              "\n",
              "#sk-container-id-1 div.sk-label input.sk-toggleable__control:checked~label.sk-toggleable__label {\n",
              "  color: var(--sklearn-color-text);\n",
              "  background-color: var(--sklearn-color-unfitted-level-2);\n",
              "}\n",
              "\n",
              "#sk-container-id-1 div.sk-label.fitted input.sk-toggleable__control:checked~label.sk-toggleable__label {\n",
              "  background-color: var(--sklearn-color-fitted-level-2);\n",
              "}\n",
              "\n",
              "/* Estimator-specific style */\n",
              "\n",
              "/* Colorize estimator box */\n",
              "#sk-container-id-1 div.sk-estimator input.sk-toggleable__control:checked~label.sk-toggleable__label {\n",
              "  /* unfitted */\n",
              "  background-color: var(--sklearn-color-unfitted-level-2);\n",
              "}\n",
              "\n",
              "#sk-container-id-1 div.sk-estimator.fitted input.sk-toggleable__control:checked~label.sk-toggleable__label {\n",
              "  /* fitted */\n",
              "  background-color: var(--sklearn-color-fitted-level-2);\n",
              "}\n",
              "\n",
              "#sk-container-id-1 div.sk-label label.sk-toggleable__label,\n",
              "#sk-container-id-1 div.sk-label label {\n",
              "  /* The background is the default theme color */\n",
              "  color: var(--sklearn-color-text-on-default-background);\n",
              "}\n",
              "\n",
              "/* On hover, darken the color of the background */\n",
              "#sk-container-id-1 div.sk-label:hover label.sk-toggleable__label {\n",
              "  color: var(--sklearn-color-text);\n",
              "  background-color: var(--sklearn-color-unfitted-level-2);\n",
              "}\n",
              "\n",
              "/* Label box, darken color on hover, fitted */\n",
              "#sk-container-id-1 div.sk-label.fitted:hover label.sk-toggleable__label.fitted {\n",
              "  color: var(--sklearn-color-text);\n",
              "  background-color: var(--sklearn-color-fitted-level-2);\n",
              "}\n",
              "\n",
              "/* Estimator label */\n",
              "\n",
              "#sk-container-id-1 div.sk-label label {\n",
              "  font-family: monospace;\n",
              "  font-weight: bold;\n",
              "  display: inline-block;\n",
              "  line-height: 1.2em;\n",
              "}\n",
              "\n",
              "#sk-container-id-1 div.sk-label-container {\n",
              "  text-align: center;\n",
              "}\n",
              "\n",
              "/* Estimator-specific */\n",
              "#sk-container-id-1 div.sk-estimator {\n",
              "  font-family: monospace;\n",
              "  border: 1px dotted var(--sklearn-color-border-box);\n",
              "  border-radius: 0.25em;\n",
              "  box-sizing: border-box;\n",
              "  margin-bottom: 0.5em;\n",
              "  /* unfitted */\n",
              "  background-color: var(--sklearn-color-unfitted-level-0);\n",
              "}\n",
              "\n",
              "#sk-container-id-1 div.sk-estimator.fitted {\n",
              "  /* fitted */\n",
              "  background-color: var(--sklearn-color-fitted-level-0);\n",
              "}\n",
              "\n",
              "/* on hover */\n",
              "#sk-container-id-1 div.sk-estimator:hover {\n",
              "  /* unfitted */\n",
              "  background-color: var(--sklearn-color-unfitted-level-2);\n",
              "}\n",
              "\n",
              "#sk-container-id-1 div.sk-estimator.fitted:hover {\n",
              "  /* fitted */\n",
              "  background-color: var(--sklearn-color-fitted-level-2);\n",
              "}\n",
              "\n",
              "/* Specification for estimator info (e.g. \"i\" and \"?\") */\n",
              "\n",
              "/* Common style for \"i\" and \"?\" */\n",
              "\n",
              ".sk-estimator-doc-link,\n",
              "a:link.sk-estimator-doc-link,\n",
              "a:visited.sk-estimator-doc-link {\n",
              "  float: right;\n",
              "  font-size: smaller;\n",
              "  line-height: 1em;\n",
              "  font-family: monospace;\n",
              "  background-color: var(--sklearn-color-background);\n",
              "  border-radius: 1em;\n",
              "  height: 1em;\n",
              "  width: 1em;\n",
              "  text-decoration: none !important;\n",
              "  margin-left: 0.5em;\n",
              "  text-align: center;\n",
              "  /* unfitted */\n",
              "  border: var(--sklearn-color-unfitted-level-1) 1pt solid;\n",
              "  color: var(--sklearn-color-unfitted-level-1);\n",
              "}\n",
              "\n",
              ".sk-estimator-doc-link.fitted,\n",
              "a:link.sk-estimator-doc-link.fitted,\n",
              "a:visited.sk-estimator-doc-link.fitted {\n",
              "  /* fitted */\n",
              "  border: var(--sklearn-color-fitted-level-1) 1pt solid;\n",
              "  color: var(--sklearn-color-fitted-level-1);\n",
              "}\n",
              "\n",
              "/* On hover */\n",
              "div.sk-estimator:hover .sk-estimator-doc-link:hover,\n",
              ".sk-estimator-doc-link:hover,\n",
              "div.sk-label-container:hover .sk-estimator-doc-link:hover,\n",
              ".sk-estimator-doc-link:hover {\n",
              "  /* unfitted */\n",
              "  background-color: var(--sklearn-color-unfitted-level-3);\n",
              "  color: var(--sklearn-color-background);\n",
              "  text-decoration: none;\n",
              "}\n",
              "\n",
              "div.sk-estimator.fitted:hover .sk-estimator-doc-link.fitted:hover,\n",
              ".sk-estimator-doc-link.fitted:hover,\n",
              "div.sk-label-container:hover .sk-estimator-doc-link.fitted:hover,\n",
              ".sk-estimator-doc-link.fitted:hover {\n",
              "  /* fitted */\n",
              "  background-color: var(--sklearn-color-fitted-level-3);\n",
              "  color: var(--sklearn-color-background);\n",
              "  text-decoration: none;\n",
              "}\n",
              "\n",
              "/* Span, style for the box shown on hovering the info icon */\n",
              ".sk-estimator-doc-link span {\n",
              "  display: none;\n",
              "  z-index: 9999;\n",
              "  position: relative;\n",
              "  font-weight: normal;\n",
              "  right: .2ex;\n",
              "  padding: .5ex;\n",
              "  margin: .5ex;\n",
              "  width: min-content;\n",
              "  min-width: 20ex;\n",
              "  max-width: 50ex;\n",
              "  color: var(--sklearn-color-text);\n",
              "  box-shadow: 2pt 2pt 4pt #999;\n",
              "  /* unfitted */\n",
              "  background: var(--sklearn-color-unfitted-level-0);\n",
              "  border: .5pt solid var(--sklearn-color-unfitted-level-3);\n",
              "}\n",
              "\n",
              ".sk-estimator-doc-link.fitted span {\n",
              "  /* fitted */\n",
              "  background: var(--sklearn-color-fitted-level-0);\n",
              "  border: var(--sklearn-color-fitted-level-3);\n",
              "}\n",
              "\n",
              ".sk-estimator-doc-link:hover span {\n",
              "  display: block;\n",
              "}\n",
              "\n",
              "/* \"?\"-specific style due to the `<a>` HTML tag */\n",
              "\n",
              "#sk-container-id-1 a.estimator_doc_link {\n",
              "  float: right;\n",
              "  font-size: 1rem;\n",
              "  line-height: 1em;\n",
              "  font-family: monospace;\n",
              "  background-color: var(--sklearn-color-background);\n",
              "  border-radius: 1rem;\n",
              "  height: 1rem;\n",
              "  width: 1rem;\n",
              "  text-decoration: none;\n",
              "  /* unfitted */\n",
              "  color: var(--sklearn-color-unfitted-level-1);\n",
              "  border: var(--sklearn-color-unfitted-level-1) 1pt solid;\n",
              "}\n",
              "\n",
              "#sk-container-id-1 a.estimator_doc_link.fitted {\n",
              "  /* fitted */\n",
              "  border: var(--sklearn-color-fitted-level-1) 1pt solid;\n",
              "  color: var(--sklearn-color-fitted-level-1);\n",
              "}\n",
              "\n",
              "/* On hover */\n",
              "#sk-container-id-1 a.estimator_doc_link:hover {\n",
              "  /* unfitted */\n",
              "  background-color: var(--sklearn-color-unfitted-level-3);\n",
              "  color: var(--sklearn-color-background);\n",
              "  text-decoration: none;\n",
              "}\n",
              "\n",
              "#sk-container-id-1 a.estimator_doc_link.fitted:hover {\n",
              "  /* fitted */\n",
              "  background-color: var(--sklearn-color-fitted-level-3);\n",
              "}\n",
              "</style><div id=\"sk-container-id-1\" class=\"sk-top-container\"><div class=\"sk-text-repr-fallback\"><pre>Pipeline(steps=[(&#x27;preprocessor&#x27;,\n",
              "                 ColumnTransformer(force_int_remainder_cols=False,\n",
              "                                   remainder=&#x27;passthrough&#x27;,\n",
              "                                   transformers=[(&#x27;num&#x27;,\n",
              "                                                  Pipeline(steps=[(&#x27;imputer&#x27;,\n",
              "                                                                   KNNImputer()),\n",
              "                                                                  (&#x27;scaler&#x27;,\n",
              "                                                                   StandardScaler())]),\n",
              "                                                  [&#x27;age&#x27;, &#x27;avg_glucose_level&#x27;,\n",
              "                                                   &#x27;bmi&#x27;]),\n",
              "                                                 (&#x27;cat&#x27;,\n",
              "                                                  Pipeline(steps=[(&#x27;imputer&#x27;,\n",
              "                                                                   SimpleImputer(strategy=&#x27;most_frequent&#x27;)),\n",
              "                                                                  (&#x27;ohe&#x27;,\n",
              "                                                                   OneHotEncoder(handle_unknown=&#x27;ignore...\n",
              "                               feature_types=None, gamma=None, grow_policy=None,\n",
              "                               importance_type=None,\n",
              "                               interaction_constraints=None, learning_rate=0.03,\n",
              "                               max_bin=None, max_cat_threshold=None,\n",
              "                               max_cat_to_onehot=None, max_delta_step=None,\n",
              "                               max_depth=6, max_leaves=None,\n",
              "                               min_child_weight=None, missing=nan,\n",
              "                               monotone_constraints=None, multi_strategy=None,\n",
              "                               n_estimators=800, n_jobs=None,\n",
              "                               num_parallel_tree=None, random_state=42, ...))])</pre><b>In a Jupyter environment, please rerun this cell to show the HTML representation or trust the notebook. <br />On GitHub, the HTML representation is unable to render, please try loading this page with nbviewer.org.</b></div><div class=\"sk-container\" hidden><div class=\"sk-item sk-dashed-wrapped\"><div class=\"sk-label-container\"><div class=\"sk-label fitted sk-toggleable\"><input class=\"sk-toggleable__control sk-hidden--visually\" id=\"sk-estimator-id-1\" type=\"checkbox\" ><label for=\"sk-estimator-id-1\" class=\"sk-toggleable__label fitted sk-toggleable__label-arrow\"><div><div>Pipeline</div></div><div><span class=\"sk-estimator-doc-link fitted\">i<span>Fitted</span></span></div></label><div class=\"sk-toggleable__content fitted\"><pre>Pipeline(steps=[(&#x27;preprocessor&#x27;,\n",
              "                 ColumnTransformer(force_int_remainder_cols=False,\n",
              "                                   remainder=&#x27;passthrough&#x27;,\n",
              "                                   transformers=[(&#x27;num&#x27;,\n",
              "                                                  Pipeline(steps=[(&#x27;imputer&#x27;,\n",
              "                                                                   KNNImputer()),\n",
              "                                                                  (&#x27;scaler&#x27;,\n",
              "                                                                   StandardScaler())]),\n",
              "                                                  [&#x27;age&#x27;, &#x27;avg_glucose_level&#x27;,\n",
              "                                                   &#x27;bmi&#x27;]),\n",
              "                                                 (&#x27;cat&#x27;,\n",
              "                                                  Pipeline(steps=[(&#x27;imputer&#x27;,\n",
              "                                                                   SimpleImputer(strategy=&#x27;most_frequent&#x27;)),\n",
              "                                                                  (&#x27;ohe&#x27;,\n",
              "                                                                   OneHotEncoder(handle_unknown=&#x27;ignore...\n",
              "                               feature_types=None, gamma=None, grow_policy=None,\n",
              "                               importance_type=None,\n",
              "                               interaction_constraints=None, learning_rate=0.03,\n",
              "                               max_bin=None, max_cat_threshold=None,\n",
              "                               max_cat_to_onehot=None, max_delta_step=None,\n",
              "                               max_depth=6, max_leaves=None,\n",
              "                               min_child_weight=None, missing=nan,\n",
              "                               monotone_constraints=None, multi_strategy=None,\n",
              "                               n_estimators=800, n_jobs=None,\n",
              "                               num_parallel_tree=None, random_state=42, ...))])</pre></div> </div></div><div class=\"sk-serial\"><div class=\"sk-item sk-dashed-wrapped\"><div class=\"sk-label-container\"><div class=\"sk-label fitted sk-toggleable\"><input class=\"sk-toggleable__control sk-hidden--visually\" id=\"sk-estimator-id-2\" type=\"checkbox\" ><label for=\"sk-estimator-id-2\" class=\"sk-toggleable__label fitted sk-toggleable__label-arrow\"><div><div>preprocessor: ColumnTransformer</div></div><div><a class=\"sk-estimator-doc-link fitted\" rel=\"noreferrer\" target=\"_blank\" href=\"https://scikit-learn.org/1.6/modules/generated/sklearn.compose.ColumnTransformer.html\">?<span>Documentation for preprocessor: ColumnTransformer</span></a></div></label><div class=\"sk-toggleable__content fitted\"><pre>ColumnTransformer(force_int_remainder_cols=False, remainder=&#x27;passthrough&#x27;,\n",
              "                  transformers=[(&#x27;num&#x27;,\n",
              "                                 Pipeline(steps=[(&#x27;imputer&#x27;, KNNImputer()),\n",
              "                                                 (&#x27;scaler&#x27;, StandardScaler())]),\n",
              "                                 [&#x27;age&#x27;, &#x27;avg_glucose_level&#x27;, &#x27;bmi&#x27;]),\n",
              "                                (&#x27;cat&#x27;,\n",
              "                                 Pipeline(steps=[(&#x27;imputer&#x27;,\n",
              "                                                  SimpleImputer(strategy=&#x27;most_frequent&#x27;)),\n",
              "                                                 (&#x27;ohe&#x27;,\n",
              "                                                  OneHotEncoder(handle_unknown=&#x27;ignore&#x27;))]),\n",
              "                                 [&#x27;gender&#x27;, &#x27;ever_married&#x27;, &#x27;work_type&#x27;,\n",
              "                                  &#x27;Residence_type&#x27;, &#x27;smoking_status&#x27;])])</pre></div> </div></div><div class=\"sk-parallel\"><div class=\"sk-parallel-item\"><div class=\"sk-item\"><div class=\"sk-label-container\"><div class=\"sk-label fitted sk-toggleable\"><input class=\"sk-toggleable__control sk-hidden--visually\" id=\"sk-estimator-id-3\" type=\"checkbox\" ><label for=\"sk-estimator-id-3\" class=\"sk-toggleable__label fitted sk-toggleable__label-arrow\"><div><div>num</div></div></label><div class=\"sk-toggleable__content fitted\"><pre>[&#x27;age&#x27;, &#x27;avg_glucose_level&#x27;, &#x27;bmi&#x27;]</pre></div> </div></div><div class=\"sk-serial\"><div class=\"sk-item\"><div class=\"sk-serial\"><div class=\"sk-item\"><div class=\"sk-estimator fitted sk-toggleable\"><input class=\"sk-toggleable__control sk-hidden--visually\" id=\"sk-estimator-id-4\" type=\"checkbox\" ><label for=\"sk-estimator-id-4\" class=\"sk-toggleable__label fitted sk-toggleable__label-arrow\"><div><div>KNNImputer</div></div><div><a class=\"sk-estimator-doc-link fitted\" rel=\"noreferrer\" target=\"_blank\" href=\"https://scikit-learn.org/1.6/modules/generated/sklearn.impute.KNNImputer.html\">?<span>Documentation for KNNImputer</span></a></div></label><div class=\"sk-toggleable__content fitted\"><pre>KNNImputer()</pre></div> </div></div><div class=\"sk-item\"><div class=\"sk-estimator fitted sk-toggleable\"><input class=\"sk-toggleable__control sk-hidden--visually\" id=\"sk-estimator-id-5\" type=\"checkbox\" ><label for=\"sk-estimator-id-5\" class=\"sk-toggleable__label fitted sk-toggleable__label-arrow\"><div><div>StandardScaler</div></div><div><a class=\"sk-estimator-doc-link fitted\" rel=\"noreferrer\" target=\"_blank\" href=\"https://scikit-learn.org/1.6/modules/generated/sklearn.preprocessing.StandardScaler.html\">?<span>Documentation for StandardScaler</span></a></div></label><div class=\"sk-toggleable__content fitted\"><pre>StandardScaler()</pre></div> </div></div></div></div></div></div></div><div class=\"sk-parallel-item\"><div class=\"sk-item\"><div class=\"sk-label-container\"><div class=\"sk-label fitted sk-toggleable\"><input class=\"sk-toggleable__control sk-hidden--visually\" id=\"sk-estimator-id-6\" type=\"checkbox\" ><label for=\"sk-estimator-id-6\" class=\"sk-toggleable__label fitted sk-toggleable__label-arrow\"><div><div>cat</div></div></label><div class=\"sk-toggleable__content fitted\"><pre>[&#x27;gender&#x27;, &#x27;ever_married&#x27;, &#x27;work_type&#x27;, &#x27;Residence_type&#x27;, &#x27;smoking_status&#x27;]</pre></div> </div></div><div class=\"sk-serial\"><div class=\"sk-item\"><div class=\"sk-serial\"><div class=\"sk-item\"><div class=\"sk-estimator fitted sk-toggleable\"><input class=\"sk-toggleable__control sk-hidden--visually\" id=\"sk-estimator-id-7\" type=\"checkbox\" ><label for=\"sk-estimator-id-7\" class=\"sk-toggleable__label fitted sk-toggleable__label-arrow\"><div><div>SimpleImputer</div></div><div><a class=\"sk-estimator-doc-link fitted\" rel=\"noreferrer\" target=\"_blank\" href=\"https://scikit-learn.org/1.6/modules/generated/sklearn.impute.SimpleImputer.html\">?<span>Documentation for SimpleImputer</span></a></div></label><div class=\"sk-toggleable__content fitted\"><pre>SimpleImputer(strategy=&#x27;most_frequent&#x27;)</pre></div> </div></div><div class=\"sk-item\"><div class=\"sk-estimator fitted sk-toggleable\"><input class=\"sk-toggleable__control sk-hidden--visually\" id=\"sk-estimator-id-8\" type=\"checkbox\" ><label for=\"sk-estimator-id-8\" class=\"sk-toggleable__label fitted sk-toggleable__label-arrow\"><div><div>OneHotEncoder</div></div><div><a class=\"sk-estimator-doc-link fitted\" rel=\"noreferrer\" target=\"_blank\" href=\"https://scikit-learn.org/1.6/modules/generated/sklearn.preprocessing.OneHotEncoder.html\">?<span>Documentation for OneHotEncoder</span></a></div></label><div class=\"sk-toggleable__content fitted\"><pre>OneHotEncoder(handle_unknown=&#x27;ignore&#x27;)</pre></div> </div></div></div></div></div></div></div><div class=\"sk-parallel-item\"><div class=\"sk-item\"><div class=\"sk-label-container\"><div class=\"sk-label fitted sk-toggleable\"><input class=\"sk-toggleable__control sk-hidden--visually\" id=\"sk-estimator-id-9\" type=\"checkbox\" ><label for=\"sk-estimator-id-9\" class=\"sk-toggleable__label fitted sk-toggleable__label-arrow\"><div><div>remainder</div></div></label><div class=\"sk-toggleable__content fitted\"><pre>[&#x27;hypertension&#x27;, &#x27;heart_disease&#x27;]</pre></div> </div></div><div class=\"sk-serial\"><div class=\"sk-item\"><div class=\"sk-estimator fitted sk-toggleable\"><input class=\"sk-toggleable__control sk-hidden--visually\" id=\"sk-estimator-id-10\" type=\"checkbox\" ><label for=\"sk-estimator-id-10\" class=\"sk-toggleable__label fitted sk-toggleable__label-arrow\"><div><div>passthrough</div></div></label><div class=\"sk-toggleable__content fitted\"><pre>passthrough</pre></div> </div></div></div></div></div></div></div><div class=\"sk-item\"><div class=\"sk-estimator fitted sk-toggleable\"><input class=\"sk-toggleable__control sk-hidden--visually\" id=\"sk-estimator-id-11\" type=\"checkbox\" ><label for=\"sk-estimator-id-11\" class=\"sk-toggleable__label fitted sk-toggleable__label-arrow\"><div><div>SMOTEENN</div></div></label><div class=\"sk-toggleable__content fitted\"><pre>SMOTEENN(random_state=42)</pre></div> </div></div><div class=\"sk-item\"><div class=\"sk-estimator fitted sk-toggleable\"><input class=\"sk-toggleable__control sk-hidden--visually\" id=\"sk-estimator-id-12\" type=\"checkbox\" ><label for=\"sk-estimator-id-12\" class=\"sk-toggleable__label fitted sk-toggleable__label-arrow\"><div><div>XGBClassifier</div></div></label><div class=\"sk-toggleable__content fitted\"><pre>XGBClassifier(base_score=None, booster=None, callbacks=None,\n",
              "              colsample_bylevel=None, colsample_bynode=None,\n",
              "              colsample_bytree=0.8, device=None, early_stopping_rounds=None,\n",
              "              enable_categorical=False, eval_metric=&#x27;auc&#x27;, feature_types=None,\n",
              "              gamma=None, grow_policy=None, importance_type=None,\n",
              "              interaction_constraints=None, learning_rate=0.03, max_bin=None,\n",
              "              max_cat_threshold=None, max_cat_to_onehot=None,\n",
              "              max_delta_step=None, max_depth=6, max_leaves=None,\n",
              "              min_child_weight=None, missing=nan, monotone_constraints=None,\n",
              "              multi_strategy=None, n_estimators=800, n_jobs=None,\n",
              "              num_parallel_tree=None, random_state=42, ...)</pre></div> </div></div></div></div></div></div>"
            ]
          },
          "metadata": {},
          "execution_count": 28
        }
      ],
      "source": [
        "pipe.fit(X_train, y_train)"
      ]
    },
    {
      "cell_type": "markdown",
      "metadata": {
        "id": "T59Bh2puT5TI"
      },
      "source": [
        "### Visualizzazione dei risultati ottenuti"
      ]
    },
    {
      "cell_type": "markdown",
      "metadata": {
        "id": "qkC_eQ4kBF85"
      },
      "source": [
        "Calcolo delle probabilità predette e conversione in classi binarie (soglia 0.5):  \n",
        "- **y_pred_proba**: Probabilità di appartenenza alla classe positiva (ictus) per ogni sample  \n",
        "- **Soglia 0.5**: Scelta standard ma potrebbe essere ottimizzata in caso di forte sbilanciamento  \n",
        "\n",
        "**Metriche chiave**:  \n",
        "- AUC-ROC: Valuta la capacità discriminativa su tutte le soglie (ideale per classi sbilanciate)  \n",
        "- Classification report: Focus su recall e F1-score per la classe minoritaria (ictus)"
      ]
    },
    {
      "cell_type": "code",
      "execution_count": 29,
      "metadata": {
        "colab": {
          "base_uri": "https://localhost:8080/"
        },
        "id": "wzlIFs5FBEnN",
        "outputId": "26ea39fc-9654-4284-d454-eda4bfbc00dc"
      },
      "outputs": [
        {
          "output_type": "stream",
          "name": "stdout",
          "text": [
            "AUC-ROC  : 0.7551234567901234\n",
            "              precision    recall  f1-score   support\n",
            "\n",
            "           0       0.96      0.97      0.96       972\n",
            "           1       0.17      0.14      0.15        50\n",
            "\n",
            "    accuracy                           0.92      1022\n",
            "   macro avg       0.56      0.55      0.56      1022\n",
            "weighted avg       0.92      0.92      0.92      1022\n",
            "\n"
          ]
        }
      ],
      "source": [
        "def show_report(model, X_test, y_test, threshold=0.5):\n",
        "  y_pred_proba = model.predict_proba(X_test)[:, 1]\n",
        "  y_pred = (y_pred_proba >= threshold).astype(int)\n",
        "\n",
        "  print(\"AUC-ROC  :\", roc_auc_score(y_test, y_pred_proba))\n",
        "  print(classification_report(y_test, y_pred))\n",
        "  return y_pred_proba, y_pred\n",
        "\n",
        "y_pred_proba, y_pred = show_report(pipe, X_test, y_test)"
      ]
    },
    {
      "cell_type": "markdown",
      "metadata": {
        "id": "KGJECmQbbe25"
      },
      "source": [
        "Salvataggio dei risultati in un dict."
      ]
    },
    {
      "cell_type": "code",
      "execution_count": 30,
      "metadata": {
        "id": "z34ULB7Ya1ss"
      },
      "outputs": [],
      "source": [
        "def results_to_dict(y_test, y_pred_proba, y_pred, threshold=0.5):\n",
        "  auc = float(roc_auc_score(y_test, y_pred_proba))\n",
        "  accuracy = accuracy_score(y_test, y_pred)\n",
        "  precision = precision_score(y_test, y_pred, zero_division=0)\n",
        "  recall = recall_score(y_test, y_pred, zero_division=0)\n",
        "  f1 = f1_score(y_test, y_pred, zero_division=0)\n",
        "\n",
        "  model_results = {\n",
        "      'AUC': round(auc, 3),\n",
        "      'Accuracy': round(accuracy, 3),\n",
        "      'Precision': round(precision, 3),\n",
        "      'Recall': round(recall, 3),\n",
        "      'F1': round(f1, 3)\n",
        "  }\n",
        "\n",
        "  return model_results\n",
        "\n",
        "xgb_results = results_to_dict(y_test, y_pred_proba, y_pred, xgb_model)"
      ]
    },
    {
      "cell_type": "markdown",
      "metadata": {
        "id": "dPcEsr5nQrM6"
      },
      "source": [
        "Grafico della matrice di confusione per analizzare performance del modello su classi specifiche:  \n",
        "- **Formato annotazioni**: Valori interi (`fmt='d'`) per chiarezza nella lettura di TP, TN, FP, FN  \n",
        "- **Colormap**: Scala di blu (`cmap='Blues'`) per enfatizzare differenze nelle celle  \n",
        "\n",
        "**Aspetto chiave**: Struttura tipica di dataset sbilanciati (alti TN, bassi TP). Utile per identificare falsi negativi (casi di ictus non rilevati), errore critico in contesto medico."
      ]
    },
    {
      "cell_type": "code",
      "execution_count": 31,
      "metadata": {
        "colab": {
          "base_uri": "https://localhost:8080/",
          "height": 607
        },
        "id": "GbpA64XVf80L",
        "outputId": "f869e199-b8b4-4305-be38-de08508cb3c1"
      },
      "outputs": [
        {
          "output_type": "display_data",
          "data": {
            "text/plain": [
              "<Figure size 800x600 with 2 Axes>"
            ],
            "image/png": "[encoded data removed]"
          },
          "metadata": {}
        }
      ],
      "source": [
        "# Funzione per visualizzare una matrice di confusione\n",
        "def plot_confusion_matrix(y_true, y_pred, threshold=0.5, class_names=[\"Nessun Ictus\", \"Ictus\"]):\n",
        "    # Calcola la matrice di confusione\n",
        "    cm = confusion_matrix(y_true, y_pred)\n",
        "\n",
        "    # Calcola i valori percentuali\n",
        "    cm_percentage = cm.astype('float') / cm.sum(axis=1)[:, np.newaxis] * 100\n",
        "\n",
        "    # Crea un'annotazione combinata (valori assoluti + percentuali)\n",
        "    annot = np.empty_like(cm, dtype=object)\n",
        "    for i in range(cm.shape[0]):\n",
        "        for j in range(cm.shape[1]):\n",
        "            annot[i, j] = f\"{cm[i, j]}\\n({cm_percentage[i, j]:.1f}%)\"\n",
        "\n",
        "    # Calcola precision, recall e F1-score per ogni classe\n",
        "    precision, recall, f1, _ = precision_recall_fscore_support(y_true, y_pred, average=None)\n",
        "\n",
        "    # Crea la figura\n",
        "    plt.figure(figsize=(8, 6))\n",
        "    sns.heatmap(cm, annot=annot, fmt='', cmap='Blues',\n",
        "                xticklabels=class_names, yticklabels=class_names,\n",
        "                annot_kws={\"size\": 12}, cbar_kws={'label': 'Numero di campioni'})\n",
        "\n",
        "    # Aggiungi titolo e etichette\n",
        "    plt.title(f\"Matrice di Confusione (Soglia = {threshold:.2f})\", fontsize=14, pad=20)\n",
        "    plt.xlabel(\"Classe Predetta\", fontsize=12)\n",
        "    plt.ylabel(\"Classe Reale\", fontsize=12)\n",
        "\n",
        "    # Aggiungi metriche come testo accanto alla matrice\n",
        "    plt.figtext(1.05, 0.6, f\"Precision (Nessun Ictus): {precision[0]:.2f}\", fontsize=10)\n",
        "    plt.figtext(1.05, 0.55, f\"Recall (Nessun Ictus): {recall[0]:.2f}\", fontsize=10)\n",
        "    plt.figtext(1.05, 0.5, f\"F1-Score (Nessun Ictus): {f1[0]:.2f}\", fontsize=10)\n",
        "    plt.figtext(1.05, 0.4, f\"Precision (Ictus): {precision[1]:.2f}\", fontsize=10)\n",
        "    plt.figtext(1.05, 0.35, f\"Recall (Ictus): {recall[1]:.2f}\", fontsize=10)\n",
        "    plt.figtext(1.05, 0.3, f\"F1-Score (Ictus): {f1[1]:.2f}\", fontsize=10)\n",
        "\n",
        "    plt.tight_layout()\n",
        "    plt.show()\n",
        "\n",
        "plot_confusion_matrix(y_test, y_pred)"
      ]
    },
    {
      "cell_type": "markdown",
      "metadata": {
        "id": "ZUsi0p5WRVRB"
      },
      "source": [
        "Visualizzazione delle performance del modello su tutte le soglie di classificazione:  \n",
        "- **AUC (Area Under Curve)**: Valore compreso tra 0.5 (probabilità di categorizzare casualmente) e 1 (perfetto). Un AUC >0.8 indica buona capacità discriminativa  \n",
        "- **Linea tratteggiata**: Rappresenta un classificatore casuale (baseline di confronto)  \n",
        "\n",
        "**Interpretazione**: Un'area elevata sotto la curva suggerisce che il modello distingue efficacemente i pazienti a rischio, aspetto cruciale per dataset medici sbilanciati."
      ]
    },
    {
      "cell_type": "code",
      "execution_count": 32,
      "metadata": {
        "colab": {
          "base_uri": "https://localhost:8080/",
          "height": 472
        },
        "id": "uBUDPLLCDKH0",
        "outputId": "1659e780-343a-480f-d819-5d11fb8512d7"
      },
      "outputs": [
        {
          "output_type": "display_data",
          "data": {
            "text/plain": [
              "<Figure size 640x480 with 1 Axes>"
            ],
            "image/png": "[encoded data removed]"
          },
          "metadata": {}
        }
      ],
      "source": [
        "def plot_roc_curve(y_true, y_pred_proba):\n",
        "  fpr, tpr, thresholds = roc_curve(y_true, y_pred_proba)\n",
        "  roc_auc = auc(fpr, tpr)\n",
        "\n",
        "  plt.plot(fpr, tpr, label=f'ROC curve (area = {roc_auc:.2f})')\n",
        "  plt.plot([0, 1], [0, 1], 'k--')\n",
        "  plt.xlabel('False Positive Rate')\n",
        "  plt.ylabel('True Positive Rate')\n",
        "  plt.title('Curva ROC')\n",
        "  plt.legend(loc='lower right')\n",
        "  plt.show()\n",
        "\n",
        "plot_roc_curve(y_test, y_pred_proba)"
      ]
    },
    {
      "cell_type": "markdown",
      "metadata": {
        "id": "BLtnfOtdG-Bw"
      },
      "source": [
        "### Valutazione del modello XGBoost\n",
        "\n",
        "| **Metrica** | **Valore** | **Interpretazione** |\n",
        "|-------------|-----------:|---------------------|\n",
        "| **AUC-ROC** | **0.76** | Capacità di discriminazione accettabile tra le classi, ma non ottimale; si può migliorare. |\n",
        "| **Accuracy** | **0.92** | Alta, ma fuorviante a causa dello sbilanciamento. |\n",
        "| **Classe 0**<br>(non-evento) | Precisione **0.96**<br>Recall **0.97**<br>F1-score **0.96** | Il modello individua quasi tutti i “negativi” e commette pochi falsi positivi. |\n",
        "| **Classe 1**<br>(evento) | Precisione **0.17**<br>Recall **0.14**<br>F1-score **0.15** | Prestazioni scarse: la maggior parte degli “eventi” non viene riconosciuta (molti falsi negativi). |\n",
        "| **Macro avg** | **0.56** (precisione/recall/F1) | Media non pesata: riflette lo sbilanciamento e la debolezza sulla classe minoritaria. |\n",
        "| **Weighted avg** | **0.92** | Media pesata dai campioni: dominata dalla classe 0, quindi poco indicativa per la classe 1. |\n",
        "\n",
        "\n",
        "Con solo 4.8% esempi positivi, il modello privilegia la classe maggioritaria. Ciò spiega l’alta accuracy ma la bassa F1 per la classe 1.\n",
        "\n",
        "> **Conclusione:** il modello è affidabile nel riconoscere i non-eventi, ma insufficiente per gli eventi. Serve intervenire su sbilanciamento elevare recall e F1 della classe positiva.\n"
      ]
    },
    {
      "cell_type": "markdown",
      "metadata": {
        "id": "JPrFVshGDkNh"
      },
      "source": [
        "# Catboost"
      ]
    },
    {
      "cell_type": "markdown",
      "metadata": {
        "id": "4AMeC7dpISqT"
      },
      "source": [
        "Considerati i risultati insoddisfacenti ottenuti con XGBoost, procediamo a testare un modello alternativo.\n",
        "CatBoost si distingue generalmente per una gestione più efficace dei dataset contenenti variabili categoriche [[source](https://neptune.ai/blog/when-to-choose-catboost-over-xgboost-or-lightgbm)] e, in molti casi, mostra performance superiori rispetto a XGBoost, specialmente quando il dataset presenta caratteristiche complesse o sbilanciate [[source](https://www.geeksforgeeks.org/handling-imbalanced-classes-in-catboost-techniques-and-solutions/)]."
      ]
    },
    {
      "cell_type": "code",
      "execution_count": null,
      "metadata": {
        "colab": {
          "base_uri": "https://localhost:8080/"
        },
        "id": "UqEWKnCUQ61L",
        "outputId": "5f17be03-ae15-45fb-a553-0d20fa346970"
      },
      "outputs": [
        {
          "output_type": "stream",
          "name": "stdout",
          "text": [
            "Collecting catboost\n",
            "  Downloading catboost-1.2.8-cp311-cp311-manylinux2014_x86_64.whl.metadata (1.2 kB)\n",
            "Requirement already satisfied: graphviz in /usr/local/lib/python3.11/dist-packages (from catboost) (0.20.3)\n",
            "Requirement already satisfied: matplotlib in /usr/local/lib/python3.11/dist-packages (from catboost) (3.10.0)\n",
            "Requirement already satisfied: numpy<3.0,>=1.16.0 in /usr/local/lib/python3.11/dist-packages (from catboost) (2.0.2)\n",
            "Requirement already satisfied: pandas>=0.24 in /usr/local/lib/python3.11/dist-packages (from catboost) (2.2.2)\n",
            "Requirement already satisfied: scipy in /usr/local/lib/python3.11/dist-packages (from catboost) (1.15.3)\n",
            "Requirement already satisfied: plotly in /usr/local/lib/python3.11/dist-packages (from catboost) (5.24.1)\n",
            "Requirement already satisfied: six in /usr/local/lib/python3.11/dist-packages (from catboost) (1.17.0)\n",
            "Requirement already satisfied: python-dateutil>=2.8.2 in /usr/local/lib/python3.11/dist-packages (from pandas>=0.24->catboost) (2.9.0.post0)\n",
            "Requirement already satisfied: pytz>=2020.1 in /usr/local/lib/python3.11/dist-packages (from pandas>=0.24->catboost) (2025.2)\n",
            "Requirement already satisfied: tzdata>=2022.7 in /usr/local/lib/python3.11/dist-packages (from pandas>=0.24->catboost) (2025.2)\n",
            "Requirement already satisfied: contourpy>=1.0.1 in /usr/local/lib/python3.11/dist-packages (from matplotlib->catboost) (1.3.2)\n",
            "Requirement already satisfied: cycler>=0.10 in /usr/local/lib/python3.11/dist-packages (from matplotlib->catboost) (0.12.1)\n",
            "Requirement already satisfied: fonttools>=4.22.0 in /usr/local/lib/python3.11/dist-packages (from matplotlib->catboost) (4.58.1)\n",
            "Requirement already satisfied: kiwisolver>=1.3.1 in /usr/local/lib/python3.11/dist-packages (from matplotlib->catboost) (1.4.8)\n",
            "Requirement already satisfied: packaging>=20.0 in /usr/local/lib/python3.11/dist-packages (from matplotlib->catboost) (24.2)\n",
            "Requirement already satisfied: pillow>=8 in /usr/local/lib/python3.11/dist-packages (from matplotlib->catboost) (11.2.1)\n",
            "Requirement already satisfied: pyparsing>=2.3.1 in /usr/local/lib/python3.11/dist-packages (from matplotlib->catboost) (3.2.3)\n",
            "Requirement already satisfied: tenacity>=6.2.0 in /usr/local/lib/python3.11/dist-packages (from plotly->catboost) (9.1.2)\n",
            "Downloading catboost-1.2.8-cp311-cp311-manylinux2014_x86_64.whl (99.2 MB)\n",
            "\u001b[2K   \u001b[90m━━━━━━━━━━━━━━━━━━━━━━━━━━━━━━━━━━━━━━━━\u001b[0m \u001b[32m99.2/99.2 MB\u001b[0m \u001b[31m8.1 MB/s\u001b[0m eta \u001b[36m0:00:00\u001b[0m\n",
            "\u001b[?25hInstalling collected packages: catboost\n"
          ]
        }
      ],
      "source": [
        "!pip install catboost"
      ]
    },
    {
      "cell_type": "code",
      "execution_count": null,
      "metadata": {
        "id": "PiIds7ZD5_h-"
      },
      "outputs": [],
      "source": [
        "from catboost import CatBoostClassifier, Pool\n",
        "from sklearn.preprocessing import LabelEncoder"
      ]
    },
    {
      "cell_type": "markdown",
      "metadata": {
        "id": "8hkTUszNsrTH"
      },
      "source": [
        "Applicazione della pipeline, già definita, di preprocessing alle variabili numeriche."
      ]
    },
    {
      "cell_type": "code",
      "execution_count": null,
      "metadata": {
        "id": "aJXxjq_0qPtH"
      },
      "outputs": [],
      "source": [
        "X[numeric_features] = numeric_transformer.fit_transform(X[numeric_features])"
      ]
    },
    {
      "cell_type": "markdown",
      "metadata": {
        "id": "UprHtKWetLrd"
      },
      "source": [
        "Split del dataset in training (80%) e test set (20%) preservando la proporzione originale delle classi"
      ]
    },
    {
      "cell_type": "code",
      "execution_count": null,
      "metadata": {
        "id": "-0n67hNPu8Lv"
      },
      "outputs": [],
      "source": [
        "X_train, X_test, y_train, y_test = train_test_split(\n",
        "    X, y, test_size=0.20, stratify=y, random_state=42\n",
        ")"
      ]
    },
    {
      "cell_type": "markdown",
      "metadata": {
        "id": "aalmkuvGUb7R"
      },
      "source": [
        "### Oversampling e Undersampling"
      ]
    },
    {
      "cell_type": "markdown",
      "metadata": {
        "id": "4hI0ya2_tg58"
      },
      "source": [
        "Processo in 3 fasi per gestire dati categorici con SMOTEENN e CatBoost:\n",
        "1. **Label Encoding**: Conversione temporanea delle categorie in numeri per permettere il resampling\n",
        "2. **SMOTEENN**: Applicato sul dataset codificato per bilanciare le classi (combinazione oversampling/undersampling)\n",
        "3. **Inverse Transform**: Ritorno ai valori originali (stringhe) per sfruttare la gestione nativa delle categorie in CatBoost\n",
        "\n",
        "La codifica temporanea è necessaria perché SMOTEENN lavora solo su dati numerici, mentre CatBoost beneficia delle categorie stringa per split ottimali."
      ]
    },
    {
      "cell_type": "code",
      "execution_count": null,
      "metadata": {
        "id": "QHJoJAzMrKrH"
      },
      "outputs": [],
      "source": [
        "X_train_enc = X_train.copy()\n",
        "encoders = {}\n",
        "for col in categorical_features:\n",
        "    le = LabelEncoder()\n",
        "    X_train_enc[col] = le.fit_transform(X_train_enc[col].astype(str))\n",
        "    encoders[col]   = le\n",
        "\n",
        "# bilanciamento\n",
        "smoteenn = SMOTEENN(random_state=42)\n",
        "X_res, y_res = smoteenn.fit_resample(X_train_enc, y_train)\n",
        "\n",
        "# decodifica: riportiamo stringhe per CatBoost\n",
        "for col, le in encoders.items():\n",
        "    X_res[col] = le.inverse_transform(X_res[col].astype(int))\n"
      ]
    },
    {
      "cell_type": "markdown",
      "metadata": {
        "id": "cez8tfjEuHn-"
      },
      "source": [
        "Conversione dei dati in oggetti Pool per sfruttare le funzionalità native di CatBoost:\n",
        "- **Train Pool**: Utilizza il dataset bilanciato (X_res, y_res) con categorie in formato stringa\n",
        "- **Test Pool**: Mantiene il formato originale del test set per una valutazione realistica\n",
        "- **cat_features**: Specifica esplicita delle colonne categoriche per l'ottimizzazione degli split"
      ]
    },
    {
      "cell_type": "code",
      "execution_count": null,
      "metadata": {
        "id": "37LbX4k1tR4Y"
      },
      "outputs": [],
      "source": [
        "train_pool = Pool(X_res, y_res, cat_features=categorical_features)\n",
        "test_pool  = Pool(X_test, y_test, cat_features=categorical_features)"
      ]
    },
    {
      "cell_type": "markdown",
      "metadata": {
        "id": "h1QKxiA7uci4"
      },
      "source": [
        "Parametri ottimizzati per la predizione di ictus:\n",
        "- **iterations=500**: Numero elevato di alberi con early stopping (ferma training se non migliora per 100 round)\n",
        "- **depth=6**: Profondità media-alta per catturare interazioni complesse tra feature mediche\n",
        "- **scale_pos_weight**: Bilancia automaticamente il peso della classe positiva (ictus) in base allo sbilanciamento originale\n",
        "- **eval_metric=\"AUC\"**: Ottimizzazione diretta dell'area sotto la curva ROC, metrica robusta per classi rare\n",
        "\n",
        "**Vantaggio chiave**: CatBoost gestisce nativamente le categorie (specificate in `cat_features`) senza bisogno di one-hot encoding, preservando le relazioni tra variabili categoriche (es. \"smoking_status\")."
      ]
    },
    {
      "cell_type": "code",
      "execution_count": null,
      "metadata": {
        "id": "vVKD4tOxtVwM"
      },
      "outputs": [],
      "source": [
        "catb_model = CatBoostClassifier(\n",
        "    iterations=500,\n",
        "    learning_rate=0.03,\n",
        "    depth=6,\n",
        "    eval_metric=\"AUC\",\n",
        "    random_seed=42,\n",
        "    early_stopping_rounds=100,\n",
        "    verbose=100,\n",
        "    scale_pos_weight= (y.value_counts()[1] / y.value_counts()[0])\n",
        ")"
      ]
    },
    {
      "cell_type": "markdown",
      "metadata": {
        "id": "RcbgXC0iU1VW"
      },
      "source": [
        "### Addestramento del modello"
      ]
    },
    {
      "cell_type": "markdown",
      "metadata": {
        "id": "dk2F-3G4u-cn"
      },
      "source": [
        "Esecuzione del training monitorando le performance sul test set:\n",
        "- **eval_set=test_pool**: Valutazione in tempo reale sullo split di test per evitare overfitting\n",
        "- **use_best_model=True**: Mantiene l'iterazione con migliore AUC sul test set (non l'ultima)\n",
        "- **early_stopping_rounds=100**: Interruzione anticipata se nessun miglioramento per 100 iterazioni\n",
        "\n",
        "Nonostante l'uso del test set per l'early stopping, la valutazione finale va fatta su un validation set separato per evitare ottimizzazione involontaria sui dati di test.  \n",
        "**Output**: Log di training con AUC aggiornato ogni 100 iterazioni (parametro `verbose=100`), modello ottimizzato salvato automaticamente."
      ]
    },
    {
      "cell_type": "code",
      "execution_count": null,
      "metadata": {
        "id": "ClDeeVZkuVX7"
      },
      "outputs": [],
      "source": [
        "catb_model.fit(train_pool, eval_set=test_pool, use_best_model=True)"
      ]
    },
    {
      "cell_type": "markdown",
      "metadata": {
        "id": "dw1ixS79VLEO"
      },
      "source": [
        "### Visualizzazione dei dati ottenuti"
      ]
    },
    {
      "cell_type": "markdown",
      "metadata": {
        "id": "cULMHMLrvinB"
      },
      "source": [
        "Generazione delle predizioni e calcolo delle metriche di performance:\n",
        "- **Soglia 0.5**: Scelta standard per classificazione binaria\n",
        "- **AUC-ROC**: Metrica principale per valutare la capacità discriminativa su tutte le soglie\n",
        "- **Classification Report**: Focus su recall e F1-score per la classe minoritaria (ictus)\n",
        "\n",
        "**Scelta tecnica**: Mantenimento della soglia standard 0.5 nonostante lo sbilanciamento iniziale, compensato dall'uso di `scale_pos_weight` durante l'addestramento.  \n"
      ]
    },
    {
      "cell_type": "code",
      "execution_count": null,
      "metadata": {
        "id": "6MDRlC--rdgs"
      },
      "outputs": [],
      "source": [
        "threshold_catb = 0.5\n",
        "\n",
        "y_pred_proba_catb, y_pred_catb = show_report(catb_model, X_test, y_test, threshold=threshold_catb)"
      ]
    },
    {
      "cell_type": "markdown",
      "metadata": {
        "id": "y3f5rayUcZ9W"
      },
      "source": [
        "Salvataggio dei risultati in un dict."
      ]
    },
    {
      "cell_type": "code",
      "execution_count": null,
      "metadata": {
        "id": "qLxU5E_ZbyiW"
      },
      "outputs": [],
      "source": [
        "catb_results = results_to_dict(y_test, y_pred_proba_catb, y_pred_catb)"
      ]
    },
    {
      "cell_type": "markdown",
      "metadata": {
        "id": "dm8p8IkgvoP5"
      },
      "source": [
        "Grafico della matrice di confusione."
      ]
    },
    {
      "cell_type": "code",
      "execution_count": null,
      "metadata": {
        "id": "hpUpKwU7okVi"
      },
      "outputs": [],
      "source": [
        "plot_confusion_matrix(y_test, y_pred_catb, threshold_catb)"
      ]
    },
    {
      "cell_type": "markdown",
      "metadata": {
        "id": "29icV8ruD1lF"
      },
      "source": [
        "Grafico della curva ROC."
      ]
    },
    {
      "cell_type": "code",
      "execution_count": null,
      "metadata": {
        "id": "VHuuYd9ID4Ru"
      },
      "outputs": [],
      "source": [
        "plot_roc_curve(y_test, y_pred_proba_catb)"
      ]
    },
    {
      "cell_type": "markdown",
      "metadata": {
        "id": "64G-zZcRMHTW"
      },
      "source": [
        "### Valutazione del modello CatBoost\n",
        "\n",
        "| **Metrica** | **Valore** | **Interpretazione** |\n",
        "|-------------|-----------:|---------------------|\n",
        "| **AUC-ROC** | **0.78** | Leggero miglioramento nella capacità di discriminazione tra le classi rispetto a XGBoost, ma ancora con margine di miglioramento. |\n",
        "| **Accuracy** | **0.93** | Alta accuratezza complessiva, comunque influenzata dallo sbilanciamento delle classi. |\n",
        "| **Classe 0**<br>(non-evento) | Precisione **0.96**<br>Recall **0.97**<br>F1-score **0.96** | Prestazioni molto solide nel riconoscere la classe maggioritaria, con pochi falsi positivi. |\n",
        "| **Classe 1**<br>(evento) | Precisione **0.19**<br>Recall **0.12**<br>F1-score **0.15** | Leggero miglioramento della precisione rispetto a XGBoost, ma il recall rimane molto basso, indicando che molti eventi vengono ancora non riconosciuti. |\n",
        "| **Macro avg** | **0.57** (precisione/recall/F1) | Media non pesata, ancora penalizzata dalla difficoltà nella classe minoritaria. |\n",
        "| **Weighted avg** | **0.92** | Media pesata, dominata dalla classe 0, quindi poco rappresentativa per la classe 1. |\n",
        "\n",
        "\n",
        "Il modello CatBoost migliora leggermente le metriche di classificazione rispetto a XGBoost, soprattutto nell’AUC-ROC e nella precisione della classe positiva.\n",
        "Tuttavia, il recall della classe 1 rimane molto basso, suggerendo la necessità di ulteriori strategie per migliorare il riconoscimento degli eventi rari.\n",
        "\n",
        "\n",
        "> **Conclusione:** CatBoost offre un lieve miglioramento  rispetto a XGBoost, ma rimane fondamentale lavorare sul bilanciamento per migliorare la capacità di rilevare la classe minoritaria.\n"
      ]
    },
    {
      "cell_type": "markdown",
      "metadata": {
        "id": "WBcRArNfBX8U"
      },
      "source": [
        "# LightGBM"
      ]
    },
    {
      "cell_type": "markdown",
      "metadata": {
        "id": "hmo8izaFycIt"
      },
      "source": [
        "Tpicamente LightGBM può riportare performance migliori rispetto a XGBoost e CatBoost nella gestione di dataset di grandi dimensioni [[source](https://kishanakbari.medium.com/xgboost-vs-catboost-vs-lightgbm-a-guide-to-boosting-algorithms-47d40d944dab)].\n",
        "Non essendo Stroke Risk Dataset considerabile di grandi dimensioni non ci aspettiamo particolari miglioramenti.\n",
        "Essendo tuttavia LightGBM uno degli algoritmi di Gradient Boosting più utilizzati [[source](https://www.youtube.com/watch?v=-vajbhIfVzs)] decidiamo comunque di dargli una possibilità."
      ]
    },
    {
      "cell_type": "code",
      "execution_count": null,
      "metadata": {
        "id": "JZVM12aKFTox"
      },
      "outputs": [],
      "source": [
        "!pip install lightgbm"
      ]
    },
    {
      "cell_type": "code",
      "execution_count": null,
      "metadata": {
        "id": "YFS6b-OuFVrZ"
      },
      "outputs": [],
      "source": [
        "import lightgbm as lgb\n",
        "from sklearn.preprocessing import LabelEncoder\n",
        "from sklearn.metrics import classification_report, roc_auc_score, confusion_matrix, roc_curve, auc"
      ]
    },
    {
      "cell_type": "markdown",
      "metadata": {
        "id": "y-Kc_xgQEDdS"
      },
      "source": [
        "Applicazione della pipeline di preprocessing alle variabili numeriche."
      ]
    },
    {
      "cell_type": "code",
      "execution_count": null,
      "metadata": {
        "id": "MCmRym2oFcuS"
      },
      "outputs": [],
      "source": [
        "X[numeric_features] = numeric_transformer.fit_transform(X[numeric_features])"
      ]
    },
    {
      "cell_type": "markdown",
      "metadata": {
        "id": "fp2kg6nbEGI0"
      },
      "source": [
        "Split del dataset mantenendo la stessa stratificazione."
      ]
    },
    {
      "cell_type": "code",
      "execution_count": null,
      "metadata": {
        "id": "qL0JSLR2Fehl"
      },
      "outputs": [],
      "source": [
        "X_train, X_test, y_train, y_test = train_test_split(\n",
        "    X, y, test_size=0.20, stratify=y, random_state=42\n",
        ")"
      ]
    },
    {
      "cell_type": "markdown",
      "metadata": {
        "id": "5GFnsXFoELvj"
      },
      "source": [
        "Encoding delle variabili categoriche."
      ]
    },
    {
      "cell_type": "code",
      "execution_count": null,
      "metadata": {
        "id": "awe18bnDFjbU"
      },
      "outputs": [],
      "source": [
        "X_train_lgb = X_train.copy()\n",
        "X_test_lgb = X_test.copy()"
      ]
    },
    {
      "cell_type": "markdown",
      "metadata": {
        "id": "RoTm08F0EeKy"
      },
      "source": [
        "Label encoding per le variabili categoriche."
      ]
    },
    {
      "cell_type": "code",
      "execution_count": null,
      "metadata": {
        "id": "3gJRjGuxFmkL"
      },
      "outputs": [],
      "source": [
        "label_encoders = {}\n",
        "for col in categorical_features:\n",
        "    le = LabelEncoder()\n",
        "    # Fit sul train set e transform sia train che test\n",
        "    X_train_lgb[col] = le.fit_transform(X_train_lgb[col].astype(str))\n",
        "    X_test_lgb[col] = le.transform(X_test_lgb[col].astype(str))\n",
        "    label_encoders[col] = le"
      ]
    },
    {
      "cell_type": "markdown",
      "metadata": {
        "id": "ta1IzZceEqgG"
      },
      "source": [
        "Applicazione SMOTEENN per bilanciare il dataset."
      ]
    },
    {
      "cell_type": "code",
      "execution_count": null,
      "metadata": {
        "id": "aTyaiiOSFovR"
      },
      "outputs": [],
      "source": [
        "smoteenn = SMOTEENN(random_state=42)\n",
        "X_train_resampled, y_train_resampled = smoteenn.fit_resample(X_train_lgb, y_train)"
      ]
    },
    {
      "cell_type": "markdown",
      "metadata": {
        "id": "58Hndhl1EyN9"
      },
      "source": [
        "Creazione dei dataset LightGBM.\n",
        "\n",
        "Specifichiamo le colonne categoriche per sfruttare la gestione nativa di LightGBM"
      ]
    },
    {
      "cell_type": "code",
      "execution_count": null,
      "metadata": {
        "id": "lT6rqUduFruW"
      },
      "outputs": [],
      "source": [
        "categorical_feature_indices = [X_train_resampled.columns.get_loc(col) for col in categorical_features]\n",
        "\n",
        "train_data = lgb.Dataset(\n",
        "    X_train_resampled,\n",
        "    label=y_train_resampled,\n",
        "    categorical_feature=categorical_feature_indices\n",
        ")\n",
        "\n",
        "test_data = lgb.Dataset(\n",
        "    X_test_lgb,\n",
        "    label=y_test,\n",
        "    categorical_feature=categorical_feature_indices,\n",
        "    reference=train_data\n",
        ")"
      ]
    },
    {
      "cell_type": "markdown",
      "metadata": {
        "id": "udqP11dhE8uf"
      },
      "source": [
        "Parametri ottimizzati per LightGBM."
      ]
    },
    {
      "cell_type": "code",
      "execution_count": null,
      "metadata": {
        "id": "_w6TfEarFwap"
      },
      "outputs": [],
      "source": [
        "lgb_params = {\n",
        "    'objective': 'binary',\n",
        "    'metric': 'auc',\n",
        "    'boosting_type': 'gbdt',\n",
        "    'num_leaves': 31,\n",
        "    'learning_rate': 0.03,\n",
        "    'feature_fraction': 0.8,\n",
        "    'bagging_fraction': 0.8,\n",
        "    'bagging_freq': 5,\n",
        "    'min_data_in_leaf': 20,\n",
        "    'random_state': 42,\n",
        "    'verbose': -1,\n",
        "    'scale_pos_weight': ( y.value_counts()[1] / y.value_counts()[0]),\n",
        "}"
      ]
    },
    {
      "cell_type": "markdown",
      "metadata": {
        "id": "TLxkUh3EE_kf"
      },
      "source": [
        "Training del modello LightGBM."
      ]
    },
    {
      "cell_type": "code",
      "execution_count": null,
      "metadata": {
        "id": "269R-6e5FzgL"
      },
      "outputs": [],
      "source": [
        "lgb_model = lgb.train(\n",
        "    lgb_params,\n",
        "    train_data,\n",
        "    num_boost_round=800,\n",
        "    valid_sets=[train_data, test_data],\n",
        "    valid_names=['train', 'eval'],\n",
        "    callbacks=[\n",
        "        lgb.early_stopping(stopping_rounds=100),\n",
        "        lgb.log_evaluation(period=100)\n",
        "    ]\n",
        ")"
      ]
    },
    {
      "cell_type": "markdown",
      "metadata": {
        "id": "cIr95TJaFJWW"
      },
      "source": [
        "Predizioni e valutazione con soglia a 0.5."
      ]
    },
    {
      "cell_type": "code",
      "execution_count": null,
      "metadata": {
        "id": "QoRnNkea7dSX"
      },
      "outputs": [],
      "source": [
        "threshold_lgb = 0.5\n",
        "\n",
        "y_pred_proba_lgb = lgb_model.predict(X_test_lgb, num_iteration=lgb_model.best_iteration)\n",
        "y_pred_lgb = (y_pred_proba_lgb >= threshold_lgb).astype(int)\n",
        "\n",
        "print(f\"AUC-ROC: {roc_auc_score(y_test, y_pred_proba_lgb):.4f}\")\n",
        "print(f\"Numero di iterazioni ottimali: {lgb_model.best_iteration}\")\n",
        "print(\"\\nClassification Report:\")\n",
        "print(classification_report(y_test, y_pred_lgb))"
      ]
    },
    {
      "cell_type": "markdown",
      "metadata": {
        "id": "r2rjcXspcijD"
      },
      "source": [
        "Salvataggio dei risultati in un dict."
      ]
    },
    {
      "cell_type": "code",
      "execution_count": null,
      "metadata": {
        "id": "u5M80sJdclAB"
      },
      "outputs": [],
      "source": [
        "lgb_results = results_to_dict(y_test, y_pred_proba_lgb, y_pred_lgb)"
      ]
    },
    {
      "cell_type": "markdown",
      "metadata": {
        "id": "qx-w0oELFj8G"
      },
      "source": [
        "Grafico matrice di confusione."
      ]
    },
    {
      "cell_type": "code",
      "execution_count": null,
      "metadata": {
        "id": "WTueVhP7FdyG"
      },
      "outputs": [],
      "source": [
        "plot_confusion_matrix(y_test, y_pred_lgb, threshold_lgb)"
      ]
    },
    {
      "cell_type": "markdown",
      "metadata": {
        "id": "e4t6sp3aFna-"
      },
      "source": [
        "Grafico curva roc."
      ]
    },
    {
      "cell_type": "code",
      "execution_count": null,
      "metadata": {
        "id": "dBZd9akQFgLp"
      },
      "outputs": [],
      "source": [
        "# Curva ROC\n",
        "plot_roc_curve(y_test, y_pred_proba_lgb)"
      ]
    },
    {
      "cell_type": "markdown",
      "metadata": {
        "id": "YS2vCR6w2SUn"
      },
      "source": [
        "### Valutazione del modello LightGBM\n",
        "\n",
        "| **Metrica** | **Valore** | **Interpretazione** |\n",
        "|-------------|-----------:|---------------------|\n",
        "| **AUC-ROC** | **0.786** | Leggero miglioramento nella capacità di discriminazione rispetto ai modelli precedenti, ma ancora con margine di miglioramento. |\n",
        "| **Accuracy** | **0.94** | Alta accuratezza complessiva, influenzata dallo sbilanciamento delle classi (972 vs 50 esempi). |\n",
        "| **Classe 0**<br>(non-evento) | Precisione **0.95**<br>Recall **0.98**<br>F1-score **0.97** | Ottime prestazioni nel riconoscere la classe maggioritaria, con pochi falsi negativi. |\n",
        "| **Classe 1**<br>(evento) | Precisione **0.19**<br>Recall **0.08**<br>F1-score **0.11** | Prestazioni ancora molto basse per la classe minoritaria, con un recall particolarmente basso, il che indica che molti eventi positivi non vengono rilevati. |\n",
        "| **Macro avg** | **0.57** (precisione/recall/F1) | Media non pesata che riflette la difficoltà nel riconoscere la classe minoritaria. |\n",
        "| **Weighted avg** | **0.92 - 0.94** | Media pesata dominata dalla classe 0, quindi poco rappresentativa per la classe 1. |\n",
        "\n",
        "LightGBM raggiunge il valore più alto di AUC-ROC tra i modelli provati, dimostrando una buona capacità di discriminazione globale.  \n",
        "La precisione e il recall della classe positiva restano però molto bassi, evidenziando una difficoltà nel riconoscere gli esempi della classe minoritaria.  \n",
        "L’elevata accuratezza è condizionata dallo sbilanciamento, quindi non riflette l’effettiva performance sulle classi.  \n",
        "\n",
        "> **Conclusione:** Nonostante l’AUC-ROC leggermente superiore, i valori più bassi di recall e F1-score indicano che LightGBM offre prestazioni peggiori nel riconoscimento della classe minoritaria rispetto agli altri modelli provati. Questo significa che il modello fatica maggiormente a individuare i veri positivi, compromettendo l’efficacia in scenari dove è fondamentale catturare la minoranza."
      ]
    },
    {
      "cell_type": "markdown",
      "metadata": {
        "id": "FK3jZ5mtFryC"
      },
      "source": [
        "LightGBM offre la possibilità di ottenere la feature importance ovvero quanto ogni feature di input contribuisce alle predizioni del modello."
      ]
    },
    {
      "cell_type": "code",
      "execution_count": null,
      "metadata": {
        "id": "s8IYzebLDdIF"
      },
      "outputs": [],
      "source": [
        "# Ottiene feature importance\n",
        "importance = lgb_model.feature_importance(importance_type='gain')\n",
        "feature_names = X_train_resampled.columns\n",
        "\n",
        "feature_importance_df = pd.DataFrame({\n",
        "    'feature': feature_names,\n",
        "    'importance': importance\n",
        "}).sort_values('importance', ascending=False)\n",
        "\n",
        "print(feature_importance_df.head(10))\n",
        "\n",
        "# Plot feature importance\n",
        "plt.figure(figsize=(10, 8))\n",
        "top_features = feature_importance_df.head(15)\n",
        "plt.barh(range(len(top_features)), top_features['importance'])\n",
        "plt.yticks(range(len(top_features)), top_features['feature'])\n",
        "plt.xlabel('Feature Importance (Gain)')\n",
        "plt.title('Top 15 Feature Importance - LightGBM')\n",
        "plt.gca().invert_yaxis()\n",
        "plt.tight_layout()\n",
        "plt.show()"
      ]
    },
    {
      "cell_type": "markdown",
      "metadata": {
        "id": "rzlBNNt_4Z84"
      },
      "source": [
        "La feature importance risulta plausibile in quanto\n",
        "\n",
        "*   età superiore ai 50 anni\n",
        "*   presenza di diabete\n",
        "*   stile di vita non sano e un alto livello di colesterolo, spesso associati ad un alto valore di bmi\n",
        "\n",
        "sono considerate tra le maggiori cause di ictus [[link text](https://www.nhs.uk/conditions/stroke/causes/)]."
      ]
    },
    {
      "cell_type": "markdown",
      "metadata": {
        "id": "vpZ_wSN-GCZh"
      },
      "source": []
    },
    {
      "cell_type": "markdown",
      "metadata": {
        "id": "wUpn8ioBcBo1"
      },
      "source": [
        "# Risultati ottenuti attraverso XGBoost, CatBoost e LightGBM"
      ]
    },
    {
      "cell_type": "markdown",
      "metadata": {
        "id": "kBrKKCQWukTR"
      },
      "source": [
        "Riportiamo i risultati sulla classe postivia (stroke=1) ottenuti attraverso i modelli XGBoost, CatBoost e LightGBM."
      ]
    },
    {
      "cell_type": "code",
      "execution_count": null,
      "metadata": {
        "id": "CbZoRJodXqyb"
      },
      "outputs": [],
      "source": [
        "results = {\n",
        "    'XGBoost':   xgb_results,\n",
        "    'CatBoost':  catb_results,\n",
        "    'LightGBM':  lgb_results\n",
        "}\n",
        "\n",
        "df = pd.DataFrame(results).T\n",
        "\n",
        "# Highlight max value in each column with green background\n",
        "styled_df = df.style.highlight_max(axis=0, color='blue')\n",
        "\n",
        "print(Fore.BLUE + \"Valore più alto evidenziato per colonna.\")\n",
        "styled_df"
      ]
    },
    {
      "cell_type": "markdown",
      "metadata": {
        "id": "-Hcodj5HfTBZ"
      },
      "source": [
        "### Commento sui risultati dei modelli\n",
        "\n",
        "- **AUC (Area Under the ROC Curve):**  \n",
        "  LightGBM raggiunge il valore più alto (0.786), seguito da CatBoost (0.780) e XGBoost (0.755), indicando che LightGBM ha la migliore capacità globale di discriminazione tra classi.\n",
        "\n",
        "- **Accuracy:**  \n",
        "  Anche qui LightGBM primeggia (0.938), con CatBoost (0.932) e XGBoost (0.925) leggermente inferiori. Tuttavia, dato il forte sbilanciamento delle classi, l’accuracy è meno indicativa della capacità di riconoscimento della minoranza.\n",
        "\n",
        "- **Precision:**  \n",
        "  CatBoost ha la precisione più alta (0.194), seguita da LightGBM (0.190) e XGBoost (0.171). Questo indica che CatBoost commette meno falsi positivi rispetto agli altri.\n",
        "\n",
        "- **Recall:**  \n",
        "  XGBoost ottiene il valore migliore (0.14), seguito da CatBoost (0.12) e LightGBM (0.08). Il recall misura la capacità di riconoscere i veri positivi, e un valore basso in tutti indica una difficoltà generale nel catturare la classe minoritaria.\n",
        "\n",
        "- **F1-Score:**  \n",
        "  XGBoost guida con 0.154, CatBoost segue con 0.148, mentre LightGBM è più basso (0.113).\n",
        "\n",
        "---\n",
        "\n",
        "### Sintesi\n",
        "- **XGBoost** mostra un migliore recall e F1, quindi riconosce più esempi positivi, ma con una precisione inferiore e un’AUC più bassa.  \n",
        "- **CatBoost** si posiziona tra i due, con la precisione più alta ma un recall leggermente inferiore a XGBoost.\n",
        "- **LightGBM** offre la migliore capacità complessiva di discriminazione e accuratezza, ma ha recall e F1-score più bassi, suggerendo una minore efficacia nel rilevare la classe minoritaria.  \n",
        "\n",
        "---\n",
        "\n",
        "### Considerazioni finali\n",
        "Considerando il forte sbilanciamento del dataset possiamo giungere alla conclusione di come le metriche AUC e Accuracy, nelle quali LightGBM primeggia, non siano particolarmente significative.\n",
        "I modelli da tenere più in considerazione sono qundi\n",
        "\n",
        "-   XGBoost → riconosce più falsi positivi ma, in generale, più positivi.\n",
        "-   CatBoost → riconosce meno falsi positivi ma, in generale, riconosce meno positivi.\n",
        "\n",
        "In un contesto medico solitamente si tende a prediligere un modello che, a discapito di più falsi positivi, sia in grado di catturare più positivi.\n",
        "Appare tuttavia evidente come, essendo Precision, Recall e F1-Score molto bassi, nessuno dei modelli trovati sia effettivamente utilizzabile.\n",
        "\n",
        "\n",
        "\n",
        "\n"
      ]
    },
    {
      "cell_type": "markdown",
      "metadata": {
        "id": "7tAUFE_NOhTY"
      },
      "source": [
        "# Grid Search"
      ]
    },
    {
      "cell_type": "markdown",
      "metadata": {
        "id": "08pFXFDJOpac"
      },
      "source": [
        "Per trovare un modello che produca risultati accettabili proviamo a trovare i parametri migliori attraversio Grid Search.\n",
        "\n",
        "Il modello che ha trovato i migliori risultati in termini di Recall e F1-Score sulla classe positiva è XGBoost.\n",
        "Ci concentriamo quindi ad utilizzare Grid Search su XGBoost."
      ]
    },
    {
      "cell_type": "code",
      "execution_count": null,
      "metadata": {
        "id": "ScQbFbkldFon"
      },
      "outputs": [],
      "source": [
        "!pip install tabulate"
      ]
    },
    {
      "cell_type": "code",
      "execution_count": null,
      "metadata": {
        "id": "FmPaeNknOYNB"
      },
      "outputs": [],
      "source": [
        "import xgboost as xgb\n",
        "from sklearn.model_selection import GridSearchCV\n",
        "from sklearn.metrics import make_scorer, precision_score, recall_score\n",
        "from tabulate import tabulate"
      ]
    },
    {
      "cell_type": "code",
      "execution_count": null,
      "metadata": {
        "id": "zc-lEuFsyvEH"
      },
      "outputs": [],
      "source": [
        "X_train, X_test, y_train, y_test = train_test_split(\n",
        "    X, y, test_size=0.2, random_state=42, stratify=y\n",
        ")"
      ]
    },
    {
      "cell_type": "markdown",
      "metadata": {
        "id": "YTyDMKCePU3e"
      },
      "source": [
        "Creazione di scorer specifici per valutare le performance sul rilevamento degli ictus (classe 1):  \n",
        "- **precision_scorer**: Misura la percentuale di veri positivi tra i predetti come ictus  \n",
        "- **recall_scorer**: Misura la capacità di individuare tutti i reali casi di ictus  \n",
        "- **f1_scorer**: Media armonica tra precision e recall (balance tra falsi positivi e falsi negativi)  \n",
        "\n",
        "**Scelta importante**: `pos_label=1` focalizza le metriche sulla **classe minoritaria** (ictus), cruciale in contesto medico dove i falsi negativi hanno conseguenze più gravi dei falsi positivi.  \n"
      ]
    },
    {
      "cell_type": "code",
      "execution_count": null,
      "metadata": {
        "id": "HlXzyqbSOdoS"
      },
      "outputs": [],
      "source": [
        "# Scorers per la classe 1\n",
        "precision_scorer = make_scorer(precision_score, pos_label=1)\n",
        "recall_scorer = make_scorer(recall_score, pos_label=1)\n",
        "f1_scorer = make_scorer(f1_score, pos_label=1)"
      ]
    },
    {
      "cell_type": "markdown",
      "metadata": {
        "id": "2O5CGDncQGaf"
      },
      "source": [
        "Definizione dello spazio di ricerca degli iperparametri chiave:\n",
        "- **Parametri controllo complessità**:\n",
        "  - `max_depth` (profondità alberi): range 4-8 per bilanciare overfitting/capacità predittiva\n",
        "  - `subsample` (frazione di dati per ogni albero): valori 0.7-1 per ridurre varianza\n",
        "- **Parametri ottimizzazione apprendimento**:\n",
        "  - `learning_rate` (tasso di apprendimento): valori bassi (0.01) per precisione vs alti (0.1) per velocità\n",
        "  - `n_estimators` (numero alberi): range 100-800 con early stopping\n"
      ]
    },
    {
      "cell_type": "code",
      "execution_count": null,
      "metadata": {
        "id": "P19xAt-_Qzae"
      },
      "outputs": [],
      "source": [
        "param_grid = {\n",
        "    'model__max_depth': [4, 6, 8],\n",
        "    'model__learning_rate': [0.01, 0.03, 0.1],\n",
        "    'model__n_estimators': [100, 400, 800],\n",
        "    'model__subsample': [0.7, 0.8, 1],\n",
        "}"
      ]
    },
    {
      "cell_type": "markdown",
      "metadata": {
        "id": "mKuc-dC-Yxzn"
      },
      "source": [
        "### Grid Search per massimizzare F1-Score"
      ]
    },
    {
      "cell_type": "markdown",
      "metadata": {
        "id": "kfPrbkj9REbS"
      },
      "source": [
        "Ricerca degli iperparametri ottimali con focus sul bilanciamento precision/recall:\n",
        "- **Scoring multiplo**: Calcola precision, recall e F1 per la classe 1 (ictus) ad ogni fold\n",
        "- **Refit su F1**: Seleziona il modello con il miglior trade-off tra precision e recall\n",
        "- **CV stratificata**: Si utilizza una cross validation a 5 split\n",
        "\n",
        "**Scelte strategiche**:  \n",
        "- `n_jobs=-1`: Parallelizza la ricerca su tutti i core della CPU  \n",
        "- `verbose=2`: Log dettagliato per monitorare l'avanzamento  \n",
        "- Integrazione nella pipeline: Garantisce che SMOTEENN venga applicato solo al training set\n",
        "\n",
        "Il modello migliore sarà quindi scelto secondo l'F1-Score:\n",
        "\n",
        "\\begin{align}\n",
        "F1_{score} = 2 \\times \\frac{Precision \\times Recall}{Precision + Recall}\n",
        "\\end{align}\n",
        "Dove:\n",
        "\n",
        " \\begin{align}\n",
        "  Recall = \\frac{TP}{TP+FN}\n",
        "\\end{align}\n",
        "\n",
        "\n",
        "\n",
        "\\begin{align}\n",
        "  Precision = \\frac{TP}{TP+FP}\n",
        "\\end{align}\n",
        "\n",
        "\n",
        "\n",
        "\n",
        "\n",
        "\n",
        "\n",
        "con:\n",
        "*   ***TP*** → True Positives\n",
        "*   ***FP*** → False Positives\n",
        "*   ***TN*** → True Negatives\n",
        "*   ***FN*** → False Negatives\n",
        "\n"
      ]
    },
    {
      "cell_type": "code",
      "execution_count": null,
      "metadata": {
        "id": "KmeNVWeUSVHM"
      },
      "outputs": [],
      "source": [
        "grid_search_f1 = GridSearchCV(\n",
        "    estimator=pipe,\n",
        "    param_grid=param_grid,\n",
        "    scoring={'precision': precision_scorer, 'recall': recall_scorer, 'f1': f1_scorer},\n",
        "    refit='f1',        # Il modello migliore sarà scelto secondo F1 score\n",
        "    cv=5,\n",
        "    verbose=2,\n",
        "    n_jobs=-1,\n",
        ")"
      ]
    },
    {
      "cell_type": "markdown",
      "metadata": {
        "id": "HCPT033OVwTa"
      },
      "source": [
        "Fit usando dati raw, `pipe` gestisce preprocessing e bilanciamento.\n",
        "><font color=\"orange\"> **Attenzione ⚠️:** </font>  il seguente codice impiega **dai 7 ai 10 minuti** di esecuzione utilizzando la **GPU T4** di Colab."
      ]
    },
    {
      "cell_type": "code",
      "execution_count": null,
      "metadata": {
        "colab": {
          "background_save": true
        },
        "id": "Blctdlp8Vv-7"
      },
      "outputs": [],
      "source": [
        "grid_search_f1.fit(X, y)"
      ]
    },
    {
      "cell_type": "markdown",
      "metadata": {
        "id": "dDQbAVJDWWV6"
      },
      "source": [
        "### Estrazione dei risultati"
      ]
    },
    {
      "cell_type": "markdown",
      "metadata": {
        "id": "zKwrRmxHZB68"
      },
      "source": [
        "Estaiamo i parametri che hanno totalizzato una F1-Score maggiore."
      ]
    },
    {
      "cell_type": "code",
      "execution_count": null,
      "metadata": {
        "colab": {
          "background_save": true
        },
        "id": "vWIMMU9OqT_r"
      },
      "outputs": [],
      "source": [
        "def show_best_results(grid_search):\n",
        "  print(Fore.GREEN + \"Best params:\", grid_search.best_params_)\n",
        "  print(Fore.BLUE + \"Best F1 score:\", grid_search.best_score_)\n",
        "\n",
        "  # Precision e recall del miglior modello\n",
        "  print(Fore.CYAN + \"Precision:\", grid_search.cv_results_['mean_test_precision'][grid_search.best_index_])\n",
        "  print(Fore.LIGHTBLUE_EX + \"Recall:\", grid_search.cv_results_['mean_test_recall'][grid_search.best_index_])\n",
        "\n",
        "show_best_results(grid_search_f1)"
      ]
    },
    {
      "cell_type": "markdown",
      "metadata": {
        "id": "KJM_iCzbgI_Q"
      },
      "source": [
        "- **Migliori parametri trovati** da GridSearchCV:\n",
        "  - `learning_rate`: 0.1\n",
        "  - `max_depth`: 8\n",
        "  - `n_estimators`: 800\n",
        "  - `subsample`: 0.7\n",
        "\n",
        "- **Miglior valore di F1 score ottenuto**: ~ 0.1553  \n",
        "  Questo significa che la media armonica tra precision e recall per la classe positiva durante la CV è piuttosto bassa, indicando che il modello fatica, nonstante tutto, a bilanciare falsi positivi e falsi negativi.\n",
        "\n",
        "- **Precisione**: ~ 0.1549  \n",
        "  Di tutti i campioni predetti come positivi, solo ~15.5% sono effettivamente positivi. Questo indica un alto tasso di falsi positivi.\n",
        "\n",
        "- **Recall**: ~ 0.1567  \n",
        "  Il modello ha riconosciuto correttamente solo ~15.7% dei veri positivi, perdendo la maggior parte dei casi positivi.\n",
        "\n",
        "I parametri trovati non forniscono ancora una buona capacità di classificazione per la classe positiva, come evidenziato dai bassi valori di Precision, Recall e F1."
      ]
    },
    {
      "cell_type": "markdown",
      "metadata": {
        "id": "rkcEOxDMm-eD"
      },
      "source": [
        "### Ottimizzazione soglia di classificazione per la classe target"
      ]
    },
    {
      "cell_type": "markdown",
      "metadata": {
        "id": "13ny3WL2nDeh"
      },
      "source": [
        "Proviamo ora a trovare la miglior solgia di classificazione per la classe target. Cerchiamo quindi di selezionare la soglia che riesce a dare un F1-Score migliore."
      ]
    },
    {
      "cell_type": "markdown",
      "metadata": {
        "id": "MbczCCs_nzs1"
      },
      "source": [
        "Salvataggio del modello che ha performato meglio e che quindi, ovviamente, contiene i parametri migliori."
      ]
    },
    {
      "cell_type": "code",
      "execution_count": null,
      "metadata": {
        "colab": {
          "background_save": true
        },
        "id": "vUtBRxEtuhxf"
      },
      "outputs": [],
      "source": [
        "best_model_f1 = grid_search_f1.best_estimator_"
      ]
    },
    {
      "cell_type": "markdown",
      "metadata": {
        "id": "S-w8VwgdoCeY"
      },
      "source": [
        "Funzione per trovare la soglia ottimale che massimizza una metrica specifica (es. F1-score) per la classe 1 (ictus):\n",
        "\n",
        "- <u>***Cosa fa:***</u>\n",
        "  \n",
        "  Testa `iterations` soglie diverse (da 0 a 1) calcolando precision, recall e F1 per entrambe le classi\n",
        "- <u>***Logica:***</u>  \n",
        "  1. **Abbassare la soglia** → più predizioni come 1 (aumenta recall, *riduce falsi negativi*)  \n",
        "  2. **Alzare la soglia** → meno predizioni come 1 (aumenta precision, *riduce falsi positivi*)\n",
        "\n",
        "**Scelte tecniche**:  \n",
        "- `zero_division=0`: Gestisce casi con divisione per zero senza interrompere l'esecuzione  \n",
        "- Valutazione bilanciata: Mostra metriche per entrambe le classi ma ottimizza solo sulla target (ictus)  \n",
        "- Formattazione tabellare: Permette confronto rapido del trade-off tra classi"
      ]
    },
    {
      "cell_type": "code",
      "execution_count": null,
      "metadata": {
        "colab": {
          "background_save": true
        },
        "id": "ULkvQ8-IbbJc"
      },
      "outputs": [],
      "source": [
        "# best_model         -->     modello che meglio ha performato in Grid Search\n",
        "# evaluation_metric  -->     metrica di valutazione del modello (F1-score, Recall, Precision)\n",
        "# target_class       -->     classe (0 / 1) per cui si deve massimizzare l'evaluation model\n",
        "# iterations         -->     numero di iterazioni corrispondenti al numero di sogli testate\n",
        "def find_best_thresholds(best_model, evaluation_metric, target_class, iterations, X_test, y_test):\n",
        "  eval = str(evaluation_metric + f' ({target_class})')\n",
        "\n",
        "  # Estrzione della colonna contenente le probabilità della target_class\n",
        "  y_pred_proba = best_model.predict_proba(X_test)[:, target_class]\n",
        "  thresholds = np.linspace(0, 1, num=iterations)\n",
        "  results = []\n",
        "\n",
        "  # Test delle iterations thresholds da 0 a 1\n",
        "  for thr in thresholds:\n",
        "      y_pred = (y_pred_proba >= thr).astype(int)\n",
        "\n",
        "      # Metriche per la classe positiva 1\n",
        "      prec_1 = precision_score(y_test, y_pred, pos_label=1, zero_division=0)\n",
        "      rec_1 = recall_score(y_test, y_pred, pos_label=1, zero_division=0)\n",
        "      f1_1 = f1_score(y_test, y_pred, pos_label=1, zero_division=0)\n",
        "\n",
        "      # Metriche per la classe negativa 0\n",
        "      prec_0 = precision_score(y_test, y_pred, pos_label=0, zero_division=0)\n",
        "      rec_0 = recall_score(y_test, y_pred, pos_label=0, zero_division=0)\n",
        "      f1_0 = f1_score(y_test, y_pred, pos_label=0, zero_division=0)\n",
        "\n",
        "      results.append({\n",
        "          'Threshold': thr,\n",
        "          'Precision (1)': prec_1,\n",
        "          'Recall (1)': rec_1,\n",
        "          'F1-score (1)': f1_1,\n",
        "          'Precision (0)': prec_0,\n",
        "          'Recall (0)': rec_0,\n",
        "          'F1-score (0)': f1_0,\n",
        "      })\n",
        "\n",
        "  df = pd.DataFrame(results).round(3)\n",
        "\n",
        "  # Trova il miglior threshold da eval\n",
        "  best_idx = df[eval].idxmax()\n",
        "  best_row = df.loc[best_idx]\n",
        "\n",
        "  # Tabella contenente i risultati\n",
        "  table = [\n",
        "      ['Precision', best_row['Precision (1)'], best_row['Precision (0)']],\n",
        "      ['Recall',    best_row['Recall (1)'],    best_row['Recall (0)']],\n",
        "      ['F1-score',  best_row['F1-score (1)'],  best_row['F1-score (0)']],\n",
        "  ]\n",
        "\n",
        "  tab = tabulate(table, headers=['Metric', 'Class 1', 'Class 0'], floatfmt=\".3f\", tablefmt=\"grid\")\n",
        "  text = f\"Best threshold by {eval}: {best_row['Threshold']:.3f}\"\n",
        "  resume = [y_test, y_pred, best_row['Threshold'], y_pred_proba]\n",
        "\n",
        "  print(Fore.CYAN + text)\n",
        "  print(tab)\n",
        "  return resume, text, tab"
      ]
    },
    {
      "cell_type": "markdown",
      "metadata": {
        "id": "Le4DWxcVwWen"
      },
      "source": [
        "Dopo una serie di test `iterations=50` risulta essere la scelta migliore."
      ]
    },
    {
      "cell_type": "markdown",
      "metadata": {
        "id": "48182gQqwwER"
      },
      "source": [
        "#### Soglia migliore per F1-score"
      ]
    },
    {
      "cell_type": "code",
      "execution_count": null,
      "metadata": {
        "colab": {
          "background_save": true
        },
        "id": "N-znLTh0siaI"
      },
      "outputs": [],
      "source": [
        "resume_f1, text_f1, tab_f1 = find_best_thresholds(best_model_f1, 'F1-score', 1, 50, X_test=X_test, y_test=y_test)"
      ]
    },
    {
      "cell_type": "markdown",
      "metadata": {
        "id": "o9lOGMZdxZ6d"
      },
      "source": [
        "Ottimo miglioramento rispetto ai risultati precedenti."
      ]
    },
    {
      "cell_type": "markdown",
      "metadata": {
        "id": "FekB_YjNw3bA"
      },
      "source": [
        "#### Soglia migliore per Recall"
      ]
    },
    {
      "cell_type": "code",
      "execution_count": null,
      "metadata": {
        "colab": {
          "background_save": true
        },
        "id": "5JMFK31_sjMT"
      },
      "outputs": [],
      "source": [
        "tab_rec = find_best_thresholds(best_model_f1, 'Recall', 1, 50, X_test=X_test, y_test=y_test)"
      ]
    },
    {
      "cell_type": "markdown",
      "metadata": {
        "id": "LwyqSz5dxefv"
      },
      "source": [
        "Pessimo risultato, ovviamente impostando `threshold=0` il modello classificherà tutti i casi come positivi."
      ]
    },
    {
      "cell_type": "markdown",
      "metadata": {
        "id": "BZDdQV2Ww8XJ"
      },
      "source": [
        "#### Soglia migliore per Precision"
      ]
    },
    {
      "cell_type": "code",
      "execution_count": null,
      "metadata": {
        "colab": {
          "background_save": true
        },
        "id": "mtgLZfkRt3Oq"
      },
      "outputs": [],
      "source": [
        "tab_prec = find_best_thresholds(best_model_f1, 'Precision', 1, 50, X_test=X_test, y_test=y_test)"
      ]
    },
    {
      "cell_type": "markdown",
      "metadata": {
        "id": "JO93zafCx9AZ"
      },
      "source": [
        "Ottimo miglioramento rispetto ai casi precedenti."
      ]
    },
    {
      "cell_type": "markdown",
      "metadata": {
        "id": "uAk0MwS81xC8"
      },
      "source": [
        "# Conclusioni"
      ]
    },
    {
      "cell_type": "markdown",
      "metadata": {
        "id": "g3l2WjTby1OY"
      },
      "source": [
        "I risultati migliori sono stati ottenuti ottimizzando la soglia (**threshold**) per le metriche di **F1-Score** e **Precisione**. Tuttavia, è importante notare che la massimizzazione dell'**F1-Score** ha comportato un miglioramento significativo anche nella **Recall** (66.0% contro 58.0%).\n",
        "\n",
        "In ambito medico, si tende a preferire modelli capaci di intercettare un maggior numero di veri positivi, anche a costo di un aumento ragionevole dei falsi positivi, privilegiando quindi una **Recall** più elevata. Modelli che invece aumentano il numero di falsi negativi, riducendo la capacità di riconoscere positivi, sono considerati meno affidabili e potenzialmente rischiosi.\n",
        "\n",
        "Di conseguenza, il modello ottimizzato sulla soglia che massimizza l'**F1-Score** rappresenta la scelta migliore per questo contesto, offrendo un bilanciamento efficace tra precisione e capacità di individuare i casi positivi."
      ]
    },
    {
      "cell_type": "markdown",
      "metadata": {
        "id": "plQYBYDejyhB"
      },
      "source": [
        "### Commento risultati del modello migliore\n",
        "\n",
        "- **Threshold ottimale** scelto in base al massimo valore di F1-score per la **classe positiva (1)**: **0.429**  \n",
        "\n",
        "- **Precision**:\n",
        "  - Classe 1: `0.458` — Il modello è corretto nel 45.8% dei casi in cui predice la classe positiva.  \n",
        "  - Classe 0: `0.982` — Il modello è molto preciso nel predire la classe negativa, con un tasso di errori molto basso.\n",
        "\n",
        "- **Recall**:\n",
        "  - Classe 1: `0.660` — Il modello identifica correttamente il 66.0% dei veri positivi, mostrando una buona capacità di rilevamento dei casi positivi.  \n",
        "  - Classe 0: `0.960` — Il modello riconosce correttamente il 96.0% dei veri negativi, quindi sbaglia poco nel classificare la classe negativa.\n",
        "\n",
        "- **F1-score**:\n",
        "  - Classe 1: `0.541` — Il bilanciamento tra precisione e recall per la classe positiva è moderato, indicando che c’è ancora margine di miglioramento.  \n",
        "  - Classe 0: `0.971` — Ottimo bilanciamento per la classe negativa, con prestazioni molto solide.\n",
        "\n"
      ]
    },
    {
      "cell_type": "markdown",
      "metadata": {
        "id": "DlXEooGP2ZZ7"
      },
      "source": [
        "### Confronto con i risultati ottenuti prima di Grid-Search"
      ]
    },
    {
      "cell_type": "code",
      "execution_count": null,
      "metadata": {
        "colab": {
          "background_save": true
        },
        "id": "W0ZJctcz2hsE"
      },
      "outputs": [],
      "source": [
        "print(Fore.BLUE + \"Valore più alto evidenziato per colonna.\")\n",
        "styled_df"
      ]
    },
    {
      "cell_type": "code",
      "execution_count": null,
      "metadata": {
        "colab": {
          "background_save": true
        },
        "id": "AGHW7rf-3RGL"
      },
      "outputs": [],
      "source": [
        "print(Fore.GREEN + text_f1)\n",
        "print(tab_f1)"
      ]
    },
    {
      "cell_type": "markdown",
      "metadata": {
        "id": "zafpPg035ErN"
      },
      "source": [
        "Mettendo a confronto le tabelle, si possono notare miglioramenti significativi nel riconoscimento della **classe positiva** dopo l'applicazione di Grid Search e l'ottimizzazione della soglia per l'**F1-Score**.\n",
        "\n",
        "In particolare, considerando i migliori risultati ottenuti tra XGBoost, CatBoost e LightGBM (prima tabella):\n",
        "\n",
        "- **Precisione**: da **0.194** *(CatBoost)* a **0.458,** con un aumento di <font color='green'>**+0.264**</font>\n",
        "- **Recall**: da **0.140** *(XGBoost)* a **0.660,** con un aumento di <font color='green'>**+0.520**</font>\n",
        "- **F1-Score**: da **0.154** *(XGBoost)* a **0.541,** con un aumento di <font color='green'>**+0.387**</font>\n"
      ]
    },
    {
      "cell_type": "code",
      "execution_count": null,
      "metadata": {
        "colab": {
          "background_save": true
        },
        "id": "BlaXOSPF90TO"
      },
      "outputs": [],
      "source": [
        "plot_confusion_matrix(resume_f1[0], (resume_f1[3]>=0.041).astype(int), 0.041)"
      ]
    },
    {
      "cell_type": "code",
      "execution_count": null,
      "metadata": {
        "colab": {
          "background_save": true
        },
        "id": "Rjap5oZ07o78"
      },
      "outputs": [],
      "source": [
        "plot_roc_curve(resume_f1[0], resume_f1[3])"
      ]
    },
    {
      "cell_type": "markdown",
      "metadata": {
        "id": "AYISMJRVu3Vs"
      },
      "source": [
        "Confrontando la matrice di confusione e la curva roc appena ottenute con quellle trovate in precedenza con **XGBoost, CatBoost** e **LightBoost** i miglioramenti sono apprezzabili.\n",
        "Confrontando i due grafici, prendendo come riferimento XGBoost:\n",
        "- <u>***Matrice di confusione***</u>\n",
        "  * **Veri Negativi** → da **96.5%** a **96.0%,** perdita di <font color='orange'>-0.5%</font>\n",
        "  * **Falsi Negativi** → da **86.0%** a **34.0%,** diminuzione del <font color='green'>**-52.0%**</font>\n",
        "  * **Veri Positivi** → da **14.0%** a **66.0%,** aumento del <font color='green'>**+52.0%**</font>\n",
        "  * **Falsi Positivi** → da **3.5%** a **4.0%,** perdita di <font color='orange'>-0.5%</font>\n",
        "\n",
        "A fronte di un peggioremanto dello 0.5% nel classificare i reali negativi, che ha portato ad un aumento dei falsi positivi del 0.5%, **il modello è migliorato del 52% a riconoscere i reali positivi.**\n",
        "Questo piccolo trade off è assolutamente conveniente, soprattutto considerando l'ambito medico in cui opera il modello.\n",
        "\n",
        "- <u>***Curva Roc***</u>\n",
        "  * Area sotto la curva passata da **0.76** a <font color='cyan'>**0.95**</font>, aumento di <font color='green'>**0.19**</font>\n",
        "  * L'area sotto la curva supera ora abbondantemente la soglia di <font color='yellow'>**0.80**</font>. Possiamo quindi concludere, <u>sempre tenendo in considerazione i valori non accettabili di Recall, F1-Score e Precision,</u> che la **capacità discriminativa** del modello trovato sia **buona.**"
      ]
    },
    {
      "cell_type": "markdown",
      "metadata": {
        "id": "UWnxCrUNH6eh"
      },
      "source": [
        "### Suggerimenti per migliorare ulteriormente il modello\n",
        "\n",
        "- **Bilanciamento dati:** provare ad utilizzare tecniche differenti da SMOTEENN come ADASYN.\n",
        "- **Feature engineering:** esplorare nuove feature, trasformazioni o selezioni di feature che possano migliorare la capacità predittiva del modello.\n",
        "- **Ottimizzazione iperparametri:** estendere la ricerca includendo più parametri o usando tecniche più sofisticate come Bayesian Optimization o Hyperband.\n",
        "- **Modelli ensemble:** combinare diversi modelli (ad esempio stacking di XGBoost, LightGBM e CatBoost) per sfruttare punti di forza complementari.\n",
        "- **Threshold tuning:** continuare a esplorare soglie diverse e metriche personalizzate in base al contesto applicativo.\n",
        "- **Nested cross-validation:** utilizzare Nested cross-validation  per avere una stima più robusta delle performance del modello.\n",
        "- **Generazione sintentica di dati:** utilizzare un LLM per generare dati appartenenti alla classe minoritaria per bilanciare utlteriormente il training set.\n",
        "\n",
        "Sono soddisfatto dei risultati ottenuti perché il modello, grazie all'ottimizzazione della soglia e alla ricerca degli iperparametri, ha mostrato un significativo miglioramento nella capacità di riconoscere correttamente la classe positiva, aumentando sia precisione che recall in modo equilibrato. Il progetto, partendo dai suggerimenti appena citati, rimane comunque ampliabile e migliorabile in futuro.\n"
      ]
    },
    {
      "cell_type": "markdown",
      "metadata": {
        "id": "f_dj5y5tKpny"
      },
      "source": [
        "# Analisi Stroke Prediction Dataset V2"
      ]
    },
    {
      "cell_type": "markdown",
      "metadata": {
        "id": "w7mitXVzLfI5"
      },
      "source": [
        "In questa sezione si analizza la **seconda versione** di ***Stroke Prediction Dataset.***\n",
        "\n",
        "<font color=\"lightgreen\"> Il dataset è reperibile qui </font>[Kaggle](https://www.kaggle.com/datasets/mahatiratusher/stroke-risk-prediction-dataset-v2).\n"
      ]
    },
    {
      "cell_type": "markdown",
      "metadata": {
        "id": "La1y8SaVLpEu"
      },
      "source": [
        "### Data Exploration"
      ]
    },
    {
      "cell_type": "code",
      "execution_count": null,
      "metadata": {
        "colab": {
          "background_save": true
        },
        "id": "vKyAeOk2Lv0P"
      },
      "outputs": [],
      "source": [
        "df_stroke_v2.head()"
      ]
    },
    {
      "cell_type": "markdown",
      "metadata": {
        "id": "JhnR0vrtPYVg"
      },
      "source": [
        "Il dataset *Stroke Prediction Dataset V2* contiene le seguenti feature, come evidenziato dalla prima visualizzazione:\n",
        "\n",
        "- `age:` età del paziente espressa in anni.\n",
        "- `gender:` genere del paziente (Female/Male).\n",
        "- `chest_pain:` presenza o assenza di dolore toracico (binaria, 0/1).\n",
        "- `high_blood_pressure:` presenza o assenza di ipertensione (binaria, 0/1).\n",
        "- `irregular_heartbeat:` presenza o assenza di battito cardiaco irregolare (binaria, 0/1).\n",
        "- `shortness_of_breath:` presenza o assenza di respiro corto (binaria, 0/1).\n",
        "- `fatigue_weakness:` presenza o assenza di affaticamento o debolezza (binaria, 0/1).\n",
        "- `dizziness:` presenza o assenza di vertigini (binaria, 0/1).\n",
        "- `swelling_edema:` presenza o assenza di gonfiore o edema (binaria, 0/1).\n",
        "- `neck_jaw_pain:` presenza o assenza di dolore a collo e mandibola (binaria, 0/1).\n",
        "- `excessive_sweating:` presenza o assenza di sudorazione eccessiva (binaria, 0/1).\n",
        "- `persistent_cough:` presenza o assenza di tosse persistente (binaria, 0/1).\n",
        "- `nausea_vomiting:` presenza o assenza di nausea o vomito (binaria, 0/1).\n",
        "- `chest_discomfort:` presenza o assenza di fastidio al petto (binaria, 0/1).\n",
        "- `cold_hands_feet:` presenza o assenza di mani e piedi freddi (binaria, 0/1).\n",
        "- `snoring_sleep_apnea:` presenza o assenza di russamento o apnea notturna (binaria, 0/1).\n",
        "- `anxiety_doom:` presenza o assenza di ansia o sensazione di morte imminente (binaria, 0/1).\n",
        "- `stroke_risk_percentage:` percentuale stimata di rischio di ictus (variabile continua da 0 a 100).\n",
        "- `at_risk:` variabile target binaria che indica se il paziente è considerato a rischio di ictus (1) o meno (0).\n",
        "\n",
        "Si può subito apprezzare come questa versione del dataset sia più dettagliata della precedente:\n",
        "\n",
        "\n",
        "\n",
        "*   ***Stroke Prediction Dataset:*** contiene 12 colonne di cui **11 colonne significative** e 1 colonna `id` da eliminare\n",
        "*   ***Stroke Prediction Dataset V2:*** contiene 19 colonne di cui **18 significative** e colonna `stroke_risk_percentage` da eliminare\n",
        "Notiamo, inoltre, come la seconda versione del dataset contenga features quali `anxiety_doom` e `snoring_sleep_apnea` denotando una particolare attenzione anche per lo stile di vita dei pazienti."
      ]
    },
    {
      "cell_type": "code",
      "execution_count": null,
      "metadata": {
        "colab": {
          "background_save": true
        },
        "id": "IWhnWEYotVCJ"
      },
      "outputs": [],
      "source": [
        "bins = 20\n",
        "counts, bin_edges = np.histogram(df_stroke_v2['age'], bins=bins)\n",
        "bar_width = bin_edges[1] - bin_edges[0]\n",
        "plt.figure(figsize=(10, 6))\n",
        "\n",
        "for i, count in enumerate(counts):\n",
        "    color = 'skyblue' if i % 2 == 0 else 'blue'\n",
        "\n",
        "    plt.bar(bin_edges[i], count, width=bar_width, align='edge', color=color, edgecolor='black')\n",
        "\n",
        "plt.title('Age Distribution', fontsize=16)\n",
        "plt.ylabel('Frequency', fontsize=12)\n",
        "\n",
        "plt.gca().spines[['top', 'right']].set_visible(False)\n",
        "plt.grid(axis='y', linestyle='--', alpha=0.7)\n",
        "\n",
        "plt.tight_layout()\n",
        "plt.show()"
      ]
    },
    {
      "cell_type": "markdown",
      "metadata": {
        "id": "UaOxPjtq6ba-"
      },
      "source": [
        "Il grafico mostra la distribuzione dell’età, i due colori servono solamente per distinguere meglio le classi.  \n",
        "Si osserva che la maggior parte dei dati si concentra tra i 25 e i 45 anni, con una leggera differenza nella forma delle distribuzioni tra i gruppi.  \n",
        "I soggetti over 55, che raddoppiano la probabilità di ictus ogni 10 anni [[source](https://www.cdc.gov/stroke/risk-factors/index.html)], sono poco rappresenatati.\n"
      ]
    },
    {
      "cell_type": "code",
      "execution_count": null,
      "metadata": {
        "colab": {
          "background_save": true
        },
        "id": "8Cc1r2OrtocK"
      },
      "outputs": [],
      "source": [
        "figsize = (12, 1.2 * len(df_stroke_v2['gender'].unique()))\n",
        "plt.figure(figsize=figsize)\n",
        "custom_colors = ['pink', 'lightblue']\n",
        "sns.violinplot(df_stroke_v2, x='age', y='gender', hue='gender', inner='box', palette=custom_colors, legend=False)\n",
        "sns.despine(top=True, right=True, bottom=True, left=True)\n",
        "plt.show()"
      ]
    },
    {
      "cell_type": "markdown",
      "metadata": {
        "id": "cQ4ToBR_8t0d"
      },
      "source": [
        "La distribuzione dell'età tra i due sessi è sostanzialmente la stessa e con una mediana tra i 35-40 anni."
      ]
    },
    {
      "cell_type": "code",
      "execution_count": null,
      "metadata": {
        "colab": {
          "background_save": true
        },
        "id": "gnL0OLrq4g17"
      },
      "outputs": [],
      "source": [
        "import plotly.express as px"
      ]
    },
    {
      "cell_type": "code",
      "execution_count": null,
      "metadata": {
        "colab": {
          "background_save": true
        },
        "id": "kyOW7YWWzLEs"
      },
      "outputs": [],
      "source": [
        "df_sampled = df_stroke_v2\n",
        "df_sampled['symptom_score'] = df_stroke_v2[['chest_pain', 'high_blood_pressure', 'irregular_heartbeat', 'shortness_of_breath']].sum(axis=1)\n",
        "df_sampled['at_risk'] = df_sampled['at_risk'].astype(str)\n",
        "df_sampled = df_sampled.sample(frac=0.1, random_state=42)\n",
        "\n",
        "color_map = {'0': 'green', '1': 'red'}\n",
        "\n",
        "fig = px.scatter_3d(df_sampled,\n",
        "                    x='age',\n",
        "                    y='stroke_risk_percentage',\n",
        "                    z='symptom_score',\n",
        "                    color='at_risk',\n",
        "                    color_discrete_map=color_map,\n",
        "                    opacity=1,\n",
        "                    size_max=3,\n",
        "                    labels={'age':'Età', 'stroke_risk_percentage':'Rischio (%)', 'symptom_score':'Sintomi'},\n",
        "                    title='Distribuzione 3D Età, Rischio e Sintomi')\n",
        "\n",
        "fig.update_traces(marker=dict(size=4))\n",
        "fig.update_layout(scene_camera=dict(eye=dict(x=1.5, y=1.5, z=1)))\n",
        "fig.show()"
      ]
    },
    {
      "cell_type": "markdown",
      "metadata": {
        "id": "mkZ5rw3L4BVp"
      },
      "source": [
        "Il grafico rappresenta la distribuzione tridimensionale dei pazienti in base a tre variabili:  \n",
        "- **Età** (asse X)  \n",
        "- **Percentuale di rischio di ictus** (asse Y)  \n",
        "- **Numero di sintomi rilevati** (asse Z)\n",
        "\n",
        "I punti sono colorati in base alla variabile target `at_risk`:  \n",
        "- Verde indica pazienti non a rischio (0)  \n",
        "- Rosso indica pazienti a rischio (1)\n",
        "\n",
        "Possiamo osservare che:\n",
        "\n",
        "- I pazienti a rischio (punti rossi) tendono a concentrarsi in aree con età più alta e con un maggior numero di sintomi.  \n",
        "- La percentuale di rischio stimata è mediamente più elevata nei pazienti a rischio, come ci si aspetterebbe.  \n",
        "- Si nota una certa separazione tra i due gruppi, suggerendo che età, sintomi e rischio stimato sono variabili rilevanti per distinguere pazienti a rischio.  \n",
        "- Alcune sovrapposizioni sono presenti, ma complessivamente il grafico aiuta a visualizzare la relazione multidimensionale tra queste variabili e il rischio di ictus.\n",
        "\n",
        ">  **Disclaimer:**\n",
        "* Il numero di sintomi rilevati è stato calcolato semplicemente come somma di alcuni sintomi che compaiono nel paziente in considerazione.\n",
        "* Per rendere la visualizzazione dei punti più semplice il grafico è stato disegnato prendendo in considerazione un sample del dataset originale. Solamente il 10% dei pazienti, presi casualmente dal dataset originale, sono stati rappresentati.\n"
      ]
    },
    {
      "cell_type": "code",
      "execution_count": null,
      "metadata": {
        "colab": {
          "background_save": true
        },
        "id": "CE8FeOmCOp4_"
      },
      "outputs": [],
      "source": [
        "df_stroke_v2.describe()"
      ]
    },
    {
      "cell_type": "markdown",
      "metadata": {
        "id": "vUpbuxi_HrQT"
      },
      "source": [
        "Si pone l’attenzione su una serie di dati:\n",
        "\n",
        "1. <u>**Dimensione e completezza:**</u>  \n",
        "   * Il dataset contiene 35.000 campioni completi senza valori mancanti evidenti.\n",
        "   * A differenza del dateset precedente che ne conteneva solamente 5110 con 201 incompleti.\n",
        "\n",
        "2. <u>**Distribuzione dell’età:**</u>  \n",
        "   * Età media circa 38.6 anni con un range da 18 a 86 anni.  \n",
        "   * Mediana a 37 anni.\n",
        "\n",
        "3. <u>**Presenza di sintomi e fattori di rischio:**</u>  \n",
        "   * Le variabili binarie (es. `chest_pain`, `high_blood_pressure`) mostrano valori medi tra 10% e 25%, indicando una prevalenza di assenza di sintomi.  \n",
        "   * La deviazione standard intorno a 0.3-0.4 è coerente con variabili binarie sbilanciate.\n",
        "\n",
        "4. <u>**Rischio stimato di ictus:**</u>  \n",
        "   * Media al 44.5%, con valori che variano da 1.5% fino al 100%.  \n",
        "   * Il 75% dei campioni ha rischio inferiore a circa 64.5%.\n",
        "\n",
        "5. <u>**Punteggio sintomi aggregato:**</u>  \n",
        "   * Media molto bassa (0.69) e massimo 4, indicando che la maggior parte dei soggetti presenta pochi sintomi rilevanti.\n",
        "\n",
        "6. <u>**Features Numeriche**</u>\n",
        "  * Solamente la colonna `gender` presenta features categoriche.\n"
      ]
    },
    {
      "cell_type": "code",
      "execution_count": null,
      "metadata": {
        "colab": {
          "background_save": true
        },
        "id": "X_vBqKWnJ_gi"
      },
      "outputs": [],
      "source": [
        "target_balance('at_risk', df_stroke_v2)"
      ]
    },
    {
      "cell_type": "code",
      "execution_count": null,
      "metadata": {
        "colab": {
          "background_save": true
        },
        "id": "4w04BDkMGC0H"
      },
      "outputs": [],
      "source": [
        "sns.countplot(x='at_risk', data=df_stroke_v2)\n",
        "plt.title(\"Distribuzione Target Stroke\")\n",
        "plt.show()"
      ]
    },
    {
      "cell_type": "markdown",
      "metadata": {
        "id": "V9ujTL0oJ6HG"
      },
      "source": [
        "Il dataset è leggermente sbilanciato verso la classe negativa.\n",
        "\n",
        "\n",
        "\n",
        "*   **at_risk=0** → 63.18%\n",
        "*   **at_risk=1** → 36.82%\n",
        "\n",
        "Utilizzare delle tecniche di bilanciamento potrebbe essere necessario.\n"
      ]
    },
    {
      "cell_type": "markdown",
      "metadata": {
        "id": "CyfnD_y8LTPF"
      },
      "source": [
        "# Preprocessing"
      ]
    },
    {
      "cell_type": "markdown",
      "metadata": {
        "id": "jzGgarblPQnm"
      },
      "source": [
        "L'unica colonna non necessaria per la costruzione di un modello di classificazione è `stroke_risk_percentage`."
      ]
    },
    {
      "cell_type": "code",
      "execution_count": null,
      "metadata": {
        "colab": {
          "background_save": true
        },
        "id": "lDem5u4kPfnW"
      },
      "outputs": [],
      "source": [
        "df_stroke_v2_processed = df_stroke_v2.drop(columns=['stroke_risk_percentage'])"
      ]
    },
    {
      "cell_type": "markdown",
      "metadata": {
        "id": "Vqnnfi2pLXBP"
      },
      "source": [
        "Per poter utlizzare con facilità un qualsiasi modello di classificazione convertiamo la colonna `gender` da testuale a binaria."
      ]
    },
    {
      "cell_type": "code",
      "execution_count": null,
      "metadata": {
        "colab": {
          "background_save": true
        },
        "id": "4zA_QUi2L24i"
      },
      "outputs": [],
      "source": [
        "df_stroke_v2_processed['gender'] = df_stroke_v2_processed['gender'].map({'Female': 0, 'Male': 1})\n",
        "df_stroke_v2_processed.head(3)"
      ]
    },
    {
      "cell_type": "markdown",
      "metadata": {
        "id": "Zis7goWrxNwc"
      },
      "source": [
        "Conversione della colonna target da stringa a intero."
      ]
    },
    {
      "cell_type": "code",
      "execution_count": null,
      "metadata": {
        "colab": {
          "background_save": true
        },
        "id": "4gcaY8YywzbA"
      },
      "outputs": [],
      "source": [
        "df_stroke_v2_processed['at_risk'] = df_stroke_v2_processed['at_risk'].astype(int)\n",
        "df_stroke_v2_processed['at_risk'].head(3)"
      ]
    },
    {
      "cell_type": "markdown",
      "metadata": {
        "id": "aV1vXmJVNkJV"
      },
      "source": [
        "# Definizione variabile target"
      ]
    },
    {
      "cell_type": "code",
      "execution_count": null,
      "metadata": {
        "colab": {
          "background_save": true
        },
        "id": "zFkJ4CaCNx3p"
      },
      "outputs": [],
      "source": [
        "X = df_stroke_v2_processed.drop(columns=['at_risk'])\n",
        "y = df_stroke_v2_processed['at_risk']\n",
        "scale_pos_weight = (y.value_counts().iloc[1] / y.value_counts().iloc[0])"
      ]
    },
    {
      "cell_type": "markdown",
      "metadata": {
        "id": "BRdcxbw4EsaQ"
      },
      "source": [
        "# XGBoost"
      ]
    },
    {
      "cell_type": "code",
      "execution_count": null,
      "metadata": {
        "colab": {
          "background_save": true
        },
        "id": "S9ZsjGrwSIG_"
      },
      "outputs": [],
      "source": [
        "X_train_v2, X_test_v2, y_train_v2, y_test_v2 = train_test_split(\n",
        "    X, y, test_size=0.3, stratify=y, random_state=42\n",
        ")"
      ]
    },
    {
      "cell_type": "markdown",
      "metadata": {
        "id": "3o6zmDR4FNbB"
      },
      "source": [
        "Imposto gli stessi parametri della prima sezione."
      ]
    },
    {
      "cell_type": "code",
      "execution_count": null,
      "metadata": {
        "colab": {
          "background_save": true
        },
        "id": "pZEtqU1ox2VY"
      },
      "outputs": [],
      "source": [
        "xgb_v2 = XGBClassifier(\n",
        "    n_estimators=800,\n",
        "    learning_rate=0.03,\n",
        "    max_depth=6,\n",
        "    subsample=0.8,\n",
        "    colsample_bytree=0.8,\n",
        "    objective=\"binary:logistic\",\n",
        "    eval_metric=\"auc\",\n",
        "    random_state=42,\n",
        "    scale_pos_weight=scale_pos_weight\n",
        ")"
      ]
    },
    {
      "cell_type": "markdown",
      "metadata": {
        "id": "sPWe1hrsGBg5"
      },
      "source": [
        "Esecuzione del training del modello monitorando le performance su eval_set per spottare un possibile overfitting.\n",
        "> Il parametro verbose è impostato a **False** per mantenere un output pulito."
      ]
    },
    {
      "cell_type": "code",
      "execution_count": null,
      "metadata": {
        "colab": {
          "background_save": true
        },
        "id": "D4L17nT8xdUa"
      },
      "outputs": [],
      "source": [
        "eval_set = [(X_train_v2, y_train_v2), (X_test_v2, y_test_v2)]\n",
        "xgb_v2.fit(X_train_v2, y_train_v2, eval_set=eval_set, verbose=False)"
      ]
    },
    {
      "cell_type": "code",
      "execution_count": null,
      "metadata": {
        "colab": {
          "background_save": true
        },
        "id": "7zAutRmvzGAr"
      },
      "outputs": [],
      "source": [
        "threshold_xgb = 0.5\n",
        "y_pred_proba_v2, y_pred_v2 = show_report(xgb_v2, X_test=X_test_v2, y_test=y_test_v2)"
      ]
    },
    {
      "cell_type": "markdown",
      "metadata": {
        "id": "vjGYA8jnG1pC"
      },
      "source": [
        "I risultati mostrano dei valori troppo vicini all'1 per essere convincenti.\n",
        "\n",
        "*   **AUC** → <font color=\"yellow\">99.9996%</font> è un valore praticamente perfetto e decisamente troppo alto per non destare sospetti\n",
        "*   **Recall, Precision e F1-Score** → <font color=\"yellow\">da 97% a 100%</font> sia nella classe positiva che negativa, sono risultati impensabili in un modello reale\n",
        "\n",
        "Questi valori sono praticamente irraggiungibili per un modello di classificazione reale.\n",
        "> <font color=\"orange\"> **Problema ⚠️:**</font> Il modello mostra forti segnali di <font color=\"red\">**Overfitting**</font> oppure di <font color=\"red\"> **Data Leakage.**</font>\n",
        "\n",
        "Bisogna investigare per risolvere il problema e rendere il modello efficace anche per applicazioni reali.\n",
        "\n"
      ]
    },
    {
      "cell_type": "markdown",
      "metadata": {
        "id": "fBqs5Os0KJAk"
      },
      "source": [
        "# Troubleshooting"
      ]
    },
    {
      "cell_type": "markdown",
      "metadata": {
        "id": "qSAmRkXJKaqo"
      },
      "source": [
        "Analisi dell'andamento della AUC sia sul training set che sul test set."
      ]
    },
    {
      "cell_type": "code",
      "execution_count": null,
      "metadata": {
        "colab": {
          "background_save": true
        },
        "id": "eUVI9od47Tjd"
      },
      "outputs": [],
      "source": [
        "results = xgb_v2.evals_result()\n",
        "\n",
        "# Plot training and validation error (auc)\n",
        "epochs = len(results['validation_0']['auc'])\n",
        "x_axis = range(0, epochs)\n",
        "\n",
        "# Plot training and validation auc\n",
        "plt.figure(figsize=(10, 6))\n",
        "plt.plot(x_axis, results['validation_0']['auc'], label='Train Auc')\n",
        "plt.plot(x_axis, results['validation_1']['auc'], label='Validation Auc')\n",
        "\n",
        "# Adding labels and title\n",
        "plt.title('XGBoost Auc - Training vs Validation')\n",
        "plt.xlabel('Number of Boosting Rounds')\n",
        "plt.ylabel('Auc')\n",
        "plt.legend()\n",
        "\n",
        "# Show the plot\n",
        "plt.show()"
      ]
    },
    {
      "cell_type": "markdown",
      "metadata": {
        "id": "ovEgTN10K8G4"
      },
      "source": [
        "Dal grafico si nota che:\n",
        "- **Entrambe le curve crescono rapidamente nelle prime iterazioni**, raggiungendo valori molto alti già intorno alle 100-200 iterazioni.  \n",
        "- **La curva di training AUC (in rosa) raggiunge quasi il valore massimo di 1.0**, indicando che il modello si adatta molto bene ai dati di training.  \n",
        "- **La curva di validation AUC (in marrone) segue da vicino quella di training**, raggiungendo valori molto elevati (vicino a 0.999), il che indica un'eccellente capacità di generalizzazione sui dati di validazione.  \n",
        "- La differenza tra le due curve è minima e si mantiene costante, suggerendo un **bassissimo rischio di overfitting**.  \n",
        "- Dopo circa 200-300 iterazioni, le curve si stabilizzano, indicando che il modello ha raggiunto il massimo apprendimento utile e ulteriori iterazioni portano a miglioramenti marginali o nulli.\n",
        "\n",
        "Il problema non sembra quindi stare nell'**Overfitting** ma, probabilmente, nel <font color=\"red\">**Data Leakage.**</font>"
      ]
    },
    {
      "cell_type": "markdown",
      "metadata": {
        "id": "GhSySoKWMLI8"
      },
      "source": [
        "### Investigazione sul Data Leakage"
      ]
    },
    {
      "cell_type": "markdown",
      "metadata": {
        "id": "VoSAQOwOMQsw"
      },
      "source": [
        "Se il modello è in data leakage significa che sta utilizzando informazioni, disponibili durante il training, che non saranno però disponibili in un utilizzo rale [[source](https://www.ibm.com/think/topics/data-leakage-machine-learning)].\n",
        "Il modello potrebbe quindi aver individuato una feature, o una serire di feature, che sostanzialmente rivelano il target.\n",
        "> Osservando il grafico soprastante è verosimile pensare come il modello possa aver individuato questa cheat feature intorno all'iterazione 100 (intorno in cui entrambe le curve iniziano a separarsi)."
      ]
    },
    {
      "cell_type": "code",
      "execution_count": null,
      "metadata": {
        "colab": {
          "background_save": true
        },
        "id": "YbUuuyOdLmvP"
      },
      "outputs": [],
      "source": [
        "from xgboost import plot_importance"
      ]
    },
    {
      "cell_type": "markdown",
      "metadata": {
        "id": "kUbWWgN6L1ha"
      },
      "source": [
        "Un primo passo per trovare le 'cheat features' sta nel verificare la feature importance di XGBoost."
      ]
    },
    {
      "cell_type": "code",
      "execution_count": null,
      "metadata": {
        "colab": {
          "background_save": true
        },
        "id": "s4_qXmkzCzzX"
      },
      "outputs": [],
      "source": [
        "def feature_importance_plot(model=xgb_v2, bar_color='salmon'): # Added bar_color parameter\n",
        "  plt.figure(figsize=(10, 8))\n",
        "  ax = plot_importance(model, max_num_features=15, importance_type='gain')\n",
        "  plt.title('Feature Importance (Gain)')\n",
        "\n",
        "  # Iterate through the bars and set their color\n",
        "  for bar in ax.patches:\n",
        "      bar.set_color(bar_color)\n",
        "\n",
        "  plt.tight_layout()\n",
        "  plt.show()\n",
        "\n",
        "feature_importance_plot()"
      ]
    },
    {
      "cell_type": "markdown",
      "metadata": {
        "id": "_zgwWJgpNp_l"
      },
      "source": [
        "Si può notare come le feature `symptom_score` e `age` costituiscano, di gran lunga, le feature che il modello considera maggiormente per effettuare le predizioni. E' probabile che la cheat feature si nasconda proprio in queste colonne, concentriamo quindi l'attenzione su queste due classi."
      ]
    },
    {
      "cell_type": "markdown",
      "metadata": {
        "id": "nTsfhGCeOruc"
      },
      "source": [
        "### Controllo di **symptom_score**"
      ]
    },
    {
      "cell_type": "markdown",
      "metadata": {
        "id": "KbXGR48wO-w7"
      },
      "source": [
        "La mia strategia consiste nell'addestrare nuovamene il modello eliminando la colonna `symptom_score` per poi misurare la potenziale perdita delle performance."
      ]
    },
    {
      "cell_type": "code",
      "execution_count": null,
      "metadata": {
        "colab": {
          "background_save": true
        },
        "id": "CIIATGML-9LK"
      },
      "outputs": [],
      "source": [
        "X_no_symp = X.drop(columns=['symptom_score'])\n",
        "X_train_no_symp, X_test_no_symp, y_train_no_symp, y_test_no_symp = train_test_split(\n",
        "    X_no_symp, y, test_size=0.3, stratify=y, random_state=42\n",
        ")"
      ]
    },
    {
      "cell_type": "code",
      "execution_count": null,
      "metadata": {
        "colab": {
          "background_save": true
        },
        "id": "3wp92vEe_EeN"
      },
      "outputs": [],
      "source": [
        "eval_set = [(X_train_no_symp, y_train_no_symp), (X_test_no_symp, y_test_no_symp)]\n",
        "xgb_v2.fit(X_train_no_symp, y_train_no_symp, eval_set=eval_set, verbose=False)"
      ]
    },
    {
      "cell_type": "code",
      "execution_count": null,
      "metadata": {
        "colab": {
          "background_save": true
        },
        "id": "3q1qlnGT_Qx6"
      },
      "outputs": [],
      "source": [
        "y_pred_proba_no_symp, y_pred_no_symp = show_report(xgb_v2, X_test=X_test_no_symp, y_test=y_test_no_symp)"
      ]
    },
    {
      "cell_type": "markdown",
      "metadata": {
        "id": "48cbrAfRQc-S"
      },
      "source": [
        "Le prestazioni sono sostanzialmente rimaste invariate.\n",
        "\n",
        "*   **AUC** → rimasto sostanzialmente invariato, non è plausibile\n",
        "*   **Precision, Recallm F1-Score** → calate in generale ma di pochissimo\n",
        "\n",
        "Questi valori indicano come il data leakage non sia stato provocato da `symptom_score`.\n"
      ]
    },
    {
      "cell_type": "code",
      "execution_count": null,
      "metadata": {
        "colab": {
          "background_save": true
        },
        "id": "N1_EdvdcbMIi"
      },
      "outputs": [],
      "source": [
        "results = xgb_v2.evals_result()\n",
        "\n",
        "# Plot training and validation error (auc)\n",
        "epochs = len(results['validation_0']['auc'])\n",
        "x_axis = range(0, epochs)\n",
        "\n",
        "# Plot training and validation auc\n",
        "plt.figure(figsize=(10, 6))\n",
        "plt.plot(x_axis, results['validation_0']['auc'], label='Train Auc')\n",
        "plt.plot(x_axis, results['validation_1']['auc'], label='Validation Auc')\n",
        "\n",
        "# Adding labels and title\n",
        "plt.title('XGBoost Auc - Training vs Validation')\n",
        "plt.xlabel('Number of Boosting Rounds')\n",
        "plt.ylabel('Auc')\n",
        "plt.legend()\n",
        "\n",
        "# Show the plot\n",
        "plt.show()"
      ]
    },
    {
      "cell_type": "markdown",
      "metadata": {
        "id": "c-sEwxH4ckBK"
      },
      "source": [
        "Il grafico delle curve AUC è rimasto sostanzialmente invariato."
      ]
    },
    {
      "cell_type": "code",
      "execution_count": null,
      "metadata": {
        "colab": {
          "background_save": true
        },
        "id": "BG4I46wsRhRt"
      },
      "outputs": [],
      "source": [
        "feature_importance_plot()"
      ]
    },
    {
      "cell_type": "markdown",
      "metadata": {
        "id": "fJWFUHeGR5cf"
      },
      "source": [
        "La feature `high_blood_pressure` ha assunto una grande importanza passando dalla nona posizione alla seconda, questo posizionamento, essendo la pressione alta uno dei maggiori fattori di rischio per l'ictus [[source](https://www.cdc.gov/stroke/risk-factors/index.html)], è assolutamente realistico. La feaure `age` diventa invece prima per importanza."
      ]
    },
    {
      "cell_type": "markdown",
      "metadata": {
        "id": "7VSOgyMEQ6XO"
      },
      "source": [
        "### Controllo **age**"
      ]
    },
    {
      "cell_type": "markdown",
      "metadata": {
        "id": "O4grmXhxSkvc"
      },
      "source": [
        "Rimozione colonna `age`."
      ]
    },
    {
      "cell_type": "code",
      "execution_count": null,
      "metadata": {
        "colab": {
          "background_save": true
        },
        "id": "fuNKjPA4C_7y"
      },
      "outputs": [],
      "source": [
        "X_no_age = X.drop(columns=['age'])\n",
        "X_train_no_age, X_test_no_age, y_train_no_age, y_test_no_age = train_test_split(\n",
        "    X_no_age, y, test_size=0.3, stratify=y, random_state=42\n",
        ")\n",
        "xgb_v2_no_age = xgb_v2\n",
        "xgb_v2_no_age.fit(X_train_no_age, y_train_no_age)"
      ]
    },
    {
      "cell_type": "code",
      "execution_count": null,
      "metadata": {
        "colab": {
          "background_save": true
        },
        "id": "riI16akaD3lg"
      },
      "outputs": [],
      "source": [
        "y_pred_proba_no_age, y_pred_no_age = show_report(xgb_v2_no_age, X_test=X_test_no_age, y_test=y_test_no_age)"
      ]
    },
    {
      "cell_type": "markdown",
      "metadata": {
        "id": "qTC2ugzkS67o"
      },
      "source": [
        "Il modello presenta performance peggiori, rispetto a quello con la colonna `age`, ma comunque accettabili e soprattuto plausibili per un applicativo medico.\n",
        "\n",
        "In particolare:\n",
        "\n",
        "*   **AUC** → 93.373% scende di poco più del <font color=\"orange\">**6%,**</font> rimanendo comunque ottima.\n",
        "*   **Precision, Recall e F1-Score** → valori compresi tra il <font color=\"green\"> **72%** </font> e l' <font color=\"green\">**90%**,</font> risultando essere plausibili.\n",
        "\n"
      ]
    },
    {
      "cell_type": "code",
      "execution_count": null,
      "metadata": {
        "colab": {
          "background_save": true
        },
        "id": "QBUMd91za7-L"
      },
      "outputs": [],
      "source": [
        "results = xgb_v2_no_age.evals_result()\n",
        "\n",
        "# Plot training and validation error (auc)\n",
        "epochs = len(results['validation_0']['auc'])\n",
        "x_axis = range(0, epochs)\n",
        "\n",
        "# Plot training and validation auc\n",
        "plt.figure(figsize=(10, 6))\n",
        "plt.plot(x_axis, results['validation_0']['auc'], label='Train Auc')\n",
        "plt.plot(x_axis, results['validation_1']['auc'], label='Validation Auc')\n",
        "\n",
        "# Adding labels and title\n",
        "plt.title('XGBoost Auc - Training vs Validation')\n",
        "plt.xlabel('Number of Boosting Rounds')\n",
        "plt.ylabel('Auc')\n",
        "plt.legend()\n",
        "\n",
        "# Show the plot\n",
        "plt.show()"
      ]
    },
    {
      "cell_type": "markdown",
      "metadata": {
        "id": "LfaxVSNJcq9H"
      },
      "source": [
        "Anche in questo caso il grafico delle curve AUC è rimasto sostanzialmente invariato."
      ]
    },
    {
      "cell_type": "code",
      "execution_count": null,
      "metadata": {
        "colab": {
          "background_save": true
        },
        "id": "RwB8uPrllqsQ"
      },
      "outputs": [],
      "source": [
        "plt.figure(figsize=(10, 8))\n",
        "\n",
        "report_dict = classification_report(y_test_v2, y_pred_v2, output_dict=True)\n",
        "report_dict_no_age = classification_report(y_test_no_age, y_pred_no_age, output_dict=True)\n",
        "\n",
        "class_label = '1'\n",
        "if class_label not in report_dict:\n",
        "    print(f\"Warning: Class label '{class_label}' not found in report_dict. Available keys: {report_dict.keys()}\")\n",
        "if class_label not in report_dict_no_age:\n",
        "    print(f\"Warning: Class label '{class_label}' not found in report_dict_no_age. Available keys: {report_dict_no_age.keys()}\")\n",
        "\n",
        "ax1 = plt.subplot(1, 1, 1, projection='polar')\n",
        "\n",
        "metrics = ['AUC', 'Precision', 'Recall', 'F1-Score', 'Accuracy']\n",
        "\n",
        "with_age_scores = [\n",
        "    float(roc_auc_score(y_test_v2, y_pred_proba_v2)),\n",
        "    float(report_dict[class_label]['precision']),\n",
        "    float(report_dict[class_label]['recall']),\n",
        "    float(report_dict[class_label]['f1-score']),\n",
        "    float(report_dict['accuracy'])\n",
        "]\n",
        "\n",
        "without_age_scores = [\n",
        "    float(roc_auc_score(y_test_no_age, y_pred_proba_no_age)),\n",
        "    float(report_dict_no_age[class_label]['precision']),\n",
        "    float(report_dict_no_age[class_label]['recall']),\n",
        "    float(report_dict_no_age[class_label]['f1-score']),\n",
        "    float(report_dict_no_age['accuracy'])\n",
        "]\n",
        "\n",
        "angles = np.linspace(0, 2 * np.pi, len(metrics), endpoint=False).tolist()\n",
        "angles += angles[:1]\n",
        "\n",
        "with_age_scores += with_age_scores[:1]\n",
        "without_age_scores += without_age_scores[:1]\n",
        "\n",
        "ax1.plot(angles, with_age_scores, 'r-', linewidth=2, label='With Age')\n",
        "ax1.fill(angles, with_age_scores, 'red', alpha=0.25)\n",
        "ax1.plot(angles, without_age_scores, 'b-', linewidth=2, label='Without Age')\n",
        "ax1.fill(angles, without_age_scores, 'blue', alpha=0.25)\n",
        "\n",
        "ax1.set_xticks(angles[:-1])\n",
        "ax1.set_xticklabels(metrics)\n",
        "ax1.set_ylim(0, 1)\n",
        "ax1.set_title('Performance Metrics\\nRadar Chart')\n",
        "\n",
        "ax1.legend(loc='upper right', bbox_to_anchor=(1.2, 1.0))\n",
        "\n",
        "plt.show()"
      ]
    },
    {
      "cell_type": "markdown",
      "metadata": {
        "id": "imsWZk4xc1rD"
      },
      "source": [
        "Come mostrato dal grafico soprastante la diminuzione delle performance che si è verificata successivamente alla rimozione della colonna `age` è sostanziale."
      ]
    },
    {
      "cell_type": "code",
      "execution_count": null,
      "metadata": {
        "colab": {
          "background_save": true
        },
        "id": "WA6V3o-DVn2y"
      },
      "outputs": [],
      "source": [
        "# Set style\n",
        "plt.style.use('seaborn-v0_8')\n",
        "sns.set_palette(\"husl\")\n",
        "\n",
        "# Create the age groups with corrected labels\n",
        "df_stroke_v2_processed['age_group'] = df_stroke_v2_processed['age'].apply(\n",
        "    lambda x: 'Age ≥ 37' if x >= 37 else 'Age < 37'\n",
        ")\n",
        "\n",
        "# Create figure with multiple subplots\n",
        "fig = plt.figure(figsize=(20, 15))\n",
        "\n",
        "# 1. Stacked bar chart showing absolute numbers\n",
        "ax2 = plt.subplot(2, 4, 2)\n",
        "\n",
        "stroke_by_age_group = pd.crosstab(df_stroke_v2_processed['age_group'], df_stroke_v2_processed['at_risk'])\n",
        "\n",
        "stroke_by_age_group.plot(kind='bar', stacked=True, ax=ax2, color=['lightblue', 'salmon'])\n",
        "ax2.set_title('Stroke Cases by Age Group (Absolute Numbers)')\n",
        "ax2.set_xlabel('Age Group')\n",
        "ax2.set_ylabel('Number of Patients')\n",
        "ax2.legend(['No Stroke', 'Stroke'])\n",
        "ax2.tick_params(axis='x', rotation=0)\n",
        "\n",
        "# Add count labels\n",
        "for container in ax2.containers:\n",
        "    ax2.bar_label(container, label_type='center')\n",
        "\n",
        "# Pie chart for Age ≥ 37 group\n",
        "ax3 = plt.subplot(2, 4, 3)\n",
        "age_over_or_equal_37 = df_stroke_v2_processed[df_stroke_v2_processed['age'] >= 37]\n",
        "\n",
        "# Explicitly get counts for 'No Stroke' and 'Stroke' in correct order\n",
        "stroke_counts_over_or_equal_37 = age_over_or_equal_37['at_risk'].value_counts()\n",
        "# Assuming 'at_risk' uses 0 for No Stroke and 1 for Stroke, order counts explicitly\n",
        "counts_37 = [\n",
        "    stroke_counts_over_or_equal_37.get(0, 0),  # No Stroke\n",
        "    stroke_counts_over_or_equal_37.get(1, 0)   # Stroke\n",
        "]\n",
        "\n",
        "ax3.pie(counts_37, labels=['No Stroke', 'Stroke'],\n",
        "        autopct='%1.1f%%', startangle=90, colors=['lightblue', 'salmon'])\n",
        "ax3.set_title(f'Age ≥ 37 Group\\n(n={len(age_over_or_equal_37)} patients)')\n",
        "\n",
        "# Pie chart for Age < 37 group\n",
        "ax4 = plt.subplot(2, 4, 4)\n",
        "age_less_37 = df_stroke_v2_processed[df_stroke_v2_processed['age'] < 37]\n",
        "\n",
        "stroke_counts_less_37 = age_less_37['at_risk'].value_counts()\n",
        "counts_less_37 = [\n",
        "    stroke_counts_less_37.get(0, 0),  # No Stroke\n",
        "    stroke_counts_less_37.get(1, 0)   # Stroke\n",
        "]\n",
        "\n",
        "ax4.pie(counts_less_37, labels=['No Stroke', 'Stroke'],\n",
        "        autopct='%1.1f%%', startangle=90, colors=['lightblue', 'salmon'])\n",
        "ax4.set_title(f'Age < 37 Group\\n(n={len(age_less_37)} patients)')\n"
      ]
    },
    {
      "cell_type": "markdown",
      "metadata": {
        "id": "tquMNS1Hzkhz"
      },
      "source": [
        "Dai grafici si deduce che:\n",
        "\n",
        "* il **61.4%** dei pazienti con età maggiore o uguale alla mediana (37) appartengano alla classe positiva\n",
        "* solamente il **10.3%** dei pazienti con età inferiore alla mediana appartengono alla classe positiva\n",
        "\n",
        "La distribuzione della variabile `at_risk` è quindi fortemente sbilanciata e potrebbe essere alla base del **Data Leakage.**"
      ]
    },
    {
      "cell_type": "code",
      "execution_count": null,
      "metadata": {
        "colab": {
          "background_save": true
        },
        "id": "DiNXbYRiJuNW"
      },
      "outputs": [],
      "source": [
        "# Filter only stroke cases\n",
        "stroke_cases = df_stroke_v2_processed[df_stroke_v2_processed['at_risk'].astype(int) == 1]\n",
        "\n",
        "# Count stroke cases by age group\n",
        "stroke_counts_by_age = stroke_cases['age_group'].value_counts()\n",
        "print(stroke_counts_by_age)\n",
        "# Calculate percentages relative to total stroke cases\n",
        "stroke_percentages = (stroke_counts_by_age / stroke_counts_by_age.sum()) * 100\n",
        "\n",
        "# Plot\n",
        "plt.figure(figsize=(8, 6))\n",
        "bars = plt.bar(stroke_percentages.index, stroke_percentages.values, color=['salmon', 'lightblue'])\n",
        "plt.ylabel('Percentage of Total Stroke Cases (%)')\n",
        "plt.title('Distribution of Stroke Cases by Age Group')\n",
        "plt.ylim(0, 100)\n",
        "\n",
        "# Add percentage labels on bars\n",
        "for bar in bars:\n",
        "    height = bar.get_height()\n",
        "    plt.annotate(f'{height:.1f}%', xy=(bar.get_x() + bar.get_width() / 2, height),\n",
        "                 xytext=(0, 3), textcoords='offset points', ha='center', va='bottom')\n",
        "\n",
        "plt.show()\n",
        "\n",
        "df_stroke_v2_processed.drop(columns=['age_group'], inplace=True)"
      ]
    },
    {
      "cell_type": "markdown",
      "metadata": {
        "id": "7wLYvFX3erio"
      },
      "source": [
        "Lo sbilanciamento della classe positiva è reso ancora più chiaro da questo grafico.\n",
        "\n",
        "*   l'**86.6%** di tutti i pazienti con `at_risk=1` hanno età maggiore o uguale alla mediana\n",
        "*   solamente il 13.4% di tutti i pazienti con `at_risk=1` hanno età minore alla mediana\n",
        "\n",
        "Eliminare la colonna `age` potrebbe quindi essere la strada corretta da intraprendere."
      ]
    },
    {
      "cell_type": "code",
      "execution_count": null,
      "metadata": {
        "colab": {
          "background_save": true
        },
        "id": "VIY7OVNBWwCc"
      },
      "outputs": [],
      "source": [
        "plot_confusion_matrix(y_test_no_age, y_pred_no_age, 0.5)"
      ]
    },
    {
      "cell_type": "code",
      "execution_count": null,
      "metadata": {
        "colab": {
          "background_save": true
        },
        "id": "5UTMY1phauEU"
      },
      "outputs": [],
      "source": [
        "plot_roc_curve(y_test_no_age, y_pred_proba_no_age)"
      ]
    },
    {
      "cell_type": "markdown",
      "metadata": {
        "id": "lDqZMEJDEvDQ"
      },
      "source": [
        "### Valutazione del modello XGBoost\n",
        "\n",
        "| **Metrica**                  | **Valore** | **Interpretazione**                                                                                   |\n",
        "|------------------------------|-----------:|-----------------------------------------------------------------------------------------------------|\n",
        "| **AUC-ROC**                  | **0.94**   | Ottima capacità di discriminazione tra le classi, indice di un modello efficace nel distinguere casi positivi e negativi. |\n",
        "| **Accuracy**                 | **0.87**   | Accuratezza complessiva buona, nonostante un certo sbilanciamento tra le classi.                      |\n",
        "| **Classe 0**<br>(non-evento) | Precisione **0.86**<br>Recall **0.95**<br>F1-score **0.90** | Prestazioni molto solide nel riconoscere la classe maggioritaria, con alta capacità di identificare i veri negativi. |\n",
        "| **Classe 1**<br>(evento)      | Precisione **0.90**<br>Recall **0.72**<br>F1-score **0.80** | Buona precisione nella classe minoritaria, ma con un recall più basso che indica qualche falso negativo. |\n",
        "| **Macro avg**                | Precisione **0.88**<br>Recall **0.84**<br>F1-score **0.85** | Media non pesata che riflette un bilanciamento generale delle prestazioni tra le classi.               |\n",
        "| **Weighted avg**             | Precisione **0.87**<br>Recall **0.87**<br>F1-score **0.87** | Media pesata che rappresenta le prestazioni complessive, tenendo conto della distribuzione delle classi. |\n",
        "\n",
        "Il modello XGBoost mostra ottime capacità predittive con un buon compromesso tra precisione e richiamo, specialmente nella classe minoritaria, che è spesso critica nei problemi di classificazione sbilanciata.\n",
        "\n",
        "> **Conclusione:**  \n",
        "> Il modello fornisce una solida base di partenza per la classificazione del rischio di ictus, ma ulteriori ottimizzazioni o strategie di bilanciamento potrebbero migliorare la rilevazione della classe positiva.\n"
      ]
    },
    {
      "cell_type": "markdown",
      "metadata": {
        "id": "FdUJNK5aJfKJ"
      },
      "source": [
        "# Random Search"
      ]
    },
    {
      "cell_type": "markdown",
      "metadata": {
        "id": "AYXJQp15ynXh"
      },
      "source": [
        "Con lo scopo di migliorare ulteriormente il modello procedo all'ottimizzazione degli iper-parametri di XGBoost.\n",
        "\n",
        "\n",
        "*   **Random Search** → dato che Stroke Prediction Dataset V2 è più grande del precedente preferisco Random Search invece di Grid Search (anche per variare).\n",
        "*   **Nested Cross-Validatio** → per ottenere una valutazione migliore rispetto alla cross validation\n",
        "\n"
      ]
    },
    {
      "cell_type": "code",
      "execution_count": null,
      "metadata": {
        "colab": {
          "background_save": true
        },
        "id": "_N44yyhGtuuo"
      },
      "outputs": [],
      "source": [
        "from sklearn.model_selection import (\n",
        "    train_test_split, RandomizedSearchCV, StratifiedKFold, cross_val_score\n",
        ")\n",
        "from sklearn.preprocessing import LabelEncoder\n",
        "from sklearn.metrics import (\n",
        "    roc_auc_score, classification_report, confusion_matrix,\n",
        "    make_scorer, accuracy_score, precision_score, recall_score, f1_score\n",
        ")\n",
        "from xgboost import XGBClassifier\n",
        "from scipy.stats import uniform, randint\n",
        "import warnings\n",
        "warnings.filterwarnings('ignore')"
      ]
    },
    {
      "cell_type": "code",
      "execution_count": null,
      "metadata": {
        "colab": {
          "background_save": true
        },
        "id": "6s0U507ctpu9"
      },
      "outputs": [],
      "source": [
        "X_no_age_best = X.drop(columns=['age'])\n",
        "X_train_no_age_best, X_test_no_age_best, y_train_no_age_best, y_test_no_age_best = train_test_split(\n",
        "    X_no_age_best, y, test_size=0.2, stratify=y, random_state=42\n",
        ")"
      ]
    },
    {
      "cell_type": "markdown",
      "metadata": {
        "id": "w2dJ98eq7Dn0"
      },
      "source": [
        "Definizione della distribuzione dei parametri completa (distribuzione utilizzata anche successivamente)."
      ]
    },
    {
      "cell_type": "code",
      "execution_count": null,
      "metadata": {
        "colab": {
          "background_save": true
        },
        "id": "8AqOaX2AtxKG"
      },
      "outputs": [],
      "source": [
        "# Define parameter distributions for random search\n",
        "param_distributions = {\n",
        "    'n_estimators': randint(50, 500),\n",
        "    'max_depth': randint(3, 10),\n",
        "    'learning_rate': uniform(0.01, 0.29),\n",
        "    'subsample': uniform(0.6, 0.4),\n",
        "    'colsample_bytree': uniform(0.6, 0.4),\n",
        "    'colsample_bylevel': uniform(0.6, 0.4),\n",
        "    'reg_alpha': uniform(0, 2),\n",
        "    'reg_lambda': uniform(1, 3),\n",
        "    'min_child_weight': randint(1, 6),\n",
        "    'gamma': uniform(0, 0.5),\n",
        "    'scale_pos_weight': uniform(0.5, 1.5)\n",
        "}"
      ]
    },
    {
      "cell_type": "markdown",
      "metadata": {
        "id": "zNt9LD1DGSff"
      },
      "source": [
        "Definizione di una distribuzione dei parametri più corta nel caso in cui si voglia velocizzare l'esecuzione a discapito delle performance."
      ]
    },
    {
      "cell_type": "code",
      "execution_count": null,
      "metadata": {
        "colab": {
          "background_save": true
        },
        "id": "v1n_KpzPuJj5"
      },
      "outputs": [],
      "source": [
        "param_distributions_small = {\n",
        "    'n_estimators': randint(100, 300),\n",
        "    'max_depth': randint(3, 7),\n",
        "    'learning_rate': uniform(0.05, 0.25),\n",
        "    'subsample': uniform(0.7, 0.3),\n",
        "    'colsample_bytree': uniform(0.7, 0.3),\n",
        "    'reg_alpha': uniform(0, 1),\n",
        "    'reg_lambda': uniform(1, 2)\n",
        "}"
      ]
    },
    {
      "cell_type": "markdown",
      "metadata": {
        "id": "DW40b1xxGbu8"
      },
      "source": [
        "Dopo diverse prove la configurazione, *k-folds* e *numero di iterazioni,* con il **miglior trade/off** è risultata essere la seguente."
      ]
    },
    {
      "cell_type": "code",
      "execution_count": null,
      "metadata": {
        "colab": {
          "background_save": true
        },
        "id": "cjTlTE6AuQel"
      },
      "outputs": [],
      "source": [
        "k_folds = 5\n",
        "n_iter = 100"
      ]
    },
    {
      "cell_type": "markdown",
      "metadata": {
        "id": "UXGH9yPM8sJc"
      },
      "source": [
        "Definizione delle strategie di inner e outer cross-validation per la nested-CV.\n",
        "\n",
        "\n",
        "*   **inner_cv** → usata per il tuning degli iper-parametri nel training fold *(inner loop)*\n",
        "*   **outer_cv** → usata per l'evaluation finale del modello *(outer loop)*\n",
        "\n"
      ]
    },
    {
      "cell_type": "code",
      "execution_count": null,
      "metadata": {
        "colab": {
          "background_save": true
        },
        "id": "S4k6JAuZ77HD"
      },
      "outputs": [],
      "source": [
        "inner_cv = StratifiedKFold(n_splits=k_folds, shuffle=True, random_state=42)\n",
        "outer_cv = StratifiedKFold(n_splits=k_folds, shuffle=True, random_state=42)"
      ]
    },
    {
      "cell_type": "markdown",
      "metadata": {
        "id": "rCu0S4OF94of"
      },
      "source": [
        "Metriche di scoring."
      ]
    },
    {
      "cell_type": "code",
      "execution_count": null,
      "metadata": {
        "colab": {
          "background_save": true
        },
        "id": "q79wMIJWuTgd"
      },
      "outputs": [],
      "source": [
        "scoring = {\n",
        "    'f1': 'f1',\n",
        "   'recall': 'recall',\n",
        "    'auc': 'roc_auc',\n",
        "    'accuracy': 'accuracy',\n",
        "    'precision': 'precision'\n",
        "}"
      ]
    },
    {
      "cell_type": "markdown",
      "metadata": {
        "id": "7biwRWlc9_1P"
      },
      "source": [
        "Definizione della Random Search con **cv=inner_cv**."
      ]
    },
    {
      "cell_type": "code",
      "execution_count": null,
      "metadata": {
        "colab": {
          "background_save": true
        },
        "id": "7j7lesHeuk6g"
      },
      "outputs": [],
      "source": [
        "def perform_random_search(param_distributions, metric='f1'):\n",
        "  random_search = RandomizedSearchCV(\n",
        "      estimator=xgb_model,\n",
        "      param_distributions=param_distributions,\n",
        "      n_iter=n_iter,\n",
        "      cv=inner_cv,\n",
        "      scoring=metric,\n",
        "      n_jobs=-1,\n",
        "      verbose=1,\n",
        "      random_state=42,\n",
        "      return_train_score=True\n",
        "  )\n",
        "  return random_search\n",
        "\n",
        "random_search = perform_random_search(param_distributions)"
      ]
    },
    {
      "cell_type": "markdown",
      "metadata": {
        "id": "W0BqHSBN-MpI"
      },
      "source": [
        "Valutazione delle performance della random search.\n",
        "\n",
        "><font color=\"orange\">**Attenzione ⚠️:**</font> questa cella potrebbe impigare fino a 30 minuti per essere eseguita (GPU T4 Colab)."
      ]
    },
    {
      "cell_type": "code",
      "execution_count": null,
      "metadata": {
        "colab": {
          "background_save": true
        },
        "id": "CHe34qZKIyZV"
      },
      "outputs": [],
      "source": [
        "nested_scores = cross_val_score(\n",
        "    random_search,\n",
        "    X_no_age_best,\n",
        "    y,\n",
        "    cv=outer_cv,\n",
        "    scoring='f1',\n",
        "    n_jobs=-1,\n",
        "    verbose=1\n",
        ")"
      ]
    },
    {
      "cell_type": "markdown",
      "metadata": {
        "id": "8s_y5Xb2--Ai"
      },
      "source": [
        "Fit della random search."
      ]
    },
    {
      "cell_type": "markdown",
      "metadata": {
        "id": "5AvoXW-g5f1p"
      },
      "source": [
        "><font color=\"orange\">**Attenzione ⚠️:**</font> questa cella potrebbe impigare fino a 10 minuti per essere eseguita (GPU T4 Colab)."
      ]
    },
    {
      "cell_type": "code",
      "execution_count": null,
      "metadata": {
        "colab": {
          "background_save": true
        },
        "id": "3saX59IhMcAJ"
      },
      "outputs": [],
      "source": [
        "random_search.fit(X_no_age_best, y)"
      ]
    },
    {
      "cell_type": "markdown",
      "metadata": {
        "id": "QaLUiUmA4-3H"
      },
      "source": [
        "Si mostrano i risultai ottenuti dal modello, su dati non visti, durante la nested cross validation."
      ]
    },
    {
      "cell_type": "code",
      "execution_count": null,
      "metadata": {
        "colab": {
          "background_save": true
        },
        "id": "F1qwZ_pb4Mi_"
      },
      "outputs": [],
      "source": [
        "print(\"Nested CV F1 scores:\", nested_scores)\n",
        "print(f\"Mean F1 score: {np.mean(nested_scores):.4f}\")\n",
        "print(f\"Std deviation: {np.std(nested_scores):.4f}\")"
      ]
    },
    {
      "cell_type": "code",
      "execution_count": null,
      "metadata": {
        "colab": {
          "background_save": true
        },
        "id": "CM5wUQl45URo"
      },
      "outputs": [],
      "source": [
        "plt.boxplot(nested_scores, vert=False)\n",
        "plt.title(\"Nested CV F1 Scores\")\n",
        "plt.xlabel(\"F1 Score\")\n",
        "plt.show()"
      ]
    },
    {
      "cell_type": "markdown",
      "metadata": {
        "id": "nuQSnLKh8Clj"
      },
      "source": [
        "Il boxplot mostra la variabilità delle performance del modello misurate con il punteggio F1 durante le iterazioni dell'outer loop della Nested Cross-Validation.  \n",
        "\n",
        "- La mediana del punteggio F1 si attesta intorno a 0.8175, indicando una buona consistenza delle prestazioni.  \n",
        "- L’intervallo interquartile (IQR) è piuttosto stretto, segno di una bassa varianza tra i diversi fold.  \n",
        "- Non sono presenti outlier evidenti, suggerendo che il modello si comporta in modo stabile su tutti i subset testati.  \n",
        "\n",
        "Questi risultati confermano che il modello generalizza bene e che la fase di tuning è stata efficace."
      ]
    },
    {
      "cell_type": "code",
      "execution_count": null,
      "metadata": {
        "colab": {
          "background_save": true
        },
        "id": "VkUuwUkQwa-h"
      },
      "outputs": [],
      "source": [
        "y_pred = random_search.predict(X_test_no_age_best)\n",
        "y_pred_proba = random_search.predict_proba(X_test_no_age_best)\n",
        "\n",
        "d1, d2 = show_report(random_search, X_test_no_age_best, y_test_no_age_best)"
      ]
    },
    {
      "cell_type": "code",
      "execution_count": null,
      "metadata": {
        "colab": {
          "background_save": true
        },
        "id": "1GP6LU7bvrZW"
      },
      "outputs": [],
      "source": [
        "# Get the best model\n",
        "best_xgb = random_search.best_estimator_"
      ]
    },
    {
      "cell_type": "code",
      "execution_count": null,
      "metadata": {
        "colab": {
          "background_save": true
        },
        "id": "OdFrQz3vvv65"
      },
      "outputs": [],
      "source": [
        "resume, text, tab = find_best_thresholds(best_xgb, 'F1-score', 1, 100, X_test=X_test_no_age_best, y_test=y_test_no_age_best)"
      ]
    },
    {
      "cell_type": "markdown",
      "metadata": {
        "id": "fcIuKm-A9PKa"
      },
      "source": [
        "Per quanto riguarda la classe positivia si nota:\n",
        "\n",
        "*   **Recall, F1-Score** → lieve miglioramento\n",
        "*   **Precision** → lieve peggioramento\n",
        "\n",
        "Il modello non ha subito grossi cambiamenti rispetto alla `threshold=0.5`.\n",
        "\n"
      ]
    },
    {
      "cell_type": "markdown",
      "metadata": {
        "id": "wT6PD29vFdJJ"
      },
      "source": []
    },
    {
      "cell_type": "code",
      "execution_count": null,
      "metadata": {
        "colab": {
          "background_save": true
        },
        "id": "4YCR_FMQ_F5I"
      },
      "outputs": [],
      "source": [
        "plot_confusion_matrix(y_test_no_age_best, y_pred, 0.485)"
      ]
    },
    {
      "cell_type": "code",
      "execution_count": null,
      "metadata": {
        "colab": {
          "background_save": true
        },
        "id": "soFjQJfB_Lj0"
      },
      "outputs": [],
      "source": [
        "plot_roc_curve(y_test_no_age_best, y_pred_proba[:, 1])"
      ]
    },
    {
      "cell_type": "markdown",
      "metadata": {
        "id": "zVFon1QB_NBW"
      },
      "source": [
        "Confrontando la matrice di confusione e la curva roc appena ottenute con quella trovata in precedenza precedentemente a Random Search i risultati sono apprezzabili.\n",
        "Confrontando i due grafici:\n",
        "- <u>***Matrice di confusione***</u>\n",
        "  * **Veri Negativi** → da **95.4%** a **90.2%,** perdita di <font color='orange'>-5.2%</font>\n",
        "  * **Falsi Negativi** → da **27.7%%** a **18.5%,** diminuzione del <font color='green'>**-9.2%**</font>\n",
        "  * **Veri Positivi** → da **72.3%** a **81.5%,** aumento del <font color='green'>**+9.2%**</font>\n",
        "  * **Falsi Positivi** → da **4.6%** a **9.8%,** perdita di <font color='orange'>-5.2%</font>\n",
        "\n",
        "A fronte di un peggioremanto del 5.2% nel classificare i reali negativi, che ha portato ad un aumento dei falsi positivi del 5.2%, **il modello è migliorato del 9.2% a riconoscere i reali positivi.**\n",
        "Questo piccolo trade off è conveniente, soprattutto considerando l'ambito medico in cui opera il modello.\n",
        "\n",
        "- <u>***Curva Roc***</u>\n",
        "  * Area sotto la curva rimasta invariata\n",
        "  * L'area sotto la curva supera abbondantemente la soglia di <font color='yellow'>**0.80**</font>. Possiamo quindi concludere, <u>sempre tenendo in considerazione i valori non accettabili di Recall, F1-Score e Precision,</u> che la **capacità discriminativa** del modello trovato sia **molto buona.**"
      ]
    },
    {
      "cell_type": "markdown",
      "metadata": {
        "id": "elgYXkhrJf8n"
      },
      "source": [
        "Si può concludere come il modello prodotto presenti un livello di Recall, Precision e F1-Score accettabili e che, soprattutto considerando i risultati ottenuti con il primo dataset, posssa ritenermi soddisfatto."
      ]
    },
    {
      "cell_type": "markdown",
      "metadata": {
        "id": "47oOk4PWGvfw"
      },
      "source": [
        "### Suggerimenti per migliorare ulteriormente il modello\n",
        "\n",
        "Per migliorare ulteriormente le prestazioni del modello, si possono considerare le seguenti strategie:\n",
        "\n",
        "- **Feature Engineering Avanzato**  \n",
        "  Creare nuove feature o trasformare quelle esistenti per rendere le informazioni più esplicite e utili al modello.\n",
        "\n",
        "- **Bilanciamento del Dataset**  \n",
        "  Utilizzare tecniche come **SMOTE**, **undersampling** o **oversampling** per bilanciare la distribuzione delle classi, riducendo il bias verso la classe maggioritaria.\n",
        "\n",
        "- **Tuning Iperparametri più Esteso**  \n",
        "  Ampliare lo spazio di ricerca con metodi come **Bayesian Optimization** o aumentare il numero di iterazioni nel Random Search.\n",
        "\n",
        "- **Ensembling**  \n",
        "  Combinare più modelli (es. XGBoost, CatBoost, LightGBM) tramite **voting**, **stacking** o **bagging** per migliorare robustezza e generalizzazione.\n",
        "\n",
        "- **Utilizzo di Modelli Deep Learning**  \n",
        "  Se i dati lo consentono, provare modelli basati su reti neurali, soprattutto se ci sono feature complesse o dati non strutturati.\n",
        "\n",
        "- **Cross-Validation più Granulare**  \n",
        "  Usare tecniche di cross-validation più robuste o stratificate per assicurare una valutazione più stabile.\n"
      ]
    },
    {
      "cell_type": "markdown",
      "metadata": {
        "id": "_19uswmnHTG3"
      },
      "source": [
        "# Considerazioni finali sul progetto"
      ]
    },
    {
      "cell_type": "markdown",
      "metadata": {
        "id": "o2yU1tj2HWQq"
      },
      "source": [
        "Mi ritengo molto soddisfatto del progetto appena concluso: nonostante le difficoltà incontrate, sono riuscito a produrre, in entrambi i casi, un modello accettabile, considerando le problematiche dei dataset di partenza.\n",
        "\n",
        "Ritengo che, come già specificato, ci siano margini, più o meno ampi, per migliorare ulteriormente i modelli di classificazione.\n",
        "\n",
        "Mi sarebbe piaciuto implementare anche un meccanismo di generazione dei dati (nel training set) utilizzando un LLM, che sarebbe stato particolarmente utile per aumentare le istanze della classe positiva nel primo dataset, cercando così di contenere ulteriormente lo sbilanciamento. Tuttavia, ho deciso di non intraprendere questa strada a causa della presenza di numerose feature numeriche nel dataset Stroke Prediction, che avrebbero richiesto lunghe e attente verifiche successive alla generazione, portando a un notebook probabilmente troppo vasto.\n",
        "\n",
        "Spero comunque di trovare il tempo necessario per implementare questa funzionalità in futuro."
      ]
    }
  ],
  "metadata": {
    "accelerator": "GPU",
    "colab": {
      "gpuType": "T4",
      "provenance": [],
      "include_colab_link": true
    },
    "kernelspec": {
      "display_name": "Python 3",
      "name": "python3"
    },
    "language_info": {
      "name": "python"
    }
  },
  "nbformat": 4,
  "nbformat_minor": 0
}